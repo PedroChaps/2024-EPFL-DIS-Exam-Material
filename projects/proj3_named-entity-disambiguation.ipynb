{
 "cells": [
  {
   "cell_type": "markdown",
   "id": "82e27251",
   "metadata": {
    "papermill": {
     "duration": 0.003997,
     "end_time": "2023-12-23T16:10:31.323297",
     "exception": false,
     "start_time": "2023-12-23T16:10:31.319300",
     "status": "completed"
    },
    "tags": []
   },
   "source": [
    "# Named Entity Disambiguation\n",
    "## 1. Preparation\n",
    "First we import everything that we need."
   ]
  },
  {
   "cell_type": "code",
   "execution_count": 1,
   "id": "771a1f56",
   "metadata": {
    "_cell_guid": "b1076dfc-b9ad-4769-8c92-a6c4dae69d19",
    "_uuid": "8f2839f25d086af736a60e9eeb907d3b93b6e0e5",
    "execution": {
     "iopub.execute_input": "2023-12-23T16:10:31.331626Z",
     "iopub.status.busy": "2023-12-23T16:10:31.331355Z",
     "iopub.status.idle": "2023-12-23T16:10:44.061857Z",
     "shell.execute_reply": "2023-12-23T16:10:44.061055Z"
    },
    "papermill": {
     "duration": 12.737109,
     "end_time": "2023-12-23T16:10:44.064178",
     "exception": false,
     "start_time": "2023-12-23T16:10:31.327069",
     "status": "completed"
    },
    "tags": []
   },
   "outputs": [
    {
     "name": "stderr",
     "output_type": "stream",
     "text": [
      "/opt/conda/lib/python3.10/site-packages/scipy/__init__.py:146: UserWarning: A NumPy version >=1.16.5 and <1.23.0 is required for this version of SciPy (detected version 1.24.3\n",
      "  warnings.warn(f\"A NumPy version >={np_minversion} and <{np_maxversion}\"\n"
     ]
    }
   ],
   "source": [
    "# !pip install -U numpy\n",
    "import numpy as np\n",
    "import math\n",
    "import pandas as pd\n",
    "import os\n",
    "import spacy"
   ]
  },
  {
   "cell_type": "markdown",
   "id": "2a306d97",
   "metadata": {
    "papermill": {
     "duration": 0.003514,
     "end_time": "2023-12-23T16:10:44.071698",
     "exception": false,
     "start_time": "2023-12-23T16:10:44.068184",
     "status": "completed"
    },
    "tags": []
   },
   "source": [
    "We then also define all file-names for input and output"
   ]
  },
  {
   "cell_type": "code",
   "execution_count": 2,
   "id": "89c2227c",
   "metadata": {
    "execution": {
     "iopub.execute_input": "2023-12-23T16:10:44.080770Z",
     "iopub.status.busy": "2023-12-23T16:10:44.080214Z",
     "iopub.status.idle": "2023-12-23T16:10:44.086942Z",
     "shell.execute_reply": "2023-12-23T16:10:44.086098Z"
    },
    "papermill": {
     "duration": 0.013585,
     "end_time": "2023-12-23T16:10:44.089014",
     "exception": false,
     "start_time": "2023-12-23T16:10:44.075429",
     "status": "completed"
    },
    "tags": []
   },
   "outputs": [],
   "source": [
    "# directories\n",
    "MAIN_DIR = '/kaggle'\n",
    "INPUT_DIR = MAIN_DIR + '/input'\n",
    "WORKING_DIR = MAIN_DIR + '/working'\n",
    "DATA_DIR = INPUT_DIR + '/dis-project-3-named-entity-disambiguation'\n",
    "WIKI_LITE = DATA_DIR + '/wiki_lite'\n",
    "\n",
    "# general input files\n",
    "TEST_DATA = DATA_DIR + '/test.csv'\n",
    "TRAIN_DATA = DATA_DIR + '/train.csv'\n",
    "SAMPLE_SUBMISSION = DATA_DIR + '/sample_submission.csv'\n",
    "\n",
    "PREPROCESSED_LABELS = WORKING_DIR + '/preprocessed_labels.txt'\n",
    "\n",
    "# wiki-lite input files\n",
    "REDIRECTS = WIKI_LITE + '/enwiki_redirects.tsv'\n",
    "ALIASES = WIKI_LITE + '/item_aliases.csv'\n",
    "PROPERTIES = WIKI_LITE + '/property.csv'\n",
    "STATEMENTS = WIKI_LITE + '/statements.csv'\n",
    "ITEMS = WIKI_LITE + '/wiki_items.csv'\n",
    "\n",
    "# OUTPUT FILES\n",
    "EMBEDDINGS = WORKING_DIR + '/embeddings.csv'\n",
    "SUBMISSION = WORKING_DIR + '/submission.csv'"
   ]
  },
  {
   "cell_type": "markdown",
   "id": "903b4052",
   "metadata": {
    "papermill": {
     "duration": 0.003452,
     "end_time": "2023-12-23T16:10:44.096316",
     "exception": false,
     "start_time": "2023-12-23T16:10:44.092864",
     "status": "completed"
    },
    "tags": []
   },
   "source": [
    "Next, we read all data from the input files and parse it into a usable format."
   ]
  },
  {
   "cell_type": "code",
   "execution_count": 3,
   "id": "0e383368",
   "metadata": {
    "execution": {
     "iopub.execute_input": "2023-12-23T16:10:44.104743Z",
     "iopub.status.busy": "2023-12-23T16:10:44.104464Z",
     "iopub.status.idle": "2023-12-23T16:11:29.755774Z",
     "shell.execute_reply": "2023-12-23T16:11:29.754868Z"
    },
    "papermill": {
     "duration": 45.663017,
     "end_time": "2023-12-23T16:11:29.762960",
     "exception": false,
     "start_time": "2023-12-23T16:10:44.099943",
     "status": "completed"
    },
    "tags": []
   },
   "outputs": [
    {
     "name": "stdout",
     "output_type": "stream",
     "text": [
      "CPU times: user 28.8 s, sys: 2.73 s, total: 31.5 s\n",
      "Wall time: 45.6 s\n"
     ]
    }
   ],
   "source": [
    "%%time\n",
    "# read raw inputs\n",
    "testdata_raw = pd.read_csv(TEST_DATA)\n",
    "traindata_raw = pd.read_csv(TRAIN_DATA)\n",
    "samplesubmission_raw = pd.read_csv(SAMPLE_SUBMISSION)\n",
    "redirect_raw = pd.read_csv(REDIRECTS, sep='\\t')\n",
    "alias_raw = pd.read_csv(ALIASES)\n",
    "properties_raw = pd.read_csv(PROPERTIES)\n",
    "statements_raw = pd.read_csv(STATEMENTS)\n",
    "items_raw = pd.read_csv(ITEMS)\n",
    "\n",
    "# Note: takes around 55s"
   ]
  },
  {
   "cell_type": "code",
   "execution_count": 4,
   "id": "6c7b7c14",
   "metadata": {
    "execution": {
     "iopub.execute_input": "2023-12-23T16:11:29.774766Z",
     "iopub.status.busy": "2023-12-23T16:11:29.774460Z",
     "iopub.status.idle": "2023-12-23T16:12:15.065343Z",
     "shell.execute_reply": "2023-12-23T16:12:15.064411Z"
    },
    "papermill": {
     "duration": 45.303009,
     "end_time": "2023-12-23T16:12:15.071259",
     "exception": false,
     "start_time": "2023-12-23T16:11:29.768250",
     "status": "completed"
    },
    "tags": []
   },
   "outputs": [
    {
     "name": "stdout",
     "output_type": "stream",
     "text": [
      "CPU times: user 42.4 s, sys: 3 s, total: 45.4 s\n",
      "Wall time: 45.3 s\n"
     ]
    }
   ],
   "source": [
    "%%time\n",
    "# parse inputs into better formats\n",
    "redirect_data = dict()\n",
    "for k, v in redirect_raw.values.tolist():\n",
    "    redirect_data[k] = v\n",
    "\n",
    "alias_data = dict()\n",
    "for idx, name in alias_raw.values.tolist():\n",
    "    name = str(name).lower()\n",
    "    if name not in alias_data:\n",
    "        alias_data[name] = []\n",
    "    alias_data[name].append(idx)\n",
    "\n",
    "item_data = dict()\n",
    "for idx, label, desc, title in items_raw.values.tolist():\n",
    "    # add to item data\n",
    "    item_data[idx] = {'label': str(label), 'title': str(title), 'description': str(desc)}\n",
    "    \n",
    "    # add label alias\n",
    "    name = str(label).lower()\n",
    "    if name not in alias_data:\n",
    "        alias_data[name] = []\n",
    "    alias_data[name].append(idx)\n",
    "    \n",
    "    # add title alias\n",
    "    name = str(title).lower()\n",
    "    if name not in alias_data:\n",
    "        alias_data[name] = []\n",
    "    alias_data[name] = [idx] + alias_data[name]\n",
    "\n",
    "# Note: takes around 54s"
   ]
  },
  {
   "cell_type": "markdown",
   "id": "9f48c983",
   "metadata": {
    "papermill": {
     "duration": 0.003631,
     "end_time": "2023-12-23T16:12:15.078754",
     "exception": false,
     "start_time": "2023-12-23T16:12:15.075123",
     "status": "completed"
    },
    "tags": []
   },
   "source": [
    "## 3. Testing & Creating Submission File"
   ]
  },
  {
   "cell_type": "markdown",
   "id": "f9c45ef9",
   "metadata": {
    "papermill": {
     "duration": 0.004171,
     "end_time": "2023-12-23T16:12:15.086905",
     "exception": false,
     "start_time": "2023-12-23T16:12:15.082734",
     "status": "completed"
    },
    "tags": []
   },
   "source": [
    "---\n",
    "\n",
    "### Idea 2 - with Train Data as input"
   ]
  },
  {
   "cell_type": "code",
   "execution_count": 5,
   "id": "d666b6ae",
   "metadata": {
    "execution": {
     "iopub.execute_input": "2023-12-23T16:12:15.096577Z",
     "iopub.status.busy": "2023-12-23T16:12:15.096232Z",
     "iopub.status.idle": "2023-12-23T16:12:15.417712Z",
     "shell.execute_reply": "2023-12-23T16:12:15.416699Z"
    },
    "papermill": {
     "duration": 0.331152,
     "end_time": "2023-12-23T16:12:15.422179",
     "exception": false,
     "start_time": "2023-12-23T16:12:15.091027",
     "status": "completed"
    },
    "tags": []
   },
   "outputs": [
    {
     "data": {
      "application/vnd.jupyter.widget-view+json": {
       "model_id": "bd4d644eeaf6433086c4732117dce3ec",
       "version_major": 2,
       "version_minor": 0
      },
      "text/plain": [
       "  0%|          | 0/218505 [00:00<?, ?it/s]"
      ]
     },
     "metadata": {},
     "output_type": "display_data"
    },
    {
     "name": "stdout",
     "output_type": "stream",
     "text": [
      "7550\n",
      "CPU times: user 296 ms, sys: 21.1 ms, total: 317 ms\n",
      "Wall time: 314 ms\n"
     ]
    }
   ],
   "source": [
    "%%time\n",
    "# Aditionally reads and processes the train data\n",
    "# It is then used with a higher priority (ie. if a mention is in the train data, \n",
    "#  then choses it over a random Title\n",
    "\n",
    "from tqdm import tqdm\n",
    "from tqdm.auto import tqdm # For the progress bar\n",
    "\n",
    "mention_to_url = {}\n",
    "for _, __, ___, full_mention, wiki_url in tqdm(traindata_raw.values.tolist()):\n",
    "    if isinstance(full_mention, float) or isinstance(wiki_url, float):\n",
    "        continue\n",
    "    mention_to_url[full_mention.lower()] = wiki_url\n",
    "\n",
    "print(len(mention_to_url))\n",
    "# _ = [print(key, ':', value) for idx, (key, value) in enumerate(mention_to_url.items()) if idx < 100]"
   ]
  },
  {
   "cell_type": "code",
   "execution_count": 6,
   "id": "b220c32b",
   "metadata": {
    "execution": {
     "iopub.execute_input": "2023-12-23T16:12:15.432228Z",
     "iopub.status.busy": "2023-12-23T16:12:15.431932Z",
     "iopub.status.idle": "2023-12-23T16:12:15.576180Z",
     "shell.execute_reply": "2023-12-23T16:12:15.575084Z"
    },
    "papermill": {
     "duration": 0.151623,
     "end_time": "2023-12-23T16:12:15.578450",
     "exception": false,
     "start_time": "2023-12-23T16:12:15.426827",
     "status": "completed"
    },
    "tags": []
   },
   "outputs": [
    {
     "name": "stdout",
     "output_type": "stream",
     "text": [
      "len(testdata_raw.values) = 104890\n",
      "CPU times: user 124 ms, sys: 11.9 ms, total: 136 ms\n",
      "Wall time: 135 ms\n"
     ]
    }
   ],
   "source": [
    "%%time\n",
    "def redirect(s):\n",
    "    if s in redirect_data:\n",
    "        return redirect_data[s]\n",
    "    return s\n",
    "\n",
    "def wiki_url_from_title(s):\n",
    "    return 'http://en.wikipedia.org/wiki/' + s.replace(' ', '_')\n",
    "\n",
    "\n",
    "def getUrl(token, mention):\n",
    "\n",
    "    # Checks the train data\n",
    "    if mention.lower() in mention_to_url:\n",
    "        return mention_to_url[mention.lower()]\n",
    "    \n",
    "    possible_indices = []\n",
    "    if mention.lower() in alias_data:\n",
    "        possible_indices = alias_data[mention.lower()]\n",
    "\n",
    "    if len(possible_indices) == 0:\n",
    "        return \"NOT_FOUND\"\n",
    "\n",
    "    titles = sorted([item_data[idx]['title'] for idx in possible_indices], key=len)\n",
    "    \n",
    "    # TODO: which index is \"the best\"?\n",
    "    title = titles[0]\n",
    "    \n",
    "    title = redirect(title)\n",
    "    return wiki_url_from_title(title)\n",
    "\n",
    "submission = []\n",
    "for idx, token, tag, mention, url in testdata_raw.values.tolist():\n",
    "    if url == '?':\n",
    "        submission.append((idx, getUrl(token, mention)))\n",
    "    else:\n",
    "        submission.append((idx, \"NOT_FOUND\"))\n",
    "        \n",
    "print(f\"{len(testdata_raw.values) = }\")"
   ]
  },
  {
   "cell_type": "code",
   "execution_count": 7,
   "id": "17f31747",
   "metadata": {
    "execution": {
     "iopub.execute_input": "2023-12-23T16:12:15.588605Z",
     "iopub.status.busy": "2023-12-23T16:12:15.588331Z",
     "iopub.status.idle": "2023-12-23T16:12:15.641443Z",
     "shell.execute_reply": "2023-12-23T16:12:15.640727Z"
    },
    "papermill": {
     "duration": 0.060552,
     "end_time": "2023-12-23T16:12:15.643410",
     "exception": false,
     "start_time": "2023-12-23T16:12:15.582858",
     "status": "completed"
    },
    "tags": []
   },
   "outputs": [],
   "source": [
    "# create submission\n",
    "def generate_submission(submission_data) -> None:\n",
    "    f = open(SUBMISSION, 'w')\n",
    "    f.write(\"id,wiki_url\\n\")\n",
    "    for idx, url in submission_data:\n",
    "        f.write(f\"{idx},\\\"{url}\\\"\\n\")\n",
    "    f.close()\n",
    "generate_submission(submission)"
   ]
  }
 ],
 "metadata": {
  "kaggle": {
   "accelerator": "nvidiaTeslaT4",
   "dataSources": [
    {
     "databundleVersionId": 7121804,
     "sourceId": 64415,
     "sourceType": "competition"
    }
   ],
   "dockerImageVersionId": 30587,
   "isGpuEnabled": true,
   "isInternetEnabled": true,
   "language": "python",
   "sourceType": "notebook"
  },
  "kernelspec": {
   "display_name": "Python 3",
   "language": "python",
   "name": "python3"
  },
  "language_info": {
   "codemirror_mode": {
    "name": "ipython",
    "version": 3
   },
   "file_extension": ".py",
   "mimetype": "text/x-python",
   "name": "python",
   "nbconvert_exporter": "python",
   "pygments_lexer": "ipython3",
   "version": "3.10.12"
  },
  "papermill": {
   "default_parameters": {},
   "duration": 111.861383,
   "end_time": "2023-12-23T16:12:18.566838",
   "environment_variables": {},
   "exception": null,
   "input_path": "__notebook__.ipynb",
   "output_path": "__notebook__.ipynb",
   "parameters": {},
   "start_time": "2023-12-23T16:10:26.705455",
   "version": "2.4.0"
  },
  "widgets": {
   "application/vnd.jupyter.widget-state+json": {
    "state": {
     "028f1ead6f7a46ed9eec049ad81a92ac": {
      "model_module": "@jupyter-widgets/controls",
      "model_module_version": "1.5.0",
      "model_name": "DescriptionStyleModel",
      "state": {
       "_model_module": "@jupyter-widgets/controls",
       "_model_module_version": "1.5.0",
       "_model_name": "DescriptionStyleModel",
       "_view_count": null,
       "_view_module": "@jupyter-widgets/base",
       "_view_module_version": "1.2.0",
       "_view_name": "StyleView",
       "description_width": ""
      }
     },
     "05e88532fbf74626a0b5206b75e523b7": {
      "model_module": "@jupyter-widgets/controls",
      "model_module_version": "1.5.0",
      "model_name": "ProgressStyleModel",
      "state": {
       "_model_module": "@jupyter-widgets/controls",
       "_model_module_version": "1.5.0",
       "_model_name": "ProgressStyleModel",
       "_view_count": null,
       "_view_module": "@jupyter-widgets/base",
       "_view_module_version": "1.2.0",
       "_view_name": "StyleView",
       "bar_color": null,
       "description_width": ""
      }
     },
     "180518e714af4ad6a25702bbb30e948a": {
      "model_module": "@jupyter-widgets/controls",
      "model_module_version": "1.5.0",
      "model_name": "DescriptionStyleModel",
      "state": {
       "_model_module": "@jupyter-widgets/controls",
       "_model_module_version": "1.5.0",
       "_model_name": "DescriptionStyleModel",
       "_view_count": null,
       "_view_module": "@jupyter-widgets/base",
       "_view_module_version": "1.2.0",
       "_view_name": "StyleView",
       "description_width": ""
      }
     },
     "19e6340acfa44a9188309d886611bc98": {
      "model_module": "@jupyter-widgets/base",
      "model_module_version": "1.2.0",
      "model_name": "LayoutModel",
      "state": {
       "_model_module": "@jupyter-widgets/base",
       "_model_module_version": "1.2.0",
       "_model_name": "LayoutModel",
       "_view_count": null,
       "_view_module": "@jupyter-widgets/base",
       "_view_module_version": "1.2.0",
       "_view_name": "LayoutView",
       "align_content": null,
       "align_items": null,
       "align_self": null,
       "border": null,
       "bottom": null,
       "display": null,
       "flex": null,
       "flex_flow": null,
       "grid_area": null,
       "grid_auto_columns": null,
       "grid_auto_flow": null,
       "grid_auto_rows": null,
       "grid_column": null,
       "grid_gap": null,
       "grid_row": null,
       "grid_template_areas": null,
       "grid_template_columns": null,
       "grid_template_rows": null,
       "height": null,
       "justify_content": null,
       "justify_items": null,
       "left": null,
       "margin": null,
       "max_height": null,
       "max_width": null,
       "min_height": null,
       "min_width": null,
       "object_fit": null,
       "object_position": null,
       "order": null,
       "overflow": null,
       "overflow_x": null,
       "overflow_y": null,
       "padding": null,
       "right": null,
       "top": null,
       "visibility": null,
       "width": null
      }
     },
     "226ade2d9c9f4e1b80afba644fed3035": {
      "model_module": "@jupyter-widgets/base",
      "model_module_version": "1.2.0",
      "model_name": "LayoutModel",
      "state": {
       "_model_module": "@jupyter-widgets/base",
       "_model_module_version": "1.2.0",
       "_model_name": "LayoutModel",
       "_view_count": null,
       "_view_module": "@jupyter-widgets/base",
       "_view_module_version": "1.2.0",
       "_view_name": "LayoutView",
       "align_content": null,
       "align_items": null,
       "align_self": null,
       "border": null,
       "bottom": null,
       "display": null,
       "flex": null,
       "flex_flow": null,
       "grid_area": null,
       "grid_auto_columns": null,
       "grid_auto_flow": null,
       "grid_auto_rows": null,
       "grid_column": null,
       "grid_gap": null,
       "grid_row": null,
       "grid_template_areas": null,
       "grid_template_columns": null,
       "grid_template_rows": null,
       "height": null,
       "justify_content": null,
       "justify_items": null,
       "left": null,
       "margin": null,
       "max_height": null,
       "max_width": null,
       "min_height": null,
       "min_width": null,
       "object_fit": null,
       "object_position": null,
       "order": null,
       "overflow": null,
       "overflow_x": null,
       "overflow_y": null,
       "padding": null,
       "right": null,
       "top": null,
       "visibility": null,
       "width": null
      }
     },
     "3815d3902e864c179203a45e95f75230": {
      "model_module": "@jupyter-widgets/base",
      "model_module_version": "1.2.0",
      "model_name": "LayoutModel",
      "state": {
       "_model_module": "@jupyter-widgets/base",
       "_model_module_version": "1.2.0",
       "_model_name": "LayoutModel",
       "_view_count": null,
       "_view_module": "@jupyter-widgets/base",
       "_view_module_version": "1.2.0",
       "_view_name": "LayoutView",
       "align_content": null,
       "align_items": null,
       "align_self": null,
       "border": null,
       "bottom": null,
       "display": null,
       "flex": null,
       "flex_flow": null,
       "grid_area": null,
       "grid_auto_columns": null,
       "grid_auto_flow": null,
       "grid_auto_rows": null,
       "grid_column": null,
       "grid_gap": null,
       "grid_row": null,
       "grid_template_areas": null,
       "grid_template_columns": null,
       "grid_template_rows": null,
       "height": null,
       "justify_content": null,
       "justify_items": null,
       "left": null,
       "margin": null,
       "max_height": null,
       "max_width": null,
       "min_height": null,
       "min_width": null,
       "object_fit": null,
       "object_position": null,
       "order": null,
       "overflow": null,
       "overflow_x": null,
       "overflow_y": null,
       "padding": null,
       "right": null,
       "top": null,
       "visibility": null,
       "width": null
      }
     },
     "76cc2a90105048058b067e6164ff6f21": {
      "model_module": "@jupyter-widgets/controls",
      "model_module_version": "1.5.0",
      "model_name": "FloatProgressModel",
      "state": {
       "_dom_classes": [],
       "_model_module": "@jupyter-widgets/controls",
       "_model_module_version": "1.5.0",
       "_model_name": "FloatProgressModel",
       "_view_count": null,
       "_view_module": "@jupyter-widgets/controls",
       "_view_module_version": "1.5.0",
       "_view_name": "ProgressView",
       "bar_style": "success",
       "description": "",
       "description_tooltip": null,
       "layout": "IPY_MODEL_81f40096bc294a73bc15ad6c1ae55850",
       "max": 218505.0,
       "min": 0.0,
       "orientation": "horizontal",
       "style": "IPY_MODEL_05e88532fbf74626a0b5206b75e523b7",
       "value": 218505.0
      }
     },
     "81f40096bc294a73bc15ad6c1ae55850": {
      "model_module": "@jupyter-widgets/base",
      "model_module_version": "1.2.0",
      "model_name": "LayoutModel",
      "state": {
       "_model_module": "@jupyter-widgets/base",
       "_model_module_version": "1.2.0",
       "_model_name": "LayoutModel",
       "_view_count": null,
       "_view_module": "@jupyter-widgets/base",
       "_view_module_version": "1.2.0",
       "_view_name": "LayoutView",
       "align_content": null,
       "align_items": null,
       "align_self": null,
       "border": null,
       "bottom": null,
       "display": null,
       "flex": null,
       "flex_flow": null,
       "grid_area": null,
       "grid_auto_columns": null,
       "grid_auto_flow": null,
       "grid_auto_rows": null,
       "grid_column": null,
       "grid_gap": null,
       "grid_row": null,
       "grid_template_areas": null,
       "grid_template_columns": null,
       "grid_template_rows": null,
       "height": null,
       "justify_content": null,
       "justify_items": null,
       "left": null,
       "margin": null,
       "max_height": null,
       "max_width": null,
       "min_height": null,
       "min_width": null,
       "object_fit": null,
       "object_position": null,
       "order": null,
       "overflow": null,
       "overflow_x": null,
       "overflow_y": null,
       "padding": null,
       "right": null,
       "top": null,
       "visibility": null,
       "width": null
      }
     },
     "bd4d644eeaf6433086c4732117dce3ec": {
      "model_module": "@jupyter-widgets/controls",
      "model_module_version": "1.5.0",
      "model_name": "HBoxModel",
      "state": {
       "_dom_classes": [],
       "_model_module": "@jupyter-widgets/controls",
       "_model_module_version": "1.5.0",
       "_model_name": "HBoxModel",
       "_view_count": null,
       "_view_module": "@jupyter-widgets/controls",
       "_view_module_version": "1.5.0",
       "_view_name": "HBoxView",
       "box_style": "",
       "children": [
        "IPY_MODEL_d93c426a51494ff4aa69c9f92f86c220",
        "IPY_MODEL_76cc2a90105048058b067e6164ff6f21",
        "IPY_MODEL_e37f5778dfbc4c67995b25b79f9180a2"
       ],
       "layout": "IPY_MODEL_19e6340acfa44a9188309d886611bc98"
      }
     },
     "d93c426a51494ff4aa69c9f92f86c220": {
      "model_module": "@jupyter-widgets/controls",
      "model_module_version": "1.5.0",
      "model_name": "HTMLModel",
      "state": {
       "_dom_classes": [],
       "_model_module": "@jupyter-widgets/controls",
       "_model_module_version": "1.5.0",
       "_model_name": "HTMLModel",
       "_view_count": null,
       "_view_module": "@jupyter-widgets/controls",
       "_view_module_version": "1.5.0",
       "_view_name": "HTMLView",
       "description": "",
       "description_tooltip": null,
       "layout": "IPY_MODEL_3815d3902e864c179203a45e95f75230",
       "placeholder": "​",
       "style": "IPY_MODEL_180518e714af4ad6a25702bbb30e948a",
       "value": "100%"
      }
     },
     "e37f5778dfbc4c67995b25b79f9180a2": {
      "model_module": "@jupyter-widgets/controls",
      "model_module_version": "1.5.0",
      "model_name": "HTMLModel",
      "state": {
       "_dom_classes": [],
       "_model_module": "@jupyter-widgets/controls",
       "_model_module_version": "1.5.0",
       "_model_name": "HTMLModel",
       "_view_count": null,
       "_view_module": "@jupyter-widgets/controls",
       "_view_module_version": "1.5.0",
       "_view_name": "HTMLView",
       "description": "",
       "description_tooltip": null,
       "layout": "IPY_MODEL_226ade2d9c9f4e1b80afba644fed3035",
       "placeholder": "​",
       "style": "IPY_MODEL_028f1ead6f7a46ed9eec049ad81a92ac",
       "value": " 218505/218505 [00:00&lt;00:00, 994644.03it/s]"
      }
     }
    },
    "version_major": 2,
    "version_minor": 0
   }
  }
 },
 "nbformat": 4,
 "nbformat_minor": 5
}
