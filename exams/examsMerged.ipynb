{
 "cells": [
  {
   "cell_type": "markdown",
   "metadata": {},
   "source": [
    "# Distributed Information Systems\n",
    "### Prof. Karl Aberer <br> Final Exam, Spring Semester 2018\n",
    "\n",
    "The following materials are allowed: exercise sheets\n",
    "and solutions, past exams with your own solution, personally written notes and personally collected documentation.\n",
    "  \n",
    "The exam will be held on your computer, but digital communication by any means is strictly prohibited. You are not allowed to use any form of Web browsing, except to connect to Moodle and to download and upload the exam. By participating to this exam you agree to these conditions.\n",
    "\n",
    "These are the instructions for the exam:\n",
    "1. You are not allowed to leave the examination room in the first 20 and the last 15 minutes of the exam.\n",
    "* We will publish 15 minutes before the end of the exam a password for uploading your solutions on Moodle.\n",
    "* It is not recommended to leave the exam before the password is published. If you need to leave earlier contact us."
   ]
  },
  {
   "cell_type": "markdown",
   "metadata": {},
   "source": [
    "# Question 1: Multiple Choice Questions\n",
    "\n",
    "Answer the [multiple choice questions in Moodle](https://moodle.epfl.ch/mod/quiz/view.php?id=988129) as in the quizzes.\n",
    "\n",
    "The password for answering the quiz is: **wBHNcJZd**."
   ]
  },
  {
   "cell_type": "markdown",
   "metadata": {},
   "source": [
    "# Question 2: User Classification in Social Networks"
   ]
  },
  {
   "cell_type": "markdown",
   "metadata": {},
   "source": [
    "Assume we would like to identify Twitter user accounts $T$ that have interest in Swiss universities.\n",
    "\n",
    "Given that we have no training data, we analyse the social relationships of those users.\n",
    "\n",
    "More specifically, we consider that users that follow an Twitter account $S$ related to a Swiss University (e.g. @EPFL, @EPFL\\_en, @ETHZ etc.) show interest for Swiss universities. We assume that $S$ and $T$ are disjoint. We capture the follower relationship in a matrix $F$, where an entry $f_{ij} = 1$ indicates a follower link from user account $i\\in T$ to university account $j\\in S$. Otherwise the entry is zero.\n",
    "\n",
    "We would like to assess the level of interest of users into Swiss universities by using two methods:\n",
    "1. The HITS algorithm, where we consider the Swiss university accounts as authorities and the users we intend to classify as hubs. A high hub value $t_i$ for user $i\\in T$ should indicate a high level of interest in Swiss universities, a high authority value $s_j$ indicates that university account $j\\in S$ is a good indicator for interest in Swiss universities.\n",
    "2. The EM algorithm, where we consider the existence of a follower link from a user to a Swiss university account as a positive feedback given that university account on the interest of the user , and the absence of such a link as negative feedback (i.e. we consider the university accounts like experts and the users like the item to be evaluated). A high level of positive feedback $t_i$ for user $i\\in T$ indicates interest in Swiss universities, and a high expertise value $s_j$ indicates that university account $j\\in S$ is a good indicator for interest in Swiss universities.\n",
    "\n",
    "### Questions\n",
    "\n",
    "1) Formulate the two algorithms (HITS and EM) using the following patterns for a recursive computation of $t$ and $s$\n",
    "\n",
    "HITS:  $\\vec{t}_{k+1} = r_1  M_1. \\vec{v_1},\\ \\vec{s}_{k+1} = r_2  M_2 . \\vec{v_2}$\n",
    "\n",
    "EM:    $\\vec{t}_{k+1} = r_3  M_3 . \\vec{v_3},\\ \\vec{s}_{k+1} = r_4 (M_4.\\vec{v_4} + M_5.\\vec{v_5})$\n",
    "\n",
    "$\\vec{t}=(t_1,\\ldots,t_n)$ and $\\vec{s}=(s_1,\\ldots,s_m)$ are the vectors ranking interest and expertise of users and universities. Your task is to express $r_p$, $\\vec{v_p}$ and $M_p$, $p=1,\\ldots,5$ in terms of $\\vec{t}_{k}$, $\\vec{s}_{k}$ and $F$, where $r_p$ are scalars, $\\vec{v_p}$ are vectors and $M_p$ are matrices.\n",
    "\n",
    "You can use also the following functions:\n",
    "\n",
    "$|\\vec{v}|_2$ for the 2-norm\n",
    "\n",
    "$|\\vec{v}|_1$ for the 1-norm\n",
    "\n",
    "$M^t$ for the matrix transpose\n",
    "\n",
    "$round(\\vec{v})$ for rounding the values of a vector in $[0,1]$ to $0$ and $1$\n",
    " \n",
    "2) For HITS: in which sense is the input to the algorithm a special case of the most general possible inputs? Which additional constraints does the formulation of the problem satisfy?\n",
    "\n",
    "3) Assume after applying HITS or EM you perform a binary classification of the accounts by setting a threshold on the values in $\\vec{t}$, i.e., all accounts with a authority/interest value above the threshold are considered as accounts interested in Swiss universities. Identify and shortly describe a simple, standard classification algorithm that uses the accounts with binary labels as training data to classify new accounts and that does not require training (and does not rely on recomputing HITS or EM).\n",
    "  \n",
    "Please provide your answers in the cell below:"
   ]
  },
  {
   "cell_type": "markdown",
   "metadata": {},
   "source": []
  },
  {
   "cell_type": "markdown",
   "metadata": {},
   "source": [
    "# Question 3:  Betweenness Centrality in Social Networks\n",
    "  \n",
    "  \n",
    "\"Les misérables\" is a novel written by Victor Hugo and is considered as one of the greatest novels of the 19th century. In this question, you will analyze the social network composed by the protagonists of the novel. The character network represents the interactions among character and has been created, by hand, by Donald E. Knuth."
   ]
  },
  {
   "cell_type": "code",
   "execution_count": null,
   "metadata": {
    "collapsed": true,
    "jupyter": {
     "outputs_hidden": true
    }
   },
   "outputs": [],
   "source": [
    "import json\n",
    "import pandas as pd\n",
    "import operator\n",
    "import networkx as nx\n",
    "import matplotlib.pylab as plt\n",
    "import matplotlib.colors as mcolors\n",
    "from dis_helpers import *"
   ]
  },
  {
   "cell_type": "code",
   "execution_count": null,
   "metadata": {
    "collapsed": true,
    "jupyter": {
     "outputs_hidden": true
    }
   },
   "outputs": [],
   "source": [
    "G = ex1_load_graph()"
   ]
  },
  {
   "cell_type": "code",
   "execution_count": null,
   "metadata": {
    "collapsed": true,
    "jupyter": {
     "outputs_hidden": true
    }
   },
   "outputs": [],
   "source": [
    "ex1_draw(G, nx.betweenness_centrality(G))\n",
    "centr = nx.betweenness_centrality(G,normalized=False)\n",
    "\n",
    "ex1_print_topn(centr,10)"
   ]
  },
  {
   "cell_type": "markdown",
   "metadata": {},
   "source": [
    "### Definition\n",
    "\n",
    "In this problem, you will have to implement node betweeness centrality, a measure that provide a score for every node $n$ of a graph $G$.  \n",
    "  \n",
    "Betweenness centrality $c_B(n)$ of a node $n$ is the sum of the fraction of all-pairs shortest paths that pass through $n$:  \n",
    "  \n",
    "$\\Large c_B(n) =\\sum_{s,t \\in N} \\frac{\\sigma(s, t|n)}{\\sigma(s, t)}$\n",
    "  \n",
    "where $N$ is the set of nodes, $\\sigma(s, t)$ is the number of shortest paths connecting $s$ and $t$, and $\\sigma(s, t|n)$ is the number of paths passing through node $n$, provided $n$ is different from $s$ and $t$. For the other cases $\\sigma(s, t|n)$ is defined as follows: \n",
    "* If $s = t$: $\\sigma(s, t) = 1$\n",
    "* If $n \\in \\{s, t\\}$: $\\sigma(s, t|n) = 0$\n",
    "\n",
    "Note that this definition of node betweenness employs no normalization.\n",
    "  \n",
    "### Code Cheat Sheet\n",
    "\n",
    "Here we provide a few explainations about some of the functions you might need.\n",
    "\n",
    "The function ``enumerate(['a','b','c'])`` provides a convenient way to create an index while iterating over a list. For example:"
   ]
  },
  {
   "cell_type": "code",
   "execution_count": null,
   "metadata": {},
   "outputs": [],
   "source": [
    "for i,n in enumerate(['Napoleon','Myriel','Mlle.Baptistine','Mme.Magloire']):\n",
    "    print(i,n)"
   ]
  },
  {
   "cell_type": "markdown",
   "metadata": {},
   "source": [
    "The function ``nx.all_shortest_paths(G,s,t)`` returns a list of all the shortest paths between nodes $s$ and $t$, given the graph $G$. Note that you can directly use node labels to specify the nodes, such as in the example below:"
   ]
  },
  {
   "cell_type": "code",
   "execution_count": null,
   "metadata": {
    "collapsed": true,
    "jupyter": {
     "outputs_hidden": true
    }
   },
   "outputs": [],
   "source": [
    "for i in nx.all_shortest_paths(G,'Tholomyes','Mme.Magloire'):\n",
    "    print(i)"
   ]
  },
  {
   "cell_type": "markdown",
   "metadata": {},
   "source": [
    "### Questions\n",
    "1) Fill the code skeleton below to compute the betweenness centrality for every node of the graph.   \n",
    "\n",
    "2) The proposed code skeleton has an unnecessary high time complexity. Can you propose a solution to decrease it? Please answer in the cell below. "
   ]
  },
  {
   "cell_type": "markdown",
   "metadata": {},
   "source": []
  },
  {
   "cell_type": "markdown",
   "metadata": {},
   "source": [
    "3) Does the PageRank algorithm always produce the same values as node betweenness, after normalizing the node betweenness values to the interval [0,1]? For PageRank, consider that every edge of the undirected graph is replaced by two directed edges going in both directions. Provide an answer and an argument to support your answer in the cell below. "
   ]
  },
  {
   "cell_type": "markdown",
   "metadata": {},
   "source": []
  },
  {
   "cell_type": "code",
   "execution_count": null,
   "metadata": {},
   "outputs": [],
   "source": [
    "characters = list(G.nodes())\n",
    "result   = {}\n",
    "\n",
    "# compute a score fo every character\n",
    "for n in characters:\n",
    "\n",
    "    # accumulator for the score of the current character\n",
    "    accum = 0\n",
    "\n",
    "    # shortest path FROM every character...\n",
    "    for i,s in enumerate(characters):\n",
    "        # ..TO every character\n",
    "        for j,t in enumerate(characters):\n",
    "            # we do not consider the same path twice\n",
    "            if j > i:\n",
    "                continue\n",
    "            \n",
    "            try:  \n",
    "                all_short = nx.all_shortest_paths(G,s,t)\n",
    "                \n",
    "                ### SOLUTION ####################################\n",
    "                num   = 0\n",
    "                denum = 0\n",
    "                for p in all_short:\n",
    "\n",
    "                    px = set(p)\n",
    "                    px = px - set([s])\n",
    "                    px = px - set([t])\n",
    "                    if n in px:\n",
    "                        num += 1\n",
    "                    denum += 1\n",
    "                    \n",
    "                if s==t:\n",
    "                    denum = 1\n",
    "\n",
    "                if n==s or n==t:\n",
    "                    num = 0\n",
    "                \n",
    "                accum += float(num)/float(denum)\n",
    "                ### END SOLUTION ################################\n",
    "                \n",
    "            except nx.NetworkXNoPath:\n",
    "                continue\n",
    "                \n",
    "    result[n] = accum\n",
    "    \n",
    "ex1_print_topn(result,10)"
   ]
  },
  {
   "cell_type": "markdown",
   "metadata": {},
   "source": [
    "# Question 4: Sentiment Classification of Movie Reviews\n",
    "The goal of this problem is to build an end-to-end _Sentiment Classification_ pipeline. In order to achieve this, you will have to go through the subtasks that are indicated below and fill in the code in the respective placeholders. Notice that you are not allowed to use external libraries other than the ones that are already imported in the project.\n"
   ]
  },
  {
   "cell_type": "code",
   "execution_count": null,
   "metadata": {
    "collapsed": true,
    "jupyter": {
     "outputs_hidden": true
    }
   },
   "outputs": [],
   "source": [
    "#Required libraries.\n",
    "import os\n",
    "import string\n",
    "import numpy as np\n",
    "from collections import Counter\n",
    "from nltk.tokenize import word_tokenize\n",
    "from nltk.corpus import stopwords\n",
    "stop_words = set(stopwords.words('english'))"
   ]
  },
  {
   "cell_type": "code",
   "execution_count": null,
   "metadata": {
    "collapsed": true,
    "jupyter": {
     "outputs_hidden": true
    }
   },
   "outputs": [],
   "source": [
    "def read_corpus():\n",
    "    '''Reads corpus from files.'''\n",
    "    \n",
    "    neg_reviews = []\n",
    "    pos_reviews = []\n",
    "    DIR = 'movie_reviews/'\n",
    "\n",
    "    for l, sent in [(neg_reviews, 'neg'), (pos_reviews, 'pos')]:\n",
    "        for file in os.listdir(DIR+sent):\n",
    "            with open(os.path.join(DIR+sent, file)) as f:\n",
    "                text = f.read()\n",
    "            # split into words\n",
    "            tokens = word_tokenize(text)\n",
    "            # convert to lower case\n",
    "            tokens = [w.lower() for w in tokens]\n",
    "            # remove punctuation from each word\n",
    "            table = str.maketrans('', '', string.punctuation)\n",
    "            stripped = [w.translate(table) for w in tokens]\n",
    "            # remove remaining tokens that are not alphabetic\n",
    "            words = [word for word in stripped if word.isalpha()]\n",
    "            # filter out stop words\n",
    "            words = [w for w in words if not w in stop_words]\n",
    "\n",
    "            l.append(' '.join(words))\n",
    "    return neg_reviews, pos_reviews"
   ]
  },
  {
   "cell_type": "markdown",
   "metadata": {},
   "source": [
    "### Task 1\n",
    "Split your corpus into a training and a test set with ratio 9:1. \n",
    "* _Hint: Make sure that both sets are equally populated w.r.t. the two sentiments._"
   ]
  },
  {
   "cell_type": "code",
   "execution_count": null,
   "metadata": {
    "collapsed": true,
    "jupyter": {
     "outputs_hidden": true
    }
   },
   "outputs": [],
   "source": [
    "neg_reviews, pos_reviews = read_corpus()"
   ]
  },
  {
   "cell_type": "code",
   "execution_count": null,
   "metadata": {
    "collapsed": true,
    "jupyter": {
     "outputs_hidden": true
    }
   },
   "outputs": [],
   "source": [
    "############### ADD YOUR CODE HERE ###############\n",
    "neg_reviews_train = []\n",
    "pos_reviews_train = []\n",
    "\n",
    "neg_reviews_test = []\n",
    "pos_reviews_test = []\n",
    "\n",
    "reviews_train = []\n",
    "reviews_test = []\n",
    "############### ADD YOUR CODE HERE ###############\n",
    "\n",
    "# ############### SOLUTION ###############\n",
    "# neg_reviews_train = neg_reviews[:int(len(neg_reviews)*0.9)]\n",
    "# pos_reviews_train = pos_reviews[:int(len(pos_reviews)*0.9)]\n",
    "\n",
    "# neg_reviews_test = neg_reviews[int(len(neg_reviews)*0.9):]\n",
    "# pos_reviews_test = pos_reviews[int(len(pos_reviews)*0.9):]\n",
    "\n",
    "# reviews_train = neg_reviews_train + pos_reviews_train\n",
    "# reviews_test = neg_reviews_test + pos_reviews_test\n",
    "# ############### SOLUTION ###############"
   ]
  },
  {
   "cell_type": "markdown",
   "metadata": {},
   "source": [
    "### Task 2\n",
    "Transform the reviews of the training set into vectors using the Bag-Of-Words model. Each dimension of a vector must count the number of occurences of a word in the review.\n",
    "* _Hint 1: Make sure that all the vectors belong to the same space._\n",
    "* _Hint 2: For this task you can reuse code from the first exercise of DIS2018 (Vector Space Retrieval)._"
   ]
  },
  {
   "cell_type": "code",
   "execution_count": null,
   "metadata": {
    "collapsed": true,
    "jupyter": {
     "outputs_hidden": true
    }
   },
   "outputs": [],
   "source": [
    "def create_vocabulary(corpus, min_tf):\n",
    "    '''Creates the vocabulary (set of distinct words) that appear more than $min_tf$ times in the corpus.'''\n",
    "    \n",
    "    count = {}\n",
    "    for document in corpus:\n",
    "        for word in document.split():\n",
    "            if word in count:\n",
    "                count[word] += 1\n",
    "            else:\n",
    "                count[word] = 0\n",
    "    \n",
    "    vocabulary = []\n",
    "    for w, c in count.items():\n",
    "        if c > min_tf:\n",
    "            vocabulary.append(w)\n",
    "    \n",
    "    return vocabulary\n",
    "    \n",
    "vocabulary = create_vocabulary(reviews_train, len(reviews_train)*0.005)"
   ]
  },
  {
   "cell_type": "code",
   "execution_count": null,
   "metadata": {
    "collapsed": true,
    "jupyter": {
     "outputs_hidden": true
    }
   },
   "outputs": [],
   "source": [
    "def transform_to_vector(reviews):\n",
    "    '''Transforms a list of reviews to a list of vectors.'''\n",
    "    \n",
    "    reviews_vec = []\n",
    "\n",
    "    for review in reviews:\n",
    "        \n",
    "        \n",
    "        ############### ADD YOUR CODE HERE ###############\n",
    "        vector = []\n",
    "        ############### ADD YOUR CODE HERE ###############\n",
    "        \n",
    "#         ############### SOLUTION ###############\n",
    "#         count = {}\n",
    "#         for word in review.split():\n",
    "#             if word in count:\n",
    "#                 count[word] += 1\n",
    "#             else:\n",
    "#                 count[word] = 0\n",
    "\n",
    "#         #move to vocabulary space\n",
    "#         vector = [0]*len(vocabulary)\n",
    "#         for i,term in enumerate(vocabulary):\n",
    "#             if term in count:\n",
    "#                 vector[i] = count[term]\n",
    "        \n",
    "#         ############### SOLUTION ###############\n",
    "\n",
    "        reviews_vec.append(vector)\n",
    "\n",
    "    return reviews_vec\n",
    "\n",
    "neg_reviews_train_vec = transform_to_vector(neg_reviews_train)\n",
    "pos_reviews_train_vec = transform_to_vector(pos_reviews_train)"
   ]
  },
  {
   "cell_type": "markdown",
   "metadata": {},
   "source": [
    "### Task 3 \n",
    "Aggregate the vectors of the positive and negative reviews of the training set into a single vector. This vector will be the representative vector of each of the two sentiments. Which aggregation function did you choose and why?"
   ]
  },
  {
   "cell_type": "code",
   "execution_count": null,
   "metadata": {
    "collapsed": true,
    "jupyter": {
     "outputs_hidden": true
    }
   },
   "outputs": [],
   "source": [
    "def aggregate_vector_list(vlist, aggfunc):\n",
    "    if aggfunc == 'max':\n",
    "        return np.array(neg_reviews_train_vec).max(axis=0)\n",
    "    elif aggfunc == 'min':\n",
    "        return np.array(neg_reviews_train_vec).min(axis=0)\n",
    "    elif aggfunc == 'mean':\n",
    "        return np.array(neg_reviews_train_vec).mean(axis=0)\n",
    "    else:\n",
    "        return np.zeros(np.array(neg_reviews_train_vec).shape[1])\n",
    "\n",
    "############### ADD YOUR CODE HERE ###############\n",
    "neg_reviews_repr = []\n",
    "pos_reviews_repr = []\n",
    "############### ADD YOUR CODE HERE ###############\n",
    "\n",
    "# ############### SOLUTION ###############\n",
    "# neg_reviews_repr = aggregate_vector_list(neg_reviews_train_vec, 'mean')\n",
    "# pos_reviews_repr = aggregate_vector_list(pos_reviews_train_vec, 'mean')\n",
    "# ############### SOLUTION ###############"
   ]
  },
  {
   "cell_type": "markdown",
   "metadata": {},
   "source": [
    "Answer:"
   ]
  },
  {
   "cell_type": "markdown",
   "metadata": {},
   "source": [
    "### Task 4\n",
    "Transform the reviews of the movies in the test set into vectors. \n",
    "* _Hint: Make sure that all the vectors belong to the same space as the ones from the training set._\n"
   ]
  },
  {
   "cell_type": "code",
   "execution_count": null,
   "metadata": {
    "collapsed": true,
    "jupyter": {
     "outputs_hidden": true
    }
   },
   "outputs": [],
   "source": [
    "############### ADD YOUR CODE HERE ###############\n",
    "neg_reviews_test_vec = []\n",
    "pos_reviews_test_vec = []\n",
    "############### ADD YOUR CODE HERE ###############\n",
    "\n",
    "# ############### SOLUTION ###############\n",
    "# neg_reviews_test_vec = transform_to_vector(neg_reviews_test)\n",
    "# pos_reviews_test_vec = transform_to_vector(pos_reviews_test)\n",
    "# ############### SOLUTION ###############"
   ]
  },
  {
   "cell_type": "markdown",
   "metadata": {},
   "source": [
    "### Task 5\n",
    "Consider the following Naive Bayes sentiment classifier:\n",
    "\n",
    "\\begin{equation*}\n",
    "P(sentiment | review)   = \\frac{P(review | sentiment) * P(sentiment)}{P(review)}\n",
    "\\end{equation*}\n",
    "\n",
    "Assume that you can estimate the likelihood probability as follows:\n",
    "\n",
    "\\begin{equation*}\n",
    "P(review | sentiment) = cosine\\_similarity(review\\_vec, sentiment\\_representative\\_vec)\n",
    "\\end{equation*}\n",
    "\n",
    "1) How do you take into account the probabilities: $P(sentiment)$ and $P(review)$?"
   ]
  },
  {
   "cell_type": "markdown",
   "metadata": {},
   "source": [
    "Answer:"
   ]
  },
  {
   "cell_type": "markdown",
   "metadata": {},
   "source": [
    "2) Implement the classifier and compute its performance in terms of false negatives, true negatives, falsepositives and true positives."
   ]
  },
  {
   "cell_type": "code",
   "execution_count": null,
   "metadata": {
    "collapsed": true,
    "jupyter": {
     "outputs_hidden": true
    }
   },
   "outputs": [],
   "source": [
    "fn = 0\n",
    "tn = 0\n",
    "fp = 0\n",
    "tp = 0\n",
    "\n",
    "def cosine_similarity(a,b):\n",
    "    '''Computes the cosine similarity of $a$ and $b$.'''\n",
    "    dot_product = np.dot(a, b)\n",
    "    norm_a = np.linalg.norm(a)\n",
    "    norm_b = np.linalg.norm(b)\n",
    "    return dot_product / (norm_a * norm_b)\n",
    "    \n",
    "############### ADD YOUR CODE HERE ###############\n",
    "\n",
    "############### ADD YOUR CODE HERE ###############\n",
    "\n",
    "# ############### SOLUTION ###############\n",
    "# def naive_bayes(review_vec):\n",
    "#     if  cosine_similarity(np.array(review_vec), neg_reviews_repr) > cosine_similarity(np.array(review_vec), pos_reviews_repr):\n",
    "#         return 'neg'\n",
    "#     else:\n",
    "#         return 'pos'\n",
    "\n",
    "# for review_vec in neg_reviews_test_vec:\n",
    "#     if naive_bayes(review_vec) == 'neg':\n",
    "#         tn +=1\n",
    "#     else:\n",
    "#         fp +=1\n",
    "\n",
    "# for review_vec in pos_reviews_test_vec:\n",
    "#     if naive_bayes(review_vec) == 'neg':\n",
    "#         fn +=1\n",
    "#     else:\n",
    "#         tp +=1\n",
    "# ############### SOLUTION ###############"
   ]
  },
  {
   "cell_type": "markdown",
   "metadata": {},
   "source": [
    "### Task 6\n",
    "Compute the _F-measure_ to evaluate your classifier."
   ]
  },
  {
   "cell_type": "code",
   "execution_count": null,
   "metadata": {
    "collapsed": true,
    "jupyter": {
     "outputs_hidden": true
    }
   },
   "outputs": [],
   "source": [
    "############### ADD YOUR CODE HERE ###############\n",
    "precision = 0\n",
    "recall = 0\n",
    "f_measure = 0\n",
    "print('F-measure: ', f_measure)\n",
    "############### ADD YOUR CODE HERE ###############\n",
    "\n",
    "# ############### SOLUTION ###############\n",
    "# precision = tp/(tp+fp)\n",
    "# recall = tp/(tp+fn)\n",
    "# f_measure = 2*precision*recall/(precision+recall)\n",
    "# print('F-measure: ', f_measure)\n",
    "# ############### SOLUTION ###############"
   ]
  },
  {
   "cell_type": "code",
   "execution_count": null,
   "metadata": {
    "collapsed": true,
    "jupyter": {
     "outputs_hidden": true
    }
   },
   "outputs": [],
   "source": []
  },
  {
   "cell_type": "markdown",
   "metadata": {},
   "source": [
    "# Distributed Information Systems\n",
    "\n",
    "***Final Exam, Spring Semester, 2019***\n",
    "\n",
    "The exam will be held on your computer, but digital communication by any means is **strictly prohibited**. You are allowed, though, to use *StackOverflow* or similar websites to resolve syntax-related Python errors. \n",
    "The following materials are also allowed: exercise sheets and solutions, past exams with your own solution, personally written notes and personally collected documentation.\n",
    "By participating in this exam you **agree to these conditions**.\n",
    "\n",
    "These are the instructions for the exam:\n",
    "\n",
    "- You are not allowed to leave the examination room in the first 20 and the last 15 minutes of the exam.\n",
    "- The quiz will remain open **only for the first 2 hours** of the exam to avoid network congestion.\n",
    "- **30 minutes** before the end of the exam we will announce a password to upload your jupyter notebook on Moodle.\n",
    "- It is not recommended to leave the exam before the password is published. If you need to leave earlier, contact us."
   ]
  },
  {
   "cell_type": "markdown",
   "metadata": {
    "toc": true
   },
   "source": [
    "<h1>Table of Contents<span class=\"tocSkip\"></span></h1>\n",
    "<div class=\"toc\"><ul class=\"toc-item\"><li><span><a href=\"#0-Rename-your-notebook\" data-toc-modified-id=\"0-Rename-your-notebook-0\">0 Rename your notebook</a></span></li><li><span><a href=\"#1-Multiple-Choice-Questions\" data-toc-modified-id=\"1-Multiple-Choice-Questions-1\">1 <a href=\"https://moodle.epfl.ch/mod/quiz/view.php?id=1026316\" target=\"_blank\">Multiple Choice Questions</a></a></span></li><li><span><a href=\"#2-Implementing-a-Rule-Based-Approach-for-Entity-Disambiguation\" data-toc-modified-id=\"2-Implementing-a-Rule-Based-Approach-for-Entity-Disambiguation-2\">2 Implementing a Rule-Based Approach for Entity Disambiguation</a></span><ul class=\"toc-item\"><li><span><a href=\"#2.1-Learning-rules\" data-toc-modified-id=\"2.1-Learning-rules-2.1\">2.1 Learning rules</a></span></li><li><span><a href=\"#2.2-Finding-new-rules-using-bootstrapping\" data-toc-modified-id=\"2.2-Finding-new-rules-using-bootstrapping-2.2\">2.2 Finding new rules using bootstrapping</a></span></li></ul></li><li><span><a href=\"#3-Academic-Communities\" data-toc-modified-id=\"3-Academic-Communities-3\">3 Academic Communities</a></span><ul class=\"toc-item\"><li><span><a href=\"#3.1-Modularity\" data-toc-modified-id=\"3.1-Modularity-3.1\">3.1 Modularity</a></span></li><li><span><a href=\"#3.2-Community-Detection\" data-toc-modified-id=\"3.2-Community-Detection-3.2\">3.2 Community Detection</a></span></li><li><span><a href=\"#3.3-Community-Influencers\" data-toc-modified-id=\"3.3-Community-Influencers-3.3\">3.3 Community Influencers</a></span></li><li><span><a href=\"#3.4-Connectivity-Based-Community-Ranking\" data-toc-modified-id=\"3.4-Connectivity-Based-Community-Ranking-3.4\">3.4 Connectivity-Based Community Ranking</a></span></li><li><span><a href=\"#3.5-Personalized-Community-Ranking\" data-toc-modified-id=\"3.5-Personalized-Community-Ranking-3.5\">3.5 Personalized Community Ranking</a></span></li><li><span><a href=\"#3.6-TF-IDF-Community-Ranking\" data-toc-modified-id=\"3.6-TF-IDF-Community-Ranking-3.6\">3.6 TF-IDF Community Ranking</a></span></li><li><span><a href=\"#3.7-Rankings-Correlation\" data-toc-modified-id=\"3.7-Rankings-Correlation-3.7\">3.7 Rankings Correlation</a></span></li></ul></li><li><span><a href=\"#Removed\" data-toc-modified-id=\"Removed-4\">Removed</a></span><ul class=\"toc-item\"><li><span><a href=\"#What-is-a-profile-based-recommendation-ranking-for-a-user?\" data-toc-modified-id=\"What-is-a-profile-based-recommendation-ranking-for-a-user?-4.1\">What is a profile-based recommendation ranking for a user?</a></span></li><li><span><a href=\"#What-is-the-ranking-of-the-communities-based-on-the-importance-of-their-nodes?\" data-toc-modified-id=\"What-is-the-ranking-of-the-communities-based-on-the-importance-of-their-nodes?-4.2\">What is the ranking of the communities based on the importance of their nodes?</a></span></li><li><span><a href=\"#What-is-the-ranking-of-the-communities-based-on-their-intra-connectivity?\" data-toc-modified-id=\"What-is-the-ranking-of-the-communities-based-on-their-intra-connectivity?-4.3\">What is the ranking of the communities based on their intra-connectivity?</a></span></li></ul></li></ul></div>"
   ]
  },
  {
   "cell_type": "markdown",
   "metadata": {},
   "source": [
    "## 0 Rename your notebook\n",
    "Replace SciperNo with your **personal SCIPER Number**."
   ]
  },
  {
   "cell_type": "markdown",
   "metadata": {},
   "source": [
    "## 1 [Multiple Choice Questions](https://moodle.epfl.ch/mod/quiz/view.php?id=1026316)\n"
   ]
  },
  {
   "cell_type": "markdown",
   "metadata": {},
   "source": [
    "## 2 Implementing a Rule-Based Approach for Entity Disambiguation"
   ]
  },
  {
   "cell_type": "markdown",
   "metadata": {},
   "source": [
    "### 2.1 Learning rules\n",
    "\n",
    "We would like to develop a rule-based approach to disambiguate the meaning of the term \"Apple\" in sentences into the two possible meanings **Tech** and **Fruit**. The rules use keyphrases i.e., n-grams of words, as features in their conditions. In the approach **only the top-k keyphrases** are considered. Before forming keyphrases, the words are stemmed, stopwords are not considered and uppercase words are converted to lowercase.\n",
    "\n",
    "An example of a possible rule would be:\n",
    "\n",
    "\tif \"fruit\" and \"facebook\" then \"Tech\"\n",
    "\n",
    "meaning that if a sentence that contains the term \"Apple\" also contains the unigrams \"fruit\" and \"facebook\" then the meaning of \"Apple\" should be the Apple technology company (**Tech**).\n",
    "\n",
    "More generally we write such rules as:\n",
    "\n",
    "\t{k1,...,kn} -> Tech or {k1,...,kn} -> Fruit\n",
    "    \n",
    "where k1,..,kn are arbitrary word n-grams and a set {k1,...,kn} is considered as an item set.\n",
    "\n",
    "As **training data** we obtain 10 sentences containing \"Apple\" that have been labelled by their meaning as T(ech) or F(ruit).\n",
    "\n",
    "    An apple is a fruit and good for health. (F)\n",
    "    Apple is a tech company. (T)\n",
    "    Tech companies like Apple and Facebook have big data centers (T)\n",
    "    For maintaining health eat one apple a day. (F)\n",
    "    A new Apple data center has been opened next to the one of Facebook. (T)\n",
    "    Apple has sold 1 million units in one day. (T)\n",
    "    Fruits, like apples and pears, are contaminated with pesticides.  (F)\n",
    "    A fruit salad contains apples, bananas and pears.  (F)\n",
    "    I saw a new apple recipe on Facebook.  (F)\n",
    "    Apple is increasingly processing health data. (T)\n",
    "\n",
    "**Stopwords** are: an, is, a, and, for, like, and, have, has, been, in, are, with, on, by, as, may, one, to, the, of.\n",
    "\n",
    "We define the **confidence** of a rule {k1,...,kn} -> T as the fraction between the number of sentences that contain all keyphrases k1,...,kn with label T over the number of sentences with all keyphrases k1,...,kn. Similar definition for {k1,...,kn} -> F.\n",
    "\n",
    "We define the **support** of an itemset as the number of sentences that contain all the n-grams in the itemset.\n",
    "\n",
    "**Questions:** \n",
    "1. Without considering the word \"apple\", determine the keyphrases with minimum document frequency of 2.\n",
    "2. Determine all itemsets of keyphrases with a minimum support of 2.\n",
    "3. Determine all rules that have a minimum support of 2 and a minimum confidence of 70%. Provide for each rule its support and confidence values. \n",
    "4. Explain how the apriori property could be exploited in optimizing the computation of those itemsets for composite keyphrases.\n",
    "\n",
    "Hint: the following are the top-10 document frequencies of terms.\n",
    "\n",
    "| Term        | Frequency           | \n",
    "| ------------- |:-------------:| \n",
    "|fruit | 3|\n",
    "|health | 3|\n",
    "|data | 3|\n",
    "|facebook | 3|\n",
    "|tech | 2|\n",
    "|compani | 2|\n",
    "|center | 2|\n",
    "|day | 2|\n",
    "|new | 2|\n",
    "|pear |2|"
   ]
  },
  {
   "cell_type": "markdown",
   "metadata": {},
   "source": [
    "***ANSWER:***\n",
    "\n"
   ]
  },
  {
   "cell_type": "markdown",
   "metadata": {},
   "source": [
    "### 2.2 Finding new rules using bootstrapping\n",
    "\n",
    "We are using the rules we have learnt now to find new sentences on Apple (e.g. using Google search) to increase our training data and thus learning new rules.\n",
    "\n",
    "Performing this approach we found 10 more sentences:\n",
    "\n",
    "    Apple and Facebook data center filed plans to expand data center operations in Prineville (T) \n",
    "    Apple, Facebook, Google Asked to Pay for Wind Parks in Denmark (T) \n",
    "    Google, Facebook and Apple lead on green data centers (T)\n",
    "    Apple to contest patent filed by Google. (T) \n",
    "    Green data centers are the new priority for Apple and Google. (T)\n",
    "    Green apples are an ideal ingredient for fruit salad. (F)\n",
    "    Apple Pears have been described as the hottest new item since the Kiwi (F)\n",
    "    Join Facebook to connect with Apples Pear and others you may know (F)\n",
    "    An apple is a sweet, edible fruit produced by an apple tree (F)\n",
    "    An apple a day keeps the doctor away (F)\n",
    "\n",
    "**Questions:** \n",
    "\n",
    "1. Given that the size of the training set has increased, should confidence and/or support threshold be adapted and how?\n",
    "2. Identify all new rules with adapted confidence and support threshold that can be derived from the training set that has been enlarged by the examples that have been retrieved using a bootstrapping approach.\n",
    "3. Once you found a new rule, explain how you would proceed to verify that the new rule does not introduce semantic shift."
   ]
  },
  {
   "cell_type": "markdown",
   "metadata": {},
   "source": [
    "***ANSWER:***\n",
    "\n"
   ]
  },
  {
   "cell_type": "markdown",
   "metadata": {},
   "source": [
    "## 3 Academic Communities\n",
    "The dataset you are about to explore is a snapshot of the **retweet network** among official accounts of universities and academic institutes. The **nodes** of the network are twitter handles (usernames), while the **edges** are attributed with a **label**, which was extracted from the topic of the tweet, and a **weight**, which depicts the popularity of the original tweet."
   ]
  },
  {
   "cell_type": "code",
   "execution_count": 1,
   "metadata": {},
   "outputs": [],
   "source": [
    "import numpy as np\n",
    "import pandas as pd\n",
    "import networkx as nx\n",
    "from networkx.algorithms import community\n",
    "from sklearn.feature_extraction.text import TfidfVectorizer\n",
    "from sklearn.metrics.pairwise import cosine_similarity"
   ]
  },
  {
   "cell_type": "code",
   "execution_count": 2,
   "metadata": {},
   "outputs": [],
   "source": [
    "G = nx.from_pandas_edgelist(pd.read_csv('uni_network.csv'), 'Source', 'Target', edge_attr=['Label', 'Weight'])"
   ]
  },
  {
   "cell_type": "markdown",
   "metadata": {},
   "source": [
    "### 3.1 Modularity\n",
    "- Implement the modularity metric for communities.\n",
    "- Use the toy example and the assertion below to validate your results.\n",
    "- Hint: You can reuse code from the exercise sessions."
   ]
  },
  {
   "cell_type": "code",
   "execution_count": 3,
   "metadata": {},
   "outputs": [],
   "source": [
    "def communities_modularity(G, nodes_community):\n",
    "    ''' input: G:nx.Graph \n",
    "               nodes_community:{node_id:community_id}\n",
    "       output: Q (modularity metric)\n",
    "    '''\n",
    "    Q = 0\n",
    "    \n",
    "    # Add your code here\n",
    "    m = len(G.edges)\n",
    "    for node_i in G.nodes:\n",
    "        for node_j in G.nodes:\n",
    "            if nodes_community[node_i] == nodes_community[node_j]:\n",
    "                Q += G.number_of_edges(node_i, node_j) - G.degree[node_i]*G.degree[node_j]/(2*m)\n",
    "    Q = Q/(2*m)\n",
    "    # Add your code here\n",
    "\n",
    "    return Q \n",
    "\n",
    "Q = communities_modularity(nx.Graph([(1, 2), (2, 3), (3, 1)]), {1:'a', 2:'a', 3:'a'})\n",
    "assert (round(Q, 4) == 0.0)"
   ]
  },
  {
   "cell_type": "markdown",
   "metadata": {},
   "source": [
    "### 3.2 Community Detection\n",
    "\n",
    "- In the following cells you are given two snippets of code for community detection:\n",
    "    - The first approach (`network_structure_communities`) computes communities based on the **network structure**. The algorithm that is used is the *Clauset-Newman-Moore greedy modularity maximization* and is similar to the *Louvain modularity maximization*.\n",
    "    - The second approach (`nodes_label_communities`) computes communities based on the **labels of the graph nodes**. The label of a node is determined by the dominant label of its edges. All nodes with the same label belong to the same community.\n",
    "\n",
    "- Based on the statistics that we present below, discuss what are the **pros and cons** of each approach.\n",
    "- Note: You don't have to code for this task."
   ]
  },
  {
   "cell_type": "code",
   "execution_count": 4,
   "metadata": {},
   "outputs": [],
   "source": [
    "def network_structure_communities(G):\n",
    "    nodes_community = community.greedy_modularity_communities(G, weight='Weight')\n",
    "    nodes_community = {i:indx for indx, c in enumerate(nodes_community) for i in c}\n",
    "    nodes_community = {n:nodes_community[n] for n in G.nodes}\n",
    "    return nodes_community"
   ]
  },
  {
   "cell_type": "code",
   "execution_count": 5,
   "metadata": {},
   "outputs": [],
   "source": [
    "def nodes_label_communities(G):\n",
    "    nodes_community = {}\n",
    "    for n in G.nodes():\n",
    "        labels = [[e[2]['Label']]*e[2]['Weight'] for e in G.edges(n, data=True)]\n",
    "        labels = [item for l in labels for item in l]\n",
    "        nodes_community[n] = max(set(labels), key = labels.count)\n",
    "    return nodes_community"
   ]
  },
  {
   "cell_type": "code",
   "execution_count": 6,
   "metadata": {},
   "outputs": [
    {
     "data": {
      "text/html": [
       "<div>\n",
       "<style scoped>\n",
       "    .dataframe tbody tr th:only-of-type {\n",
       "        vertical-align: middle;\n",
       "    }\n",
       "\n",
       "    .dataframe tbody tr th {\n",
       "        vertical-align: top;\n",
       "    }\n",
       "\n",
       "    .dataframe thead th {\n",
       "        text-align: right;\n",
       "    }\n",
       "</style>\n",
       "<table border=\"1\" class=\"dataframe\">\n",
       "  <thead>\n",
       "    <tr style=\"text-align: right;\">\n",
       "      <th></th>\n",
       "      <th>Average Community Size</th>\n",
       "      <th>Communities Count</th>\n",
       "      <th>Modularity</th>\n",
       "    </tr>\n",
       "    <tr>\n",
       "      <th></th>\n",
       "      <th></th>\n",
       "      <th></th>\n",
       "      <th></th>\n",
       "    </tr>\n",
       "  </thead>\n",
       "  <tbody>\n",
       "    <tr>\n",
       "      <th>1st approach</th>\n",
       "      <td>3.192053</td>\n",
       "      <td>453</td>\n",
       "      <td>0.919974</td>\n",
       "    </tr>\n",
       "    <tr>\n",
       "      <th>2nd approach</th>\n",
       "      <td>48.200000</td>\n",
       "      <td>30</td>\n",
       "      <td>0.688264</td>\n",
       "    </tr>\n",
       "  </tbody>\n",
       "</table>\n",
       "</div>"
      ],
      "text/plain": [
       "              Average Community Size  Communities Count  Modularity\n",
       "                                                                   \n",
       "1st approach                3.192053                453    0.919974\n",
       "2nd approach               48.200000                 30    0.688264"
      ]
     },
     "execution_count": 6,
     "metadata": {},
     "output_type": "execute_result"
    }
   ],
   "source": [
    "def compare_approaches(G):\n",
    "    nodes_community_1 = network_structure_communities(G)\n",
    "    nodes_community_2 = nodes_label_communities(G)\n",
    "    communities_count_1 = len(set(nodes_community_1.values()))\n",
    "    communities_count_2 = len(set(nodes_community_2.values()))\n",
    "\n",
    "    return pd.DataFrame.from_dict([{'':'1st approach', 'Communities Count':communities_count_1, 'Average Community Size':len(G.nodes())/communities_count_1, 'Modularity':communities_modularity(G, nodes_community_1)},\\\n",
    "                                   {'':'2nd approach', 'Communities Count':communities_count_2, 'Average Community Size':len(G.nodes())/communities_count_2, 'Modularity':communities_modularity(G, nodes_community_2)}]).set_index('')\n",
    "\n",
    "compare_approaches(G)"
   ]
  },
  {
   "cell_type": "markdown",
   "metadata": {},
   "source": [
    "***ANSWER:***"
   ]
  },
  {
   "cell_type": "markdown",
   "metadata": {},
   "source": [
    "In the following tasks we will use the communities that are detected by the **second approach**."
   ]
  },
  {
   "cell_type": "code",
   "execution_count": 7,
   "metadata": {},
   "outputs": [],
   "source": [
    "nodes_community = nodes_label_communities(G)\n",
    "communities = list(set(nodes_community.values()))\n",
    "communities_count = len(communities)\n",
    "default_ranking = {c:0.0 for c in communities}"
   ]
  },
  {
   "cell_type": "markdown",
   "metadata": {},
   "source": [
    "### 3.3 Community Influencers\n",
    "- Isolate each community from the graph. \n",
    "- Select the node with the **maximum pagerank** within each community as the **influencer** of that community.\n",
    "- Break ties arbitrarily.\n",
    "- Hint: Useful functions: `nx.pagerank()`, `G.subgraph()`."
   ]
  },
  {
   "cell_type": "code",
   "execution_count": 8,
   "metadata": {
    "scrolled": true
   },
   "outputs": [
    {
     "data": {
      "text/plain": [
       "[('architecture', 'UniofGreenwich'),\n",
       " ('artificial intelligence', 'HECParis'),\n",
       " ('astronomy', 'HistAstro'),\n",
       " ('biological', 'thatsfarming'),\n",
       " ('cancer', 'IrishCancerSoc'),\n",
       " ('cell', 'GilesYeo'),\n",
       " ('chemistry', 'UniofNottingham'),\n",
       " ('climate change', 'meganrowling'),\n",
       " ('computer science', 'UniofHerts'),\n",
       " ('criminology', 'ARUEngagement'),\n",
       " ('cyber security', 'eevriviades'),\n",
       " ('diabetes', 'UoMNews'),\n",
       " ('drones', 'HarperAdamsUni'),\n",
       " ('economics', 'EmPoints'),\n",
       " ('entrepreneurship', 'RoyalAgUni'),\n",
       " ('geography', 'drheatherprice'),\n",
       " ('healthcare', 'VoiceofNursing_'),\n",
       " ('infection', 'UofGMVLS'),\n",
       " ('innovation', 'tcddublin'),\n",
       " ('medicine', 'learnhospice'),\n",
       " ('neuroscience', 'ArtScienceDoc'),\n",
       " ('pathways', 'RyanAcademy'),\n",
       " ('patients', 'WPXI'),\n",
       " ('physicist', 'royalsociety'),\n",
       " ('physics', 'SymeonDagkas'),\n",
       " ('psychology', 'BPSOfficial'),\n",
       " ('robotics', 'Phil_Baty'),\n",
       " ('social media', 'NYDailyNews'),\n",
       " ('sustainability', 'UniversityLeeds'),\n",
       " ('therapy', 'UBICBrighton')]"
      ]
     },
     "execution_count": 8,
     "metadata": {},
     "output_type": "execute_result"
    }
   ],
   "source": [
    "def community_influencers(G, nodes_community, communities, communities_count):\n",
    "    ''' input: G:nx.Graph \n",
    "               nodes_community:{node_id:community_id}\n",
    "               communities:[community_ids]\n",
    "               community_count:int\n",
    "       output: influencers:{community_id:node_id}\n",
    "    '''\n",
    "    influencers = {}\n",
    "    \n",
    "    # Add your code here\n",
    "    \n",
    "    for c in communities:\n",
    "        nodes = [n for n in G.nodes if nodes_community[n]==c]\n",
    "        pr = nx.pagerank(G.subgraph(nodes))\n",
    "        influencers[c] = max(pr, key=pr.get)\n",
    "\n",
    "    # Add your code here\n",
    "    \n",
    "    return influencers\n",
    "\n",
    "influencers = community_influencers(G, nodes_community, communities, communities_count)\n",
    "sorted(influencers.items(), key=lambda x: x[0]) if influencers != {} else None # prints sorted results"
   ]
  },
  {
   "cell_type": "markdown",
   "metadata": {},
   "source": [
    "### 3.4 Connectivity-Based Community Ranking\n",
    "- Compute a meta graph where nodes are communities and edges denote inter-connections across communities. \n",
    "- Add the weights of the inter-connections as weights to the edges.\n",
    "- Compute `pagerank` on the meta graph.\n",
    "- Hint: `w_matrix` is the confusion matrix of the weights among the communities. `w_matrix` is not symmetric."
   ]
  },
  {
   "cell_type": "code",
   "execution_count": 9,
   "metadata": {},
   "outputs": [
    {
     "data": {
      "text/plain": [
       "[('innovation', 0.1175316220359166),\n",
       " ('artificial intelligence', 0.1157057509495049),\n",
       " ('psychology', 0.07266281991431879),\n",
       " ('entrepreneurship', 0.0565836336445204),\n",
       " ('sustainability', 0.05043936029740328),\n",
       " ('computer science', 0.044925965192617864),\n",
       " ('physics', 0.04192640288042445),\n",
       " ('climate change', 0.03774773967426391),\n",
       " ('chemistry', 0.036150780561586215),\n",
       " ('architecture', 0.03318939114735931),\n",
       " ('economics', 0.02994993856239657),\n",
       " ('social media', 0.029270293765880844),\n",
       " ('patients', 0.02668015432185533),\n",
       " ('cyber security', 0.026417237694418127),\n",
       " ('biological', 0.025453215452582906),\n",
       " ('healthcare', 0.024964310859068403),\n",
       " ('robotics', 0.023854191645331445),\n",
       " ('medicine', 0.022594739356807246),\n",
       " ('drones', 0.02209027906346713),\n",
       " ('geography', 0.020717966222541007),\n",
       " ('therapy', 0.020215995737512066),\n",
       " ('criminology', 0.018981304860549143),\n",
       " ('diabetes', 0.01828139923522191),\n",
       " ('pathways', 0.017711351235234492),\n",
       " ('cell', 0.016672897412689864),\n",
       " ('cancer', 0.013771402929793076),\n",
       " ('physicist', 0.010622217148478514),\n",
       " ('astronomy', 0.009921512456962477),\n",
       " ('neuroscience', 0.00829679545549693),\n",
       " ('infection', 0.006669330285796837)]"
      ]
     },
     "execution_count": 9,
     "metadata": {},
     "output_type": "execute_result"
    }
   ],
   "source": [
    "def connectivity_ranking(G, nodes_community, communities, communities_count):\n",
    "    ''' input: G:nx.Graph \n",
    "               nodes_community:{node_id:community_id}\n",
    "               communities:[community_ids]\n",
    "               community_count:int\n",
    "       output: communities_ranking:{community_id:ranking}\n",
    "\n",
    "    '''\n",
    "    communities_ranking = default_ranking.copy()\n",
    "    \n",
    "    meta_G = nx.Graph()\n",
    "    w_matrix = {c2:{c1:0 for c1 in communities} for c2 in communities}\n",
    "    for (n1, n2, weight) in G.edges(data='Weight'):\n",
    "        w_matrix[nodes_community[n1]][nodes_community[n2]] += weight\n",
    "\n",
    "    # Add your code here\n",
    "    \n",
    "    for c1 in communities:\n",
    "        for c2 in communities:\n",
    "            if (c1 < c2):\n",
    "                weight = w_matrix[c1][c2] + w_matrix[c2][c1]\n",
    "                meta_G.add_edge(c1, c2, weight=weight)\n",
    "\n",
    "    communities_ranking = nx.pagerank(meta_G)\n",
    "    \n",
    "    # Add your code here\n",
    "    \n",
    "    return communities_ranking\n",
    "\n",
    "connectivity_ranking = connectivity_ranking(G, nodes_community, communities, communities_count)\n",
    "sorted(connectivity_ranking.items(), key=lambda x: x[1], reverse=True) if connectivity_ranking != default_ranking else None # prints sorted results"
   ]
  },
  {
   "cell_type": "markdown",
   "metadata": {},
   "source": [
    "### 3.5 Personalized Community Ranking\n",
    "- Compute, for each community, the **personalized pagerank** of their **influencers**, where the source nodes belong to the community **artificial intelligence**.\n",
    "- Hint: Useful function: `nx.pagerank()`; `personalization` parameter defines the probability of random jumping to a source node.\n"
   ]
  },
  {
   "cell_type": "code",
   "execution_count": 10,
   "metadata": {},
   "outputs": [
    {
     "data": {
      "text/plain": [
       "[('artificial intelligence', 0.011076392257409935),\n",
       " ('computer science', 0.005304729258854428),\n",
       " ('drones', 0.002652884097355944),\n",
       " ('psychology', 0.00038444405302006843),\n",
       " ('innovation', 1.8889741877389747e-06),\n",
       " ('physicist', 1.7810328800477428e-06),\n",
       " ('physics', 1.5584037860454496e-06),\n",
       " ('architecture', 1.0389358574629546e-06),\n",
       " ('pathways', 1.0389358574629546e-06),\n",
       " ('economics', 1.0389358574629546e-06),\n",
       " ('climate change', 1.0389358574629546e-06),\n",
       " ('astronomy', 1.0389358574629546e-06),\n",
       " ('medicine', 1.0389358574629546e-06),\n",
       " ('biological', 1.0389358574629546e-06),\n",
       " ('chemistry', 1.0389358574629546e-06),\n",
       " ('geography', 1.0389358574629546e-06),\n",
       " ('entrepreneurship', 1.0389358574629546e-06),\n",
       " ('patients', 1.0389358574629546e-06),\n",
       " ('neuroscience', 1.0389358574629546e-06),\n",
       " ('cancer', 1.0389358574629546e-06),\n",
       " ('therapy', 1.0389358574629546e-06),\n",
       " ('cyber security', 1.0389358574629546e-06),\n",
       " ('diabetes', 1.0389358574629546e-06),\n",
       " ('robotics', 1.0389358574629546e-06),\n",
       " ('infection', 1.038935857462954e-06),\n",
       " ('cell', 1.0389358574629538e-06),\n",
       " ('healthcare', 1.0389358574629533e-06),\n",
       " ('sustainability', 1.0389358574629533e-06),\n",
       " ('social media', 1.038935857462952e-06),\n",
       " ('criminology', 8.31148686598775e-07)]"
      ]
     },
     "execution_count": 10,
     "metadata": {},
     "output_type": "execute_result"
    }
   ],
   "source": [
    "def personalized_ranking(G, nodes_community, communities, communities_count):\n",
    "    ''' input: G:nx.Graph \n",
    "               nodes_community:{node_id:community_id}\n",
    "               communities:[community_ids]\n",
    "               community_count:int\n",
    "       output: communities_ranking:{community_id:ranking}\n",
    "\n",
    "    '''\n",
    "    communities_ranking = default_ranking.copy()\n",
    "    influencers = community_influencers(G, nodes_community, communities, communities_count)\n",
    "\n",
    "    # Add your code here\n",
    "    \n",
    "    def personalization(nodes_community, community):\n",
    "        count = list(nodes_community.values()).count(community)\n",
    "        return {n:1/count if nodes_community[n] == community else 0 for n in nodes_community.keys()}\n",
    "\n",
    "    personalization = personalization(nodes_community, 'artificial intelligence')\n",
    "    for c in communities:\n",
    "        ppr = nx.pagerank(G, personalization=personalization)\n",
    "        communities_ranking[c] = ppr[influencers[c]]\n",
    "\n",
    "    # Add your code here\n",
    "\n",
    "    return communities_ranking\n",
    " \n",
    "personalized_ranking = personalized_ranking(G, nodes_community, communities, communities_count)\n",
    "sorted(personalized_ranking.items(), key=lambda x: x[1], reverse=True) if personalized_ranking != default_ranking else None # prints sorted results"
   ]
  },
  {
   "cell_type": "markdown",
   "metadata": {},
   "source": [
    "### 3.6 TF-IDF Community Ranking\n",
    "- Treat each community as a document.\n",
    "- Treat **artificial intelligence** as a query.\n",
    "- Rank the documents (communities) based on their similarity to the query.\n",
    "- Hint: Useful function: `cosine_similarity()`."
   ]
  },
  {
   "cell_type": "code",
   "execution_count": 11,
   "metadata": {},
   "outputs": [
    {
     "data": {
      "text/plain": [
       "[('artificial intelligence', 0.7068180786730306),\n",
       " ('computer science', 0.1363312004264351),\n",
       " ('drones', 0.0736540162872044),\n",
       " ('diabetes', 0.039546236270366075),\n",
       " ('psychology', 0.026595405327496296),\n",
       " ('physics', 0.025330985903952923),\n",
       " ('entrepreneurship', 0.024021069069528018),\n",
       " ('innovation', 0.023216563644012467),\n",
       " ('chemistry', 0.017660462096875655),\n",
       " ('architecture', 0.015594934503474007),\n",
       " ('cell', 0.00959421139643584),\n",
       " ('climate change', 0.009562666055153999),\n",
       " ('social media', 0.0008954193092398574),\n",
       " ('healthcare', 0.0),\n",
       " ('pathways', 0.0),\n",
       " ('sustainability', 0.0),\n",
       " ('economics', 0.0),\n",
       " ('astronomy', 0.0),\n",
       " ('medicine', 0.0),\n",
       " ('criminology', 0.0),\n",
       " ('biological', 0.0),\n",
       " ('geography', 0.0),\n",
       " ('patients', 0.0),\n",
       " ('infection', 0.0),\n",
       " ('neuroscience', 0.0),\n",
       " ('cancer', 0.0),\n",
       " ('therapy', 0.0),\n",
       " ('physicist', 0.0),\n",
       " ('cyber security', 0.0),\n",
       " ('robotics', 0.0)]"
      ]
     },
     "execution_count": 11,
     "metadata": {},
     "output_type": "execute_result"
    }
   ],
   "source": [
    "def tfidf_ranking(G, nodes_community, communities, communities_count):\n",
    "    ''' input: G:nx.Graph \n",
    "               nodes_community:{node_id:community_id}\n",
    "               communities:[community_ids]\n",
    "               community_count:int\n",
    "       output: communities_ranking:{community_id:ranking}\n",
    "\n",
    "    '''\n",
    "    communities_ranking = default_ranking.copy()\n",
    "\n",
    "    documents = [''] * communities_count\n",
    "    query = ['artificial inteligence']\n",
    "    \n",
    "    for n in nodes_community:\n",
    "        labels = ''.join([str(e[2]['Label'] + ' ')*e[2]['Weight'] for e in G.edges(n, data=True)])\n",
    "        documents[communities.index(nodes_community[n])] += labels\n",
    "\n",
    "    # Add your code here\n",
    "\n",
    "    vectorizer = TfidfVectorizer()\n",
    "    D = vectorizer.fit_transform(documents)\n",
    "    Q = vectorizer.transform(query)\n",
    "    \n",
    "    sim = cosine_similarity(D, Q)\n",
    "    for i, c in enumerate(communities):\n",
    "        communities_ranking[c] = sim[i][0]\n",
    "\n",
    "    # Add your code here\n",
    "    \n",
    "    return communities_ranking\n",
    "\n",
    "tfidf_ranking = tfidf_ranking(G, nodes_community, communities, communities_count)\n",
    "sorted(tfidf_ranking.items(), key=lambda x: x[1], reverse=True) if tfidf_ranking != default_ranking else None # prints sorted results"
   ]
  },
  {
   "cell_type": "markdown",
   "metadata": {},
   "source": [
    "### 3.7 Rankings Correlation\n",
    "- Consider `personalized_ranking`, `tfidf_ranking` and `AVG(connectivity_ranking, tfidf_ranking)`.\n",
    "- Compute the `3x3` correlation matrix.\n",
    "- Discuss which rankings correlate more and why."
   ]
  },
  {
   "cell_type": "code",
   "execution_count": 12,
   "metadata": {},
   "outputs": [
    {
     "data": {
      "text/plain": [
       "array([[1.        , 0.95496264, 0.9381539 ],\n",
       "       [0.95496264, 1.        , 0.9894849 ],\n",
       "       [0.9381539 , 0.9894849 , 1.        ]])"
      ]
     },
     "execution_count": 12,
     "metadata": {},
     "output_type": "execute_result"
    }
   ],
   "source": [
    "def compute_correlation(connectivity_ranking, personalized_ranking, tfidf_ranking):    \n",
    "    correlation = np.zeros([3,3])\n",
    "    \n",
    "    connectivity_ranking = [r[1] for r in sorted(connectivity_ranking.items(), key=lambda x: x[0])]\n",
    "    personalized_ranking = [r[1] for r in sorted(personalized_ranking.items(), key=lambda x: x[0])]\n",
    "    tfidf_ranking = [r[1] for r in sorted(tfidf_ranking.items(), key=lambda x: x[0])]\n",
    "    avg_connectivity_tfidf_ranking = [sum(x)/2 for x in zip(connectivity_ranking, tfidf_ranking)]\n",
    "    \n",
    "    # Add your code here    \n",
    "    \n",
    "    correlation = np.corrcoef(np.array([personalized_ranking, tfidf_ranking, avg_connectivity_tfidf_ranking]))\n",
    "    \n",
    "    # Add your code here    \n",
    "\n",
    "    return correlation\n",
    "\n",
    "compute_correlation(connectivity_ranking, personalized_ranking, tfidf_ranking)"
   ]
  },
  {
   "cell_type": "markdown",
   "metadata": {},
   "source": [
    "***ANSWER:***"
   ]
  },
  {
   "cell_type": "markdown",
   "metadata": {},
   "source": [
    "## Removed"
   ]
  },
  {
   "cell_type": "markdown",
   "metadata": {},
   "source": [
    "### What is a profile-based recommendation ranking for a user?\n",
    "- Consider the user with the label **artificial intelligence**.\n",
    "- Recommend users that have similar labels."
   ]
  },
  {
   "cell_type": "code",
   "execution_count": 13,
   "metadata": {},
   "outputs": [
    {
     "data": {
      "text/plain": [
       "[('CyclingSurgeon', 0.7071067811865476),\n",
       " ('ManiraAhmad', 0.7071067811865476),\n",
       " ('DigiCatapult', 0.7071067811865476),\n",
       " ('StuffandStories', 0.7071067811865476),\n",
       " ('victoria_holt', 0.7071067811865476)]"
      ]
     },
     "execution_count": 13,
     "metadata": {},
     "output_type": "execute_result"
    }
   ],
   "source": [
    "def profile_based_recommendation(G, nodes_community, communities, communities_count):\n",
    "    ''' input: G:nx.Graph \n",
    "               nodes_community:{node_id:community_id}\n",
    "               communities:[community_ids]\n",
    "               community_count:int\n",
    "       output: users_ranking:{user_id:ranking}\n",
    "\n",
    "    '''\n",
    "    users_ranking = {n:0.0 for n in nodes_community.keys()}\n",
    "\n",
    "    # Add your code here\n",
    "    \n",
    "    documents = [''] * len(users_ranking)\n",
    "    query = ['artificial inteligence']\n",
    "    \n",
    "    for i, n in enumerate(nodes_community):\n",
    "        labels = ''.join([str(e[2]['Label'] + ' ')*e[2]['Weight'] for e in G.edges(n, data=True)])\n",
    "        documents[i] += labels\n",
    "\n",
    "    vectorizer = TfidfVectorizer()\n",
    "    D = vectorizer.fit_transform(documents)\n",
    "    Q = vectorizer.transform(query)\n",
    "    \n",
    "    sim = cosine_similarity(D, Q)\n",
    "    for i, n in enumerate(users_ranking.keys()):\n",
    "        users_ranking[n] = sim[i][0]\n",
    "    \n",
    "    # Add your code here\n",
    "    \n",
    "    return users_ranking\n",
    " \n",
    "profile_based_recommendation = profile_based_recommendation(G, nodes_community, communities, communities_count)\n",
    "sorted(profile_based_recommendation.items(), key=lambda x: x[1], reverse=True)[:5] if profile_based_recommendation != {n:0.0 for n in nodes_community.keys()} else None # prints sorted results"
   ]
  },
  {
   "cell_type": "markdown",
   "metadata": {},
   "source": [
    "### What is the ranking of the communities based on the importance of their nodes?\n",
    "- Compute a node-importance metric on the full graph. \n",
    "- Compute, for each community, the average of its nodes' importance."
   ]
  },
  {
   "cell_type": "code",
   "execution_count": 14,
   "metadata": {},
   "outputs": [
    {
     "data": {
      "text/plain": [
       "[('computer science', 0.001074198483014965),\n",
       " ('chemistry', 0.0007865879573917386),\n",
       " ('drones', 0.0007752379929126834),\n",
       " ('physicist', 0.0007371595247005386),\n",
       " ('pathways', 0.0007265159950794386),\n",
       " ('criminology', 0.0007248280212682204),\n",
       " ('cell', 0.000724781302183321),\n",
       " ('architecture', 0.0007096220351582247),\n",
       " ('patients', 0.000704826493460207),\n",
       " ('innovation', 0.0007036868991029613)]"
      ]
     },
     "execution_count": 14,
     "metadata": {},
     "output_type": "execute_result"
    }
   ],
   "source": [
    "def node_importance_ranking(G, nodes_community, communities, communities_count):\n",
    "    ''' input: G:nx.Graph \n",
    "               nodes_community:{node_id:community_id}\n",
    "               communities:[community_ids]\n",
    "               community_count:int\n",
    "       output: communities_ranking:{community_id:ranking}\n",
    "\n",
    "    '''\n",
    "    communities_ranking = {c:0.0 for c in communities}\n",
    "\n",
    "    # Add your code here\n",
    "    pr = nx.pagerank(G)\n",
    "    for n in pr:\n",
    "        communities_ranking[nodes_community[n]] += pr[n]\n",
    "\n",
    "    for c in communities:\n",
    "        communities_ranking[c] /= list(nodes_community.values()).count(c)\n",
    "    \n",
    "    return communities_ranking\n",
    "\n",
    "ranking = node_importance_ranking(G, nodes_community, communities, communities_count)\n",
    "sorted(ranking.items(), key=lambda x: x[1], reverse=True)[:10]"
   ]
  },
  {
   "cell_type": "markdown",
   "metadata": {},
   "source": [
    "### What is the ranking of the communities based on their intra-connectivity?\n",
    "- Compute, for each community, the ratio of its actual edges to the edges of a clique with the same number of nodes."
   ]
  },
  {
   "cell_type": "code",
   "execution_count": 15,
   "metadata": {},
   "outputs": [
    {
     "data": {
      "text/plain": [
       "[('physicist', 0.19444444444444445),\n",
       " ('computer science', 0.14285714285714285),\n",
       " ('drones', 0.09090909090909091),\n",
       " ('infection', 0.0784313725490196),\n",
       " ('astronomy', 0.06666666666666667),\n",
       " ('neuroscience', 0.06666666666666667),\n",
       " ('diabetes', 0.0641025641025641),\n",
       " ('criminology', 0.058823529411764705),\n",
       " ('pathways', 0.058333333333333334),\n",
       " ('chemistry', 0.05263157894736842)]"
      ]
     },
     "execution_count": 15,
     "metadata": {},
     "output_type": "execute_result"
    }
   ],
   "source": [
    "def intra_connectivity_ranking(G, nodes_community, communities, communities_count):\n",
    "    ''' input: G:nx.Graph \n",
    "               nodes_community:{node_id:community_id}\n",
    "               communities:[community_ids]\n",
    "               community_count:int\n",
    "       output: communities_ranking:{community_id:ranking}\n",
    "\n",
    "    '''\n",
    "    communities_ranking = {c:0.0 for c in communities}\n",
    "    \n",
    "    # Add your code here\n",
    "    for c in communities:\n",
    "        nodes = [n for n in G.nodes if nodes_community[n]==c]\n",
    "        graph = G.subgraph(nodes)\n",
    "        if len(nodes) > 1:\n",
    "            communities_ranking[c] = len(graph.edges()) / (len(graph.nodes()) * (len(graph.nodes())-1) / 2)\n",
    "        else:\n",
    "            communities_ranking[c] = 0.0\n",
    "    \n",
    "    return communities_ranking\n",
    "\n",
    "ranking = intra_connectivity_ranking(G, nodes_community, communities, communities_count)\n",
    "sorted(ranking.items(), key=lambda x: x[1], reverse=True)[:10]"
   ]
  },
  {
   "cell_type": "code",
   "execution_count": 1,
   "metadata": {},
   "outputs": [
    {
     "name": "stdout",
     "output_type": "stream",
     "text": [
      "[nltk_data] Downloading package punkt to /Users/duong/nltk_data...\n",
      "[nltk_data]   Package punkt is already up-to-date!\n",
      "[nltk_data] Downloading package stopwords to /Users/duong/nltk_data...\n",
      "[nltk_data]   Package stopwords is already up-to-date!\n"
     ]
    }
   ],
   "source": [
    "#Required libraries.\n",
    "from sklearn.feature_extraction.text import CountVectorizer, TfidfVectorizer\n",
    "from sklearn.metrics.pairwise import linear_kernel\n",
    "import math\n",
    "from nltk.stem import PorterStemmer, WordNetLemmatizer\n",
    "import os\n",
    "import string\n",
    "import numpy as np\n",
    "from collections import Counter\n",
    "from nltk.tokenize import word_tokenize, TweetTokenizer\n",
    "from nltk.corpus import stopwords\n",
    "from collections import Counter\n",
    "from operator import itemgetter\n",
    "from pprint import pprint\n",
    "import nltk\n",
    "nltk.download('punkt')\n",
    "nltk.download('stopwords')\n",
    "stop_words = set(stopwords.words('english')).union(set(stopwords.words('french')))"
   ]
  },
  {
   "cell_type": "code",
   "execution_count": 2,
   "metadata": {},
   "outputs": [],
   "source": [
    "def read_corpus():\n",
    "    '''Reads corpus from files.'''\n",
    "    \n",
    "    documents = []\n",
    "    orig_docs = []\n",
    "    DIR = './'\n",
    "    tknzr = TweetTokenizer()\n",
    "    with open(\"epfldocs.txt\", encoding = \"utf-8\") as f:\n",
    "        content = f.readlines()\n",
    "    for text in content:\n",
    "        orig_docs.append(text)\n",
    "        # split into words\n",
    "        tokens = tknzr.tokenize(text)\n",
    "        # convert to lower case\n",
    "        tokens = [w.lower() for w in tokens]\n",
    "        # remove punctuation from each word\n",
    "        table = str.maketrans('', '', string.punctuation)\n",
    "        stripped = [w.translate(table) for w in tokens]\n",
    "        # remove remaining tokens that are not alphabetic\n",
    "        words = [word for word in stripped if word.isalpha()]\n",
    "        # filter out stop words\n",
    "        words = [w for w in words if not w in stop_words]\n",
    "\n",
    "        documents.append(' '.join(words))\n",
    "    return documents, orig_docs"
   ]
  },
  {
   "cell_type": "code",
   "execution_count": 3,
   "metadata": {},
   "outputs": [],
   "source": [
    "documents, orig_docs = read_corpus()"
   ]
  },
  {
   "cell_type": "code",
   "execution_count": 4,
   "metadata": {},
   "outputs": [
    {
     "data": {
      "text/plain": [
       "1075"
      ]
     },
     "execution_count": 4,
     "metadata": {},
     "output_type": "execute_result"
    }
   ],
   "source": [
    "len(documents)"
   ]
  },
  {
   "cell_type": "markdown",
   "metadata": {},
   "source": [
    "# Question 1: Latent semantic indexing"
   ]
  },
  {
   "cell_type": "markdown",
   "metadata": {},
   "source": [
    "## Question 1.1: Build the vocabulary by selecting top-k frequent words"
   ]
  },
  {
   "cell_type": "code",
   "execution_count": 5,
   "metadata": {},
   "outputs": [],
   "source": [
    "def create_vocabulary_frequency(corpus, vocab_len):\n",
    "    '''Select top-k (k = vocab_len) words in term of frequencies as vocabulary'''\n",
    "    \n",
    "    count = {}\n",
    "    for document in corpus:\n",
    "        for word in document.split():\n",
    "            if word in count:\n",
    "                count[word] += 1\n",
    "            else:\n",
    "                count[word] = 1\n",
    "    \n",
    "    sorted_count_by_freq = sorted(count.items(), key=lambda kv: kv[1], reverse=True)\n",
    "\n",
    "    vocabulary = [x[0] for x in sorted_count_by_freq[:vocab_len]]\n",
    "    return vocabulary\n"
   ]
  },
  {
   "cell_type": "code",
   "execution_count": 6,
   "metadata": {
    "scrolled": true
   },
   "outputs": [],
   "source": [
    "vocab_freq = create_vocabulary_frequency(documents, 1000)"
   ]
  },
  {
   "cell_type": "code",
   "execution_count": 7,
   "metadata": {},
   "outputs": [
    {
     "data": {
      "text/plain": [
       "['epfl',\n",
       " 'epflen',\n",
       " 'via',\n",
       " 'les',\n",
       " 'new',\n",
       " 'lausanne',\n",
       " 'switzerland',\n",
       " 'vdtech',\n",
       " 'research',\n",
       " 'swiss',\n",
       " 'science',\n",
       " 'students',\n",
       " 'innovation',\n",
       " 'first',\n",
       " 'martinvetterli',\n",
       " 'day',\n",
       " 'solar',\n",
       " 'great',\n",
       " 'open',\n",
       " 'unil',\n",
       " 'data',\n",
       " 'technology',\n",
       " 'learning',\n",
       " 'thanks',\n",
       " 'ethen',\n",
       " 'work',\n",
       " 'prof',\n",
       " 'today',\n",
       " 'startup',\n",
       " 'talk',\n",
       " 'see',\n",
       " 'days',\n",
       " 'next',\n",
       " 'congrats',\n",
       " 'one',\n",
       " 'good',\n",
       " 'suisse',\n",
       " 'researchers',\n",
       " 'campus',\n",
       " 'center',\n",
       " 'time',\n",
       " 'eth',\n",
       " 'energy',\n",
       " 'robots',\n",
       " 'join',\n",
       " 'us',\n",
       " 'epflcampus',\n",
       " 'cc',\n",
       " 'made',\n",
       " 'lab',\n",
       " 'dgtswitzerland',\n",
       " 'world',\n",
       " 'brain',\n",
       " 'robot',\n",
       " 'looking',\n",
       " 'meeting',\n",
       " 'people',\n",
       " 'drone',\n",
       " 'get',\n",
       " 'future',\n",
       " 'human',\n",
       " 'mooc',\n",
       " 'perovskite',\n",
       " 'could',\n",
       " 'epflenac',\n",
       " 'free',\n",
       " 'robotics',\n",
       " 'event',\n",
       " 'marcelsalathe',\n",
       " 'conference',\n",
       " 'proud',\n",
       " 'light',\n",
       " 'workshop',\n",
       " 'forward',\n",
       " 'week',\n",
       " 'school',\n",
       " 'der',\n",
       " 'president',\n",
       " 'universities',\n",
       " 'design',\n",
       " 'read',\n",
       " 'im',\n",
       " 'university',\n",
       " 'scientists',\n",
       " 'watch',\n",
       " 'cours',\n",
       " 'team',\n",
       " 'article',\n",
       " 'last',\n",
       " 'top',\n",
       " 'take',\n",
       " 'exciting',\n",
       " 'machine',\n",
       " 'best',\n",
       " 'start',\n",
       " 'excited',\n",
       " 'tomorrow',\n",
       " 'even',\n",
       " 'international',\n",
       " 'find',\n",
       " 'machinelearning',\n",
       " 'tech',\n",
       " 'epflevents',\n",
       " 'place',\n",
       " 'merci',\n",
       " 'working',\n",
       " 'oscience',\n",
       " 'für',\n",
       " 'cells',\n",
       " 'w',\n",
       " 'come',\n",
       " 'digital',\n",
       " 'award',\n",
       " 'datascience',\n",
       " 'part',\n",
       " 'architecture',\n",
       " 'paper',\n",
       " 'available',\n",
       " 'étudiants',\n",
       " 'video',\n",
       " 'years',\n",
       " 'und',\n",
       " 'congratulations',\n",
       " 'latest',\n",
       " 'cancer',\n",
       " 'projet',\n",
       " 'possible',\n",
       " 'two',\n",
       " 'mars',\n",
       " 'also',\n",
       " 'appliedmldays',\n",
       " 'smart',\n",
       " 'unigenews',\n",
       " 'quantum',\n",
       " 'drones',\n",
       " 'von',\n",
       " 'participants',\n",
       " 'really',\n",
       " 'help',\n",
       " 'professor',\n",
       " 'walk',\n",
       " 'happy',\n",
       " 'water',\n",
       " 'meet',\n",
       " 'swisscytometry',\n",
       " 'way',\n",
       " 'system',\n",
       " 'many',\n",
       " 'says',\n",
       " 'education',\n",
       " 'jacques',\n",
       " 'using',\n",
       " 'understand',\n",
       " 'zu',\n",
       " 'go',\n",
       " 'opportunity',\n",
       " 'activity',\n",
       " 'conférence',\n",
       " 'youtube',\n",
       " 'bien',\n",
       " 'global',\n",
       " 'study',\n",
       " 'show',\n",
       " 'formation',\n",
       " 'trust',\n",
       " 'nice',\n",
       " 'group',\n",
       " 'lecture',\n",
       " 'applied',\n",
       " 'ml',\n",
       " 'cseminfo',\n",
       " 'faire',\n",
       " 'façade',\n",
       " 'programme',\n",
       " 'program',\n",
       " 'think',\n",
       " 'need',\n",
       " 'artificial',\n",
       " 'engineering',\n",
       " 'like',\n",
       " 'unifr',\n",
       " 'cool',\n",
       " 'tool',\n",
       " 'want',\n",
       " 'vr',\n",
       " 'director',\n",
       " 'zurich',\n",
       " 'public',\n",
       " 'developed',\n",
       " 'topic',\n",
       " 'space',\n",
       " 'eucommission',\n",
       " 'impact',\n",
       " 'french',\n",
       " 'largest',\n",
       " 'clean',\n",
       " 'presenting',\n",
       " 'étudiant',\n",
       " 'cest',\n",
       " 'night',\n",
       " 'apply',\n",
       " 'startups',\n",
       " 'look',\n",
       " 'sdscdatascience',\n",
       " 'internet',\n",
       " 'year',\n",
       " 'cell',\n",
       " 'virtual',\n",
       " 'mieux',\n",
       " 'improve',\n",
       " 'rolex',\n",
       " 'comment',\n",
       " 'epflpark',\n",
       " 'deadline',\n",
       " 'recherche',\n",
       " 'fantastic',\n",
       " 'guide',\n",
       " 'aihealth',\n",
       " 'march',\n",
       " 'sv',\n",
       " 'disease',\n",
       " 'epflsv',\n",
       " 'phd',\n",
       " 'biology',\n",
       " 'development',\n",
       " 'house',\n",
       " 'dubochet',\n",
       " 'france',\n",
       " 'launch',\n",
       " 'less',\n",
       " 'discussion',\n",
       " 'potential',\n",
       " 'interview',\n",
       " 'plus',\n",
       " 'make',\n",
       " 'openscience',\n",
       " 'online',\n",
       " 'edtech',\n",
       " 'rolexlearningcenter',\n",
       " 'access',\n",
       " 'dark',\n",
       " 'venturelabch',\n",
       " 'library',\n",
       " 'dont',\n",
       " 'register',\n",
       " 'lead',\n",
       " 'neige',\n",
       " 'copenhagen',\n",
       " 'green',\n",
       " 'novel',\n",
       " 'das',\n",
       " 'weekend',\n",
       " 'single',\n",
       " 'noir',\n",
       " 'ever',\n",
       " 'master',\n",
       " 'numérique',\n",
       " 'learn',\n",
       " 'real',\n",
       " 'genève',\n",
       " 'robotic',\n",
       " 'young',\n",
       " 'model',\n",
       " 'dun',\n",
       " 'chuvlausanne',\n",
       " 'après',\n",
       " 'based',\n",
       " 'present',\n",
       " 'airbnb',\n",
       " 'ça',\n",
       " 'experience',\n",
       " 'competition',\n",
       " 'efficiency',\n",
       " 'thesis',\n",
       " 'high',\n",
       " 'blue',\n",
       " 'business',\n",
       " 'funding',\n",
       " 'hesso',\n",
       " 'jai',\n",
       " 'brjsa',\n",
       " 'centre',\n",
       " 'nouveau',\n",
       " 'thymioii',\n",
       " 'would',\n",
       " 'agepoly',\n",
       " 'million',\n",
       " 'inside',\n",
       " 'sciences',\n",
       " 'final',\n",
       " 'materials',\n",
       " 'deeplearning',\n",
       " 'nobelprize',\n",
       " 'winner',\n",
       " 'valais',\n",
       " 'film',\n",
       " 'nature',\n",
       " 'uzhnews',\n",
       " 'sxswiss',\n",
       " 'federal',\n",
       " 'institutes',\n",
       " 'welcome',\n",
       " 'forumepfl',\n",
       " 'support',\n",
       " 'zotero',\n",
       " 'intelligence',\n",
       " 'livre',\n",
       " 'towards',\n",
       " 'society',\n",
       " 'rt',\n",
       " 'offers',\n",
       " 'understanding',\n",
       " 'poster',\n",
       " 'workshops',\n",
       " 'luck',\n",
       " 'neuroscience',\n",
       " 'quality',\n",
       " 'successful',\n",
       " 'cytometry',\n",
       " 'polytechnique',\n",
       " 'systems',\n",
       " 'strong',\n",
       " 'among',\n",
       " 'still',\n",
       " 'security',\n",
       " 'information',\n",
       " 'matter',\n",
       " 'generation',\n",
       " 'apprendre',\n",
       " 'champsnight',\n",
       " 'police',\n",
       " 'love',\n",
       " 'technologies',\n",
       " 'hessovalais',\n",
       " 'stop',\n",
       " 'alzheimers',\n",
       " 'ceremony',\n",
       " 'mission',\n",
       " 'become',\n",
       " 'innovaud',\n",
       " 'santé',\n",
       " 'avalanche',\n",
       " 'full',\n",
       " 'snow',\n",
       " 'danish',\n",
       " 'installs',\n",
       " 'food',\n",
       " 'course',\n",
       " 'bigdata',\n",
       " 'level',\n",
       " 'chemistry',\n",
       " 'collaboration',\n",
       " 'frederickaplan',\n",
       " 'die',\n",
       " 'ready',\n",
       " 'colleagues',\n",
       " 'art',\n",
       " 'swissnexsf',\n",
       " 'session',\n",
       " 'tour',\n",
       " 'code',\n",
       " 'analysis',\n",
       " 'leurs',\n",
       " 'thank',\n",
       " 'mobility',\n",
       " 'cybersecurityday',\n",
       " 'impressive',\n",
       " 'well',\n",
       " 'immune',\n",
       " 'excellent',\n",
       " 'back',\n",
       " 'visit',\n",
       " 'études',\n",
       " 'making',\n",
       " 'projets',\n",
       " 'sure',\n",
       " 'applications',\n",
       " 'villes',\n",
       " 'epfllibrary',\n",
       " 'save',\n",
       " 'date',\n",
       " 'site',\n",
       " 'monde',\n",
       " 'reality',\n",
       " 'venture',\n",
       " 'former',\n",
       " 'power',\n",
       " 'market',\n",
       " 'nrel',\n",
       " 'record',\n",
       " 'hackathon',\n",
       " 'sign',\n",
       " 'projects',\n",
       " 'talking',\n",
       " 'old',\n",
       " 'done',\n",
       " 'al',\n",
       " 'develop',\n",
       " 'control',\n",
       " 'openfood',\n",
       " 'uzhnewsen',\n",
       " 'discover',\n",
       " 'edacyhq',\n",
       " 'invest',\n",
       " 'important',\n",
       " 'travail',\n",
       " 'si',\n",
       " 'quand',\n",
       " 'wef',\n",
       " 'attend',\n",
       " 'laboratory',\n",
       " 'fmondada',\n",
       " 'swsx',\n",
       " 'moocs',\n",
       " 'traces',\n",
       " 'martian',\n",
       " 'biological',\n",
       " 'meteorite',\n",
       " 'bravo',\n",
       " 'long',\n",
       " 'geneva',\n",
       " 'takes',\n",
       " 'health',\n",
       " 'life',\n",
       " 'early',\n",
       " 'april',\n",
       " 'main',\n",
       " 'city',\n",
       " 'aujourdhui',\n",
       " 'demain',\n",
       " 'epfls',\n",
       " 'areas',\n",
       " 'vaud',\n",
       " 'mechanics',\n",
       " 'wave',\n",
       " 'particle',\n",
       " 'lepfl',\n",
       " 'sich',\n",
       " 'chf',\n",
       " 'interaction',\n",
       " 'highlights',\n",
       " 'student',\n",
       " 'rlerignier',\n",
       " 'norme',\n",
       " 'tous',\n",
       " 'indeed',\n",
       " 'tumuenchen',\n",
       " 'hand',\n",
       " 'tuned',\n",
       " 'speakers',\n",
       " 'deep',\n",
       " 'psf',\n",
       " 'algorithms',\n",
       " 'digitalhealth',\n",
       " 'exposition',\n",
       " 'play',\n",
       " 'spinoff',\n",
       " 'know',\n",
       " 'rrl',\n",
       " 'dr',\n",
       " 'michael',\n",
       " 'panel',\n",
       " 'point',\n",
       " 'solutions',\n",
       " 'without',\n",
       " 'nanostructures',\n",
       " 'use',\n",
       " 'timeshighered',\n",
       " 'opportunities',\n",
       " 'inspired',\n",
       " 'wikipedia',\n",
       " 'studies',\n",
       " 'danger',\n",
       " 'slf',\n",
       " 'innovative',\n",
       " 'challenge',\n",
       " 'ia',\n",
       " 'eawagresearch',\n",
       " 'bibliotheque',\n",
       " 'très',\n",
       " 'aging',\n",
       " 'mit',\n",
       " 'alumni',\n",
       " 'unigeen',\n",
       " 'stem',\n",
       " 'much',\n",
       " 'sneedition',\n",
       " 'iso',\n",
       " 'february',\n",
       " 'cern',\n",
       " 'eurekalert',\n",
       " 'music',\n",
       " 'call',\n",
       " 'starts',\n",
       " 'intel',\n",
       " 'lets',\n",
       " 'privacy',\n",
       " 'lieu',\n",
       " 'info',\n",
       " 'page',\n",
       " 'fish',\n",
       " 'optical',\n",
       " 'may',\n",
       " 'amazing',\n",
       " 'europe',\n",
       " 'prize',\n",
       " 'bacterial',\n",
       " 'around',\n",
       " 'social',\n",
       " 'nberpubs',\n",
       " 'letemps',\n",
       " 'check',\n",
       " 'lesoepfl',\n",
       " 'club',\n",
       " 'scicomm',\n",
       " 'entre',\n",
       " 'happening',\n",
       " 'give',\n",
       " 'software',\n",
       " 'big',\n",
       " 'building',\n",
       " 'going',\n",
       " 'modeling',\n",
       " 'method',\n",
       " 'cet',\n",
       " 'january',\n",
       " 'soft',\n",
       " 'lake',\n",
       " 'dna',\n",
       " 'nccrrobotics',\n",
       " 'premier',\n",
       " 'network',\n",
       " 'achieve',\n",
       " 'sustainability',\n",
       " 'exosquelette',\n",
       " 'created',\n",
       " 'published',\n",
       " 'swisstechepfl',\n",
       " 'tonight',\n",
       " 'host',\n",
       " 'book',\n",
       " 'question',\n",
       " 'nexus',\n",
       " 'opensource',\n",
       " 'datadriven',\n",
       " 'girls',\n",
       " 'wslresearch',\n",
       " 'entrepreneurship',\n",
       " 'jobs',\n",
       " 'ask',\n",
       " 'speaking',\n",
       " 'silicon',\n",
       " 'prix',\n",
       " 'heart',\n",
       " 'epflartlab',\n",
       " 'man',\n",
       " 'opendata',\n",
       " 'computer',\n",
       " 'edacy',\n",
       " 'digitaltrust',\n",
       " 'ethrat',\n",
       " 'atelier',\n",
       " 'etc',\n",
       " 'ligne',\n",
       " 'keep',\n",
       " 'hosted',\n",
       " 'live',\n",
       " 'engineers',\n",
       " 'interesting',\n",
       " 'blockchain',\n",
       " 'fintech',\n",
       " 'robotique',\n",
       " 'humans',\n",
       " 'media',\n",
       " 'experts',\n",
       " 'mind',\n",
       " 'institute',\n",
       " 'symposium',\n",
       " 'summer',\n",
       " 'complexes',\n",
       " 'computational',\n",
       " 'presents',\n",
       " 'plenty',\n",
       " 'presented',\n",
       " 'missing',\n",
       " 'mobile',\n",
       " 'window',\n",
       " 'monitoring',\n",
       " 'process',\n",
       " 'début',\n",
       " 'septembre',\n",
       " 'ein',\n",
       " 'effyvayena',\n",
       " 'sxsw',\n",
       " 'aussi',\n",
       " 'solaire',\n",
       " 'thing',\n",
       " 'another',\n",
       " 'else',\n",
       " 'offer',\n",
       " 'pratique',\n",
       " 'csl',\n",
       " 'enjeux',\n",
       " 'artificielle',\n",
       " 'iot',\n",
       " 'découvrez',\n",
       " 'industrial',\n",
       " 'davos',\n",
       " 'interactions',\n",
       " 'transportation',\n",
       " 'alahi',\n",
       " 'travers',\n",
       " 'sans',\n",
       " 'policy',\n",
       " 'according',\n",
       " 'tueindhoven',\n",
       " 'used',\n",
       " 'naturecomms',\n",
       " 'super',\n",
       " 'stay',\n",
       " 'violainesee',\n",
       " 'cciliv',\n",
       " 'images',\n",
       " 'test',\n",
       " 'sécurité',\n",
       " 'able',\n",
       " 'medtech',\n",
       " 'p',\n",
       " 'measuring',\n",
       " 'swissedtechcollider',\n",
       " 'line',\n",
       " 'lives',\n",
       " 'mal',\n",
       " 'ecole',\n",
       " 'fédérale',\n",
       " 'feb',\n",
       " 'operations',\n",
       " 'size',\n",
       " 'virtualreality',\n",
       " 'environments',\n",
       " 'natural',\n",
       " 'bad',\n",
       " 'ist',\n",
       " 'partners',\n",
       " 'yunus',\n",
       " 'makes',\n",
       " 'darker',\n",
       " 'thought',\n",
       " 'darkmatter',\n",
       " 'hubble',\n",
       " 'astronomy',\n",
       " 'presentation',\n",
       " 'hopitauxunige',\n",
       " 'training',\n",
       " 'storage',\n",
       " 'professeur',\n",
       " 'besoin',\n",
       " 'population',\n",
       " 'uefa',\n",
       " 'healthy',\n",
       " 'mitochondria',\n",
       " 'someone',\n",
       " 'concept',\n",
       " 'travel',\n",
       " 'thomas',\n",
       " 'claude',\n",
       " 'nicollier',\n",
       " 'european',\n",
       " 'dsmeu',\n",
       " 'factory',\n",
       " 'masschallengech',\n",
       " 'japan',\n",
       " 'rts',\n",
       " 'envirobot',\n",
       " 'ainsi',\n",
       " 'caution',\n",
       " 'snowscience',\n",
       " 'sensors',\n",
       " 'medicine',\n",
       " 'proteins',\n",
       " 'series',\n",
       " 'waste',\n",
       " 'encore',\n",
       " 'alpine',\n",
       " 'extreme',\n",
       " 'portable',\n",
       " 'artlab',\n",
       " 'pierresoulages',\n",
       " 'points',\n",
       " 'different',\n",
       " 'bci',\n",
       " 'awards',\n",
       " 'champions',\n",
       " 'directeur',\n",
       " 'dune',\n",
       " 'humaines',\n",
       " 'measurements',\n",
       " 'tip',\n",
       " 'imaging',\n",
       " 'espace',\n",
       " 'avant',\n",
       " 'édition',\n",
       " 'avril',\n",
       " 'comes',\n",
       " 'travaux',\n",
       " 'stanford',\n",
       " 'spy',\n",
       " 'bbc',\n",
       " 'technologisteu',\n",
       " 'dhums',\n",
       " 'carlo',\n",
       " 'sept',\n",
       " 'review',\n",
       " 'sustainable',\n",
       " 'fast',\n",
       " 'espdakar',\n",
       " 'verge',\n",
       " 'datajamdays',\n",
       " 'ar',\n",
       " 'venez',\n",
       " 'patrimoine',\n",
       " 'reportage',\n",
       " 'français',\n",
       " 'months',\n",
       " 'techcrunch',\n",
       " 'lereseau',\n",
       " 'try',\n",
       " 'proposé',\n",
       " 'field',\n",
       " 'oui',\n",
       " 'chimie',\n",
       " 'isbsib',\n",
       " 'thursday',\n",
       " 'inscription',\n",
       " 'temps',\n",
       " 'resistance',\n",
       " 'microscopy',\n",
       " 'startuptickerch',\n",
       " 'discuss',\n",
       " 'artificialintelligence',\n",
       " 'itfaconference',\n",
       " 'v',\n",
       " 'behind',\n",
       " 'approach',\n",
       " 'matin',\n",
       " 'currently',\n",
       " 'wish',\n",
       " 'über',\n",
       " 'sharing',\n",
       " 'scala',\n",
       " 'grätzel',\n",
       " 'practical',\n",
       " 'specialist',\n",
       " 'academia',\n",
       " 'three',\n",
       " 'times',\n",
       " 'behavior',\n",
       " 'concours',\n",
       " 'epflmaurice',\n",
       " 'mauricelibrarysecurity',\n",
       " 'additive',\n",
       " 'photograph',\n",
       " 'birthday',\n",
       " 'vusurlecampus',\n",
       " 'active',\n",
       " 'shared',\n",
       " 'abstract',\n",
       " 'submission',\n",
       " 'touch',\n",
       " 'jmlattes',\n",
       " 'regisgodec',\n",
       " 'autatetoulouse',\n",
       " 'type',\n",
       " 'probably',\n",
       " 'harvardmed',\n",
       " 'museomix',\n",
       " 'candidatures',\n",
       " 'winter',\n",
       " 'improves',\n",
       " 'chromatin',\n",
       " 'digitalday',\n",
       " 'programmation',\n",
       " 'classe',\n",
       " 'drivers',\n",
       " 'kickoff',\n",
       " 'pm',\n",
       " 'graphene',\n",
       " 'create',\n",
       " 'truly',\n",
       " 'anton',\n",
       " 'schleiss',\n",
       " 'jours',\n",
       " 'deux',\n",
       " 'promising',\n",
       " 'modular',\n",
       " 'origami',\n",
       " 'ieee',\n",
       " 'received',\n",
       " 'suivre',\n",
       " 'looks',\n",
       " 'awesome',\n",
       " 'places',\n",
       " 'reconstruction',\n",
       " 'juridiques',\n",
       " 'rehabilitation',\n",
       " 'registration',\n",
       " 'built',\n",
       " 'species',\n",
       " 'ones',\n",
       " 'paris',\n",
       " 'set',\n",
       " 'aceexpedition',\n",
       " 'ethz',\n",
       " 'weeks',\n",
       " 'seed',\n",
       " 'industry',\n",
       " 'opening',\n",
       " 'job',\n",
       " 'stratocore',\n",
       " 'geomechaepfl',\n",
       " 'geteschool',\n",
       " 'management',\n",
       " 'cloud',\n",
       " 'lors',\n",
       " 'opticalfiber',\n",
       " 'succès',\n",
       " 'martin',\n",
       " 'vetterli',\n",
       " 'app',\n",
       " 'aus',\n",
       " 'opendatach',\n",
       " 'christmas',\n",
       " 'together',\n",
       " 'featuring',\n",
       " 'value',\n",
       " 'camp',\n",
       " 'bring',\n",
       " 'case',\n",
       " 'skills',\n",
       " 'e',\n",
       " 'swissedtech',\n",
       " 'feedback',\n",
       " 'enhances',\n",
       " 'brainwave',\n",
       " 'handexoskeleton',\n",
       " 'september',\n",
       " 'assist',\n",
       " 'patrick',\n",
       " 'aebischer',\n",
       " 'soir',\n",
       " 'repair',\n",
       " 'tissue',\n",
       " 'pain',\n",
       " 'gamayanews',\n",
       " 'break',\n",
       " 'pump',\n",
       " 'références',\n",
       " 'filles',\n",
       " 'highway',\n",
       " 'dindin',\n",
       " 'starting',\n",
       " 'unique',\n",
       " 'humanitarian',\n",
       " 'progress',\n",
       " 'getting',\n",
       " 'soon',\n",
       " 'jchenal',\n",
       " 'tdgch',\n",
       " 'focusonline',\n",
       " 'bild',\n",
       " 'regierungbw',\n",
       " 'cdu',\n",
       " 'gruenebundestag',\n",
       " 'thomasoppermann',\n",
       " 'gruenebw',\n",
       " 'europarlen',\n",
       " 'thats',\n",
       " 'pitch',\n",
       " 'news',\n",
       " 'patterns',\n",
       " 'transform',\n",
       " 'furniture',\n",
       " 'kamiahok',\n",
       " 'microsoft',\n",
       " 'bradsmi',\n",
       " 'ebugnion',\n",
       " 'geneve',\n",
       " 'donc',\n",
       " 'cette',\n",
       " 'archives',\n",
       " 'members',\n",
       " 'including',\n",
       " 'scientific',\n",
       " 'reveals',\n",
       " 'aviation',\n",
       " 'zhaw',\n",
       " 'facebook',\n",
       " 'versatile',\n",
       " 'countries',\n",
       " 'cltucci',\n",
       " 'présentation',\n",
       " 'registered',\n",
       " 'matière',\n",
       " 'stress',\n",
       " 'cyclometalated',\n",
       " 'ruthenium',\n",
       " 'directly',\n",
       " 'leader',\n",
       " 'giving',\n",
       " 'kicking',\n",
       " 'tutorial',\n",
       " 'timeseries',\n",
       " 'identified',\n",
       " 'gene',\n",
       " 'heclausanne',\n",
       " 'trois',\n",
       " 'étudier',\n",
       " 'observed',\n",
       " 'weather',\n",
       " 'antarctica',\n",
       " 'ict',\n",
       " 'conf',\n",
       " 'platforms',\n",
       " 'capitale',\n",
       " 'kuka',\n",
       " 'setzt',\n",
       " 'trusting',\n",
       " 'asks',\n",
       " 'sait',\n",
       " 'etatdevaud',\n",
       " 'national',\n",
       " 'dynamics',\n",
       " 'mechanisms',\n",
       " 'transformtech',\n",
       " 'imd',\n",
       " 'mrhiura',\n",
       " 'avoid',\n",
       " 'everyone',\n",
       " 'board',\n",
       " 'gender',\n",
       " 'strategy',\n",
       " 'childcare',\n",
       " 'trekkinglemon',\n",
       " 'lextensoetudian',\n",
       " 'fait',\n",
       " 'swisscom',\n",
       " 'défis',\n",
       " 'tout',\n",
       " 'citation',\n",
       " 'produce',\n",
       " 'dtsbourg',\n",
       " 'informed',\n",
       " 'nucleosomes',\n",
       " 'micro',\n",
       " 'histone',\n",
       " 'dynamic',\n",
       " 'jan',\n",
       " 'talks',\n",
       " 'small',\n",
       " 'existing',\n",
       " 'revolutionize',\n",
       " 'lire',\n",
       " 'louvrir',\n",
       " 'secret',\n",
       " 'archimagredac',\n",
       " 'challenges',\n",
       " 'r',\n",
       " 'dtutweet',\n",
       " 'leukemia',\n",
       " 'clearer',\n",
       " 'woop',\n",
       " 'covestrogroup',\n",
       " 'imdeanano',\n",
       " 'ujinoticias',\n",
       " 'imperialcollege',\n",
       " 'irem',\n",
       " 'winning',\n",
       " 'hot',\n",
       " 'geothermal',\n",
       " 'scireports',\n",
       " 'chance',\n",
       " 'deconvolution',\n",
       " 'deconvolutionlab',\n",
       " 'results',\n",
       " 'act',\n",
       " 'selfsufficient',\n",
       " 'home',\n",
       " 'panels',\n",
       " 'solardecathlon',\n",
       " 'advanced',\n",
       " 'ht',\n",
       " 'surface',\n",
       " 'nano',\n",
       " 'ex',\n",
       " 'member',\n",
       " 'discovery',\n",
       " 'century',\n",
       " 'jet',\n",
       " 'lag',\n",
       " 'chiccommunity']"
      ]
     },
     "execution_count": 7,
     "metadata": {},
     "output_type": "execute_result"
    }
   ],
   "source": [
    "vocab_freq"
   ]
  },
  {
   "cell_type": "markdown",
   "metadata": {},
   "source": [
    "## Question 1.2: Construct the term document matrix\n",
    "Construct the term document matrix given the vocabulary and the set of documents"
   ]
  },
  {
   "cell_type": "code",
   "execution_count": 8,
   "metadata": {},
   "outputs": [],
   "source": [
    "def construct_term_document_matrix(vocabulary, documents):\n",
    "    # Construct term-doc matrix\n",
    "    matrix = np.zeros((len(vocabulary), len(documents)))\n",
    "    for j, document in enumerate(documents):\n",
    "        counter = Counter(document.split())\n",
    "        for i, word in enumerate(vocabulary):\n",
    "            if word in counter:\n",
    "                matrix[i,j] = counter[word]\n",
    "    return matrix"
   ]
  },
  {
   "cell_type": "code",
   "execution_count": 9,
   "metadata": {},
   "outputs": [],
   "source": [
    "term_doc_matrix_freq = construct_term_document_matrix(vocab_freq, documents)"
   ]
  },
  {
   "cell_type": "markdown",
   "metadata": {},
   "source": [
    "## Question 1.3: Perform latent semantic indexing by selecting the first 100 largest singular values of the term document matrix  \n",
    "Hint 1: np.linalg.svd(M, full_matrices=False) performs SVD on the matrix $\\mathbf{M}$ and returns $\\mathbf{K}, \\mathbf{S}, \\mathbf{D}^T$\n",
    "\n",
    " -  $\\mathbf{K}, \\mathbf{D}^T$ are matrices with orthonormal columns\n",
    " -  $\\mathbf{S}$ is a **vector** of singular values in a **descending** order\n",
    " \n",
    "Hint 2: np.diag(V) converts a vector to a diagonal matrix\n",
    "\n",
    "Hint 3: To select \n",
    " - The first k rows of a matrix A, use A[0:k, :]\n",
    " - The first k columns of a matrix A, use A[:, 0:k]\n",
    " - The submatrix from first k rows and k columns: use A[0:k, 0:k]"
   ]
  },
  {
   "cell_type": "code",
   "execution_count": 10,
   "metadata": {},
   "outputs": [],
   "source": [
    "def truncated_svd(term_doc_matrix, num_val):\n",
    "    K, S, Dt = np.linalg.svd(term_doc_matrix, full_matrices=False)\n",
    "    K_sel = K[:,0:num_val]\n",
    "    S_sel = np.diag(S)[0:num_val,0:num_val]\n",
    "    Dt_sel = Dt[0:num_val,:]\n",
    "    return K_sel, S_sel, Dt_sel"
   ]
  },
  {
   "cell_type": "code",
   "execution_count": 11,
   "metadata": {},
   "outputs": [],
   "source": [
    "K_freq, S_freq, Dt_freq = truncated_svd(term_doc_matrix_freq,100)"
   ]
  },
  {
   "cell_type": "markdown",
   "metadata": {},
   "source": [
    "## Question 1.4: Transform the query "
   ]
  },
  {
   "cell_type": "markdown",
   "metadata": {},
   "source": [
    "Construct a vector representation for the following query"
   ]
  },
  {
   "cell_type": "code",
   "execution_count": 12,
   "metadata": {},
   "outputs": [],
   "source": [
    "query = ['epfl']"
   ]
  },
  {
   "cell_type": "code",
   "execution_count": 13,
   "metadata": {},
   "outputs": [],
   "source": [
    "def query_to_document_vector(query, vocabulary):\n",
    "    vector = np.zeros(len(vocabulary))\n",
    "    for word in query:\n",
    "        try:\n",
    "            vector[vocabulary.index(word)] += 1\n",
    "        except: # if query word is not in vocabulary\n",
    "            # ignore it\n",
    "            pass\n",
    "    return vector"
   ]
  },
  {
   "cell_type": "markdown",
   "metadata": {},
   "source": [
    "Hint: \n",
    " -  To compute inverse of a matrix M, use np.linalg.inv(M)\n",
    " -  To compute the dot product of A, B, use np.dot(A,B)"
   ]
  },
  {
   "cell_type": "code",
   "execution_count": 14,
   "metadata": {},
   "outputs": [],
   "source": [
    "def construct_query_vector(query, vocabulary, K_sel, S_sel):\n",
    "    q = query_to_document_vector(query, vocabulary)\n",
    "    mapper = np.dot(K_sel, np.linalg.inv(S_sel))\n",
    "    q_trans =  np.dot( q, mapper)\n",
    "    return q_trans"
   ]
  },
  {
   "cell_type": "code",
   "execution_count": 15,
   "metadata": {},
   "outputs": [],
   "source": [
    "query_vector_freq = construct_query_vector(query, vocab_freq, K_freq, S_freq)"
   ]
  },
  {
   "cell_type": "markdown",
   "metadata": {},
   "source": [
    "## Question 1.5: Retrieve top-10 relevant documents"
   ]
  },
  {
   "cell_type": "code",
   "execution_count": 16,
   "metadata": {},
   "outputs": [],
   "source": [
    "def cosine_similarity(v1, v2):\n",
    "    sumxx, sumxy, sumyy = 0, 0, 0\n",
    "    for i in range(len(v1)):\n",
    "        x = v1[i]; y = v2[i]\n",
    "        sumxx += x*x\n",
    "        sumyy += y*y\n",
    "        sumxy += x*y\n",
    "    return sumxy*1.0/math.sqrt(sumxx*sumyy)"
   ]
  },
  {
   "cell_type": "code",
   "execution_count": 17,
   "metadata": {},
   "outputs": [],
   "source": [
    "def retrieve_documents(query_vector, top_k, Dt_sel):\n",
    "    scores = [[cosine_similarity(query_vector, Dt_sel[:,d]), d] for d in range(len(documents))]\n",
    "    scores.sort(key=lambda x: -x[0])\n",
    "    doc_ids = []\n",
    "    retrieved = []\n",
    "    for i in range(top_k):\n",
    "        doc_ids.append(scores[i][1])\n",
    "        retrieved.append(orig_docs[scores[i][1]])\n",
    "    return doc_ids, retrieved\n",
    "        "
   ]
  },
  {
   "cell_type": "code",
   "execution_count": 18,
   "metadata": {},
   "outputs": [
    {
     "name": "stderr",
     "output_type": "stream",
     "text": [
      "/Users/duong/miniconda3/lib/python3.6/site-packages/ipykernel_launcher.py:8: RuntimeWarning: invalid value encountered in double_scalars\n",
      "  \n"
     ]
    }
   ],
   "source": [
    "retrieved_ids_freq, retrieved_docs_freq = retrieve_documents(query_vector_freq, 10, Dt_freq)"
   ]
  },
  {
   "cell_type": "code",
   "execution_count": 19,
   "metadata": {},
   "outputs": [
    {
     "name": "stdout",
     "output_type": "stream",
     "text": [
      "['Environnement, un marché en pleine croissance https://t.co/ThTcYLrMtn Avec '\n",
      " 'Philippe Thalmann @EPFL\\n',\n",
      " \"Belle leçon de technologie dans @RTScqfd avec l'exosquelette \"\n",
      " '@twiice_official testé par Silke Pan. https://t.co/4uIdXckvaq #RTScqfd '\n",
      " '#EPFL\\n',\n",
      " 'Chocolate &amp; berries #vegan cheesecake for my @EPFL coworkers! ✌🏽🌱 '\n",
      " '#veganfood #EPFLfood https://t.co/wPlLsIt0KD\\n',\n",
      " 'signé @EPFL https://t.co/sRldB2O7PM\\n',\n",
      " '#ff @Kikohs and his beautiful artworks. Some of them are displayed at @EPFL '\n",
      " 'and featured on ZettaBytes! https://t.co/8F4BNL7aAs\\n',\n",
      " 'Ca court, ca court à #carandache #epfl #wwim15 #wwim15_igerslausanne '\n",
      " 'https://t.co/0bNMBPx50k\\n',\n",
      " 'Le camion Cargo Congo du @theatredevidy est sur la #PlaceCosandey- ne '\n",
      " 'manquez pas de venir découvrir ce spectacle de 10 mins jusqu’à 14h puis à '\n",
      " '16h @EPFL https://t.co/D2JZztA3Ca\\n',\n",
      " \"Bras de fer autour de la taxe d’études de l'#EPFL https://t.co/pr7GBU3f04\\n\",\n",
      " '@nathan_quint You guys rock! @OpendataCH @EPFL\\n',\n",
      " '#Patients coachés sur le stand @rts :essayez-vous à la profession de '\n",
      " '#médecin &amp; au #diagnostic ! #pslive2016 #consultation #santé #rts #epfl '\n",
      " 'https://t.co/ym6u32Ngfp\\n']\n"
     ]
    }
   ],
   "source": [
    "pprint(retrieved_docs_freq)"
   ]
  },
  {
   "cell_type": "markdown",
   "metadata": {},
   "source": [
    "# Question 2: Evaluation"
   ]
  },
  {
   "cell_type": "code",
   "execution_count": 20,
   "metadata": {},
   "outputs": [],
   "source": [
    "# Retrieval oracle \n",
    "tf = TfidfVectorizer(analyzer='word', ngram_range=(1,1), vocabulary=vocab_freq, min_df = 1, stop_words = 'english')\n",
    "features = tf.fit_transform(documents)\n",
    "npm_tfidf = features.todense()\n",
    "\n",
    "# Return all document ids that that have cosine similarity with the query larger than a threshold\n",
    "def search_vec_sklearn(query, features, threshold=0.3):\n",
    "    new_features = tf.transform([query])\n",
    "    cosine_similarities = linear_kernel(new_features, features).flatten()\n",
    "    related_docs_indices, cos_sim_sorted = zip(*sorted(enumerate(cosine_similarities), key=itemgetter(1), \n",
    "                                                       reverse=True))\n",
    "    doc_ids = []\n",
    "    for i, cos_sim in enumerate(cos_sim_sorted):\n",
    "        if cos_sim < threshold:\n",
    "            break\n",
    "        doc_ids.append(related_docs_indices[i])\n",
    "    return doc_ids"
   ]
  },
  {
   "cell_type": "code",
   "execution_count": 21,
   "metadata": {},
   "outputs": [],
   "source": [
    "gt_ids = search_vec_sklearn(\" \".join(query), features)"
   ]
  },
  {
   "cell_type": "code",
   "execution_count": 22,
   "metadata": {},
   "outputs": [
    {
     "name": "stdout",
     "output_type": "stream",
     "text": [
      "@EPFL Retrouvez votre 1er tweet sélectionné par L'important https://t.co/B2tCt924Cp\n",
      "Environnement, un marché en pleine croissance https://t.co/ThTcYLrMtn Avec Philippe Thalmann @EPFL\n",
      "Belle leçon de technologie dans @RTScqfd avec l'exosquelette @twiice_official testé par Silke Pan. https://t.co/4uIdXckvaq #RTScqfd #EPFL\n",
      "Chocolate &amp; berries #vegan cheesecake for my @EPFL coworkers! ✌🏽🌱 #veganfood #EPFLfood https://t.co/wPlLsIt0KD\n",
      "I see you @EPFL ! https://t.co/BxrHPaMqlX\n",
      "#Walking on two #legs isn’t as easy as it seems... @EPFL  https://t.co/Af6Shy2CvV https://t.co/ecz2M8Znl4\n",
      "signé @EPFL https://t.co/sRldB2O7PM\n",
      "#ff @Kikohs and his beautiful artworks. Some of them are displayed at @EPFL and featured on ZettaBytes! https://t.co/8F4BNL7aAs\n",
      "Ca court, ca court à #carandache #epfl #wwim15 #wwim15_igerslausanne https://t.co/0bNMBPx50k\n",
      "Le camion Cargo Congo du @theatredevidy est sur la #PlaceCosandey- ne manquez pas de venir découvrir ce spectacle de 10 mins jusqu’à 14h puis à 16h @EPFL https://t.co/D2JZztA3Ca\n",
      "Un Plan de mobilité « Made in EPFL » https://t.co/efcVQ215Nh #epfl\n",
      "Attention aux emails frauduleux https://t.co/Mjlq4D3RWM #epfl\n",
      "#Melenchon passe 2eme dans l'outils d'analyse des #reseauxsociaux de @SwissquoteNews @EPFL  https://t.co/gQk1H9bPlR #Presidentielle2017 https://t.co/qFNRPQE4t2\n",
      "But what a woman! @samsam_86 #EPFL   https://t.co/hM1ccY2plN\n",
      "L'histoire de l'Académie racontée par #Jean-ClaudeBadoux, seul président romand de la SATW jusqu'à présent: https://t.co/yRkOycBSle @EPFL https://t.co/ZZXZHasdjN\n",
      "Que reste-t-il de lʹesprit des squats des années 1980?  https://t.co/m80VlQSkfQ Avec Luca Pattaroni @EPFL\n",
      "EPFL morning #epfl #lausanne #photography https://t.co/6IXddicblu\n",
      "PostCarWorld | EPFL https://t.co/KfFQRJrQVb #epfl #epflcampus\n",
      "Bluebrain | EPFL https://t.co/Y2S3hz1817 #epfl #epflcampus\n",
      "L'app pour «liker» en direct les transports publics https://t.co/3HbkTnIE3Q #epfl\n",
      "L'électrochimie débusque les protéines résistantes aux antibiotiques https://t.co/BHlj5WHMbC Avec Hubert Girault @EPFL\n",
      "Femmes en politique, pour en finir avec les seconds rôles https://t.co/IgIkg8yrxy #epfl\n",
      "Des #microchips optimisent les «codes polaires» essentiels à la #5G https://t.co/FS7tDPBFsP @epfl\n",
      "Des nichoirs digitaux pour observer les chouettes https://t.co/iPc3bFDrsL Avec Marion Curdy @EPFL\n",
      "Les #GAFA sont-ils devenus trop puissants? https://t.co/9F9q98oXPE Avec Charles Wyplosz @IHEID et Denis Gillet @EPFL\n",
      "Six EPFL startups are among the Swiss top 10 https://t.co/Re0xB2VBZ0 #epfl\n",
      "EPFL students get hands-on experience with “Made in China” https://t.co/DKgMXia7tQ #epfl\n",
      "Spaceship #epfl #lausanne https://t.co/Lb223yT804\n",
      "Waiting for the ceremony to start! #epflalumnigala #epfl  @epfl https://t.co/ucZjZmNfYF\n",
      "Deprivation: a decisive factor in genetic predisposition to #obesity a study @EPFL @CHUVLausanne https://t.co/epvU8vlA0c #epfl #publichealth https://t.co/jW8sWVTLTQ\n",
      "Nicolas Mounet from EPFL @EPFL talking about two-dimensional materials and high-throughput calculations at #MaXConf2018 in Trieste @aiidateam @nccr_marvel https://t.co/qGyOt0yVZn\n",
      "Drone Days | EPFL https://t.co/ZdNwhb0EzL #epfl #epflcampus\n",
      "Le mystère Soulages éblouit la science @EPFL  https://t.co/u3uNICyAdi\n",
      "Functional programming in @scala_lang @epfl first day https://t.co/HTryOqhYq7\n"
     ]
    }
   ],
   "source": [
    "for i in gt_ids:\n",
    "    print(orig_docs[i].strip())"
   ]
  },
  {
   "cell_type": "markdown",
   "metadata": {},
   "source": [
    "## Question 2.1: Compute F1-score at 10 between oracle and the above result"
   ]
  },
  {
   "cell_type": "code",
   "execution_count": 23,
   "metadata": {},
   "outputs": [],
   "source": [
    "def compute_recall_at_k(predict, gt, k):\n",
    "    correct_recall = set(predict[:k]).intersection(set(gt))\n",
    "    return len(correct_recall)/len(gt)"
   ]
  },
  {
   "cell_type": "code",
   "execution_count": 24,
   "metadata": {},
   "outputs": [],
   "source": [
    "def compute_precision_at_k(predict, gt, k):\n",
    "    correct_predict = set(predict[:k]).intersection(set(gt))\n",
    "    return len(correct_predict)/k"
   ]
  },
  {
   "cell_type": "code",
   "execution_count": 25,
   "metadata": {},
   "outputs": [],
   "source": [
    "def f1score(predict, gt, k):\n",
    "    prec = compute_precision_at_k(predict, gt, k)\n",
    "    rec = compute_recall_at_k(predict, gt, k)\n",
    "    print(prec, rec)\n",
    "    return 2*prec*rec/(prec+rec)"
   ]
  },
  {
   "cell_type": "code",
   "execution_count": 26,
   "metadata": {},
   "outputs": [
    {
     "name": "stdout",
     "output_type": "stream",
     "text": [
      "0.7 0.20588235294117646\n"
     ]
    },
    {
     "data": {
      "text/plain": [
       "0.3181818181818182"
      ]
     },
     "execution_count": 26,
     "metadata": {},
     "output_type": "execute_result"
    }
   ],
   "source": [
    "f1score(retrieved_ids_freq, gt_ids, 10)"
   ]
  },
  {
   "cell_type": "markdown",
   "metadata": {},
   "source": [
    "# Question 3: Plot the terms using two principal concepts"
   ]
  },
  {
   "cell_type": "markdown",
   "metadata": {},
   "source": [
    "## Question 3.1: Compute term vectors using two principal concepts"
   ]
  },
  {
   "cell_type": "code",
   "execution_count": 27,
   "metadata": {},
   "outputs": [],
   "source": [
    "term_vecs_freq, _, _ = truncated_svd(term_doc_matrix_freq,2)"
   ]
  },
  {
   "cell_type": "code",
   "execution_count": 28,
   "metadata": {},
   "outputs": [
    {
     "data": {
      "text/plain": [
       "(1000, 2)"
      ]
     },
     "execution_count": 28,
     "metadata": {},
     "output_type": "execute_result"
    }
   ],
   "source": [
    "term_vecs_freq.shape"
   ]
  },
  {
   "cell_type": "markdown",
   "metadata": {},
   "source": [
    "### Plot the term vectors using two principal concepts"
   ]
  },
  {
   "cell_type": "code",
   "execution_count": 29,
   "metadata": {},
   "outputs": [],
   "source": [
    "%matplotlib inline\n",
    "import matplotlib.pyplot as plt\n",
    "from pylab import *"
   ]
  },
  {
   "cell_type": "markdown",
   "metadata": {},
   "source": [
    "Hint: You can use plt.scatter(x, y) for a scatter plot. x is a vector of x-axis value and y is a vector of y-axis value"
   ]
  },
  {
   "cell_type": "code",
   "execution_count": 30,
   "metadata": {
    "scrolled": true
   },
   "outputs": [
    {
     "data": {
      "image/png": "[encoded data removed]",
      "text/plain": [
       "<Figure size 432x288 with 1 Axes>"
      ]
     },
     "metadata": {},
     "output_type": "display_data"
    }
   ],
   "source": [
    "plt.scatter(term_vecs_freq[:, 0], term_vecs_freq[:, 1])\n",
    "for i, t in enumerate(vocab_freq):\n",
    "    plt.annotate(t, (term_vecs_freq[i, 0], term_vecs_freq[i, 1]))\n",
    "plt.show()"
   ]
  },
  {
   "cell_type": "markdown",
   "metadata": {},
   "source": [
    "## Question 3.2: Explain the scatter plot"
   ]
  },
  {
   "cell_type": "markdown",
   "metadata": {
    "collapsed": true,
    "jupyter": {
     "outputs_hidden": true
    }
   },
   "source": [
    "epfl and epflen are two Twitter handles of EPFL which explains why the two principal concepts are mainly made up of these terms."
   ]
  },
  {
   "cell_type": "markdown",
   "metadata": {},
   "source": [
    "# Distributed Information Systems\n",
    "\n",
    "***Final Exam, Fall Semester, 2021***\n",
    "\n",
    "The exam will be held on your computer, but digital communication with other persons by any means is **strictly prohibited**.\n",
    "The following materials are also allowed: exercise sheets and solutions, past exams with your own solution, personally written notes and personally collected documentation. You may also use Stackoverflow and Python documentation for questions related to Python programming.\n",
    "By participating in this exam you **agree to these conditions**.\n",
    "\n",
    "These are the instructions for the exam:\n",
    "\n",
    "- You are not allowed to leave the examination room in the first 20 and the last 15 minutes of the exam.\n",
    "- The quiz will remain open **only for the first 2 hours** of the exam to avoid network congestion.\n",
    "- **30 minutes** before the end of the exam we will announce a password to upload your jupyter notebook on **Moodle**.\n",
    "- It is not recommended to leave the exam before the password is published. If you need to leave earlier, contact us.\n",
    "- **You must follow the EPFL guidelines and wear your mask when you enter, leave, and move around the exam room.**\n",
    "- **You have to wear the bracelet for COVID certification at all times.**\n",
    "- **We would also like to kindly ask you to wear your mask when you ask questions and when we check your camipro card.**"
   ]
  },
  {
   "cell_type": "markdown",
   "metadata": {},
   "source": [
    "## 0 Rename your Notebook\n",
    "Replace SciperNo with your **personal SCIPER Number**."
   ]
  },
  {
   "cell_type": "markdown",
   "metadata": {},
   "source": [
    "## 1 [Multiple Choice Questions]()\n",
    "**Password**: "
   ]
  },
  {
   "cell_type": "markdown",
   "metadata": {},
   "source": [
    "## 2 Theory Question\n",
    "\n",
    "*(5 sub-questions)*"
   ]
  },
  {
   "attachments": {
    "graph.png": {
     "image/png": "[encoded data removed]"
    }
   },
   "cell_type": "markdown",
   "metadata": {},
   "source": [
    "![graph.png](attachment:graph.png)\n",
    "\n",
    "Answer the questions regarding the graph above. You can do the computations either by hand or by using computer."
   ]
  },
  {
   "cell_type": "markdown",
   "metadata": {},
   "source": [
    "> **1. You are going to run Pagerank on this graph. What is the link matrix? What does it become after normalizing by the node degrees? (Please explicitly state what do the rows and the columns indicate.)**"
   ]
  },
  {
   "cell_type": "markdown",
   "metadata": {},
   "source": []
  },
  {
   "cell_type": "markdown",
   "metadata": {},
   "source": [
    "> **2. Run Pagerank without teleporting for two iterations. What are the final pagerank scores and the ranking? Show your work. You can assume all pages initially have a pagerank score of 1. Hint: Do not forget to normalize pagerank scores so that they will add up to 1 after each iteration.**"
   ]
  },
  {
   "cell_type": "markdown",
   "metadata": {},
   "source": []
  },
  {
   "cell_type": "markdown",
   "metadata": {},
   "source": [
    "> **3. Suppose that the edge (E, C) did not exist. What would be the final ranking?** "
   ]
  },
  {
   "cell_type": "markdown",
   "metadata": {},
   "source": []
  },
  {
   "cell_type": "markdown",
   "metadata": {},
   "source": [
    "> **4. Run Personalized Pagerank with teleporting probability of 1/5. Random jumps are always to node A. Iterate only once. What are the final scores and the ranking?**"
   ]
  },
  {
   "cell_type": "markdown",
   "metadata": {},
   "source": []
  },
  {
   "cell_type": "markdown",
   "metadata": {},
   "source": [
    "> **5. Imagine a new node is connected to the network by a single edge directed to A. How this would affect the result of 2 and 4?**"
   ]
  },
  {
   "cell_type": "markdown",
   "metadata": {},
   "source": []
  },
  {
   "cell_type": "markdown",
   "metadata": {},
   "source": [
    "## 3 News recommendation\n",
    "\n",
    "You will create news recommendations for the small news portal aggregator, \"*allabouthealthcare.com*\", regarding news about healthcare. In this website users can read various news articles regarding healthcare collected from popular healthcare media. \n",
    "\n",
    "The developers of the website collect analytics regarding which user has read what article. You are hired to create a recommendation engine that will provide news recommendations to users.\n",
    "\n",
    "You will first explore the dataset by providing dataset descriptive statistics, and then you will implement various methods for news recommendation.\n",
    "\n",
    "#### DATASET\n",
    "You are given two files regarding the news articles consumption of this news portal. \n",
    "\n",
    "> 1. **News articles** (*news_articles.txt*): \n",
    ">\n",
    "> This dataset contains information about the news articles collected by the portal.\n",
    "> The information stored for each article is the following:\n",
    ">\n",
    "> - **article id**: The id of the article.\n",
    "> - **title**: The title of the article.\n",
    "- **medium**: The news portal the the article was originally published.\n",
    "- **publish date**: The date of publication of the article.\n",
    "- **authors**: The names and surnames of authors seperated with comma.\n",
    "- **corpus**: The main text of the article without any identation.\n",
    "- **url**: The url of the article.\n",
    "\n",
    "> 2. **User log** (*user_log.txt*)\n",
    ">\n",
    "> This dataset contains the user log of *allabouthealthcare.com*. \n",
    "> The information stored for each row is the following:\n",
    ">\n",
    "> - **user id**: The id of the user.\n",
    "- **article id**: The id of the article the user read.\n"
   ]
  },
  {
   "cell_type": "markdown",
   "metadata": {},
   "source": [
    "### 3.1 Understanding the dataset\n",
    "*(5 sub-questions)*\n",
    "\n",
    "You need to compute the following descriptive statistics for the aforementioned dataset."
   ]
  },
  {
   "cell_type": "code",
   "execution_count": 15,
   "metadata": {},
   "outputs": [],
   "source": [
    "# import libraries\n",
    "import pandas as pd\n",
    "import numpy as np\n",
    "\n",
    "# read the dataset\n",
    "articles = pd.read_csv('data/news_articles.txt', sep='|').fillna('')\n",
    "log = pd.read_csv('data/user_log.txt', sep='|')"
   ]
  },
  {
   "cell_type": "code",
   "execution_count": 16,
   "metadata": {},
   "outputs": [
    {
     "data": {
      "text/html": [
       "<div>\n",
       "<style scoped>\n",
       "    .dataframe tbody tr th:only-of-type {\n",
       "        vertical-align: middle;\n",
       "    }\n",
       "\n",
       "    .dataframe tbody tr th {\n",
       "        vertical-align: top;\n",
       "    }\n",
       "\n",
       "    .dataframe thead th {\n",
       "        text-align: right;\n",
       "    }\n",
       "</style>\n",
       "<table border=\"1\" class=\"dataframe\">\n",
       "  <thead>\n",
       "    <tr style=\"text-align: right;\">\n",
       "      <th></th>\n",
       "      <th>article_id</th>\n",
       "      <th>title</th>\n",
       "      <th>medium</th>\n",
       "      <th>publish_date</th>\n",
       "      <th>authors</th>\n",
       "      <th>corpus</th>\n",
       "      <th>url</th>\n",
       "    </tr>\n",
       "  </thead>\n",
       "  <tbody>\n",
       "    <tr>\n",
       "      <td>0</td>\n",
       "      <td>0</td>\n",
       "      <td>how address inequity healthcare ai hire divers...</td>\n",
       "      <td>www.healthcareitnews.com</td>\n",
       "      <td>2022-01-13T09:05:39-05:00</td>\n",
       "      <td>Kat Jercich</td>\n",
       "      <td>even artificial intelligence become thoroughly...</td>\n",
       "      <td>https://www.healthcareitnews.com/news/how-addr...</td>\n",
       "    </tr>\n",
       "    <tr>\n",
       "      <td>1</td>\n",
       "      <td>1</td>\n",
       "      <td>cyberattack red cross endangers confidential i...</td>\n",
       "      <td>www.healthcareitnews.com</td>\n",
       "      <td>2022-01-21T12:06:48-05:00</td>\n",
       "      <td>Kat Jercich</td>\n",
       "      <td>the red cross reported week cyberattack contra...</td>\n",
       "      <td>https://www.healthcareitnews.com/news/cyber-at...</td>\n",
       "    </tr>\n",
       "    <tr>\n",
       "      <td>2</td>\n",
       "      <td>2</td>\n",
       "      <td>like banks healthcare become zoom healthcare l...</td>\n",
       "      <td>www.healthcareitnews.com</td>\n",
       "      <td>2022-01-20T12:43:10-05:00</td>\n",
       "      <td>Bill Siwicki</td>\n",
       "      <td>digital transformation topic jour healthcare t...</td>\n",
       "      <td>https://www.healthcareitnews.com/news/banks-he...</td>\n",
       "    </tr>\n",
       "    <tr>\n",
       "      <td>3</td>\n",
       "      <td>3</td>\n",
       "      <td>why voice recognition new competitive battlegr...</td>\n",
       "      <td>www.healthcareitnews.com</td>\n",
       "      <td>2022-01-20T12:24:54-05:00</td>\n",
       "      <td>Paddy Padmanabhan</td>\n",
       "      <td>for watching based artificial intelligence too...</td>\n",
       "      <td>https://www.healthcareitnews.com/blog/why-voic...</td>\n",
       "    </tr>\n",
       "    <tr>\n",
       "      <td>4</td>\n",
       "      <td>4</td>\n",
       "      <td>biden team regroups court loss covid</td>\n",
       "      <td>www.modernhealthcare.com</td>\n",
       "      <td>2022-01-14T17:30:38-05:00</td>\n",
       "      <td>Associated Press</td>\n",
       "      <td>concerned giving president joe biden anxiously...</td>\n",
       "      <td>https://www.modernhealthcare.com/politics-poli...</td>\n",
       "    </tr>\n",
       "  </tbody>\n",
       "</table>\n",
       "</div>"
      ],
      "text/plain": [
       "   article_id                                              title  \\\n",
       "0           0  how address inequity healthcare ai hire divers...   \n",
       "1           1  cyberattack red cross endangers confidential i...   \n",
       "2           2  like banks healthcare become zoom healthcare l...   \n",
       "3           3  why voice recognition new competitive battlegr...   \n",
       "4           4               biden team regroups court loss covid   \n",
       "\n",
       "                     medium               publish_date            authors  \\\n",
       "0  www.healthcareitnews.com  2022-01-13T09:05:39-05:00        Kat Jercich   \n",
       "1  www.healthcareitnews.com  2022-01-21T12:06:48-05:00        Kat Jercich   \n",
       "2  www.healthcareitnews.com  2022-01-20T12:43:10-05:00       Bill Siwicki   \n",
       "3  www.healthcareitnews.com  2022-01-20T12:24:54-05:00  Paddy Padmanabhan   \n",
       "4  www.modernhealthcare.com  2022-01-14T17:30:38-05:00   Associated Press   \n",
       "\n",
       "                                              corpus  \\\n",
       "0  even artificial intelligence become thoroughly...   \n",
       "1  the red cross reported week cyberattack contra...   \n",
       "2  digital transformation topic jour healthcare t...   \n",
       "3  for watching based artificial intelligence too...   \n",
       "4  concerned giving president joe biden anxiously...   \n",
       "\n",
       "                                                 url  \n",
       "0  https://www.healthcareitnews.com/news/how-addr...  \n",
       "1  https://www.healthcareitnews.com/news/cyber-at...  \n",
       "2  https://www.healthcareitnews.com/news/banks-he...  \n",
       "3  https://www.healthcareitnews.com/blog/why-voic...  \n",
       "4  https://www.modernhealthcare.com/politics-poli...  "
      ]
     },
     "execution_count": 16,
     "metadata": {},
     "output_type": "execute_result"
    }
   ],
   "source": [
    "articles.head()"
   ]
  },
  {
   "cell_type": "code",
   "execution_count": 17,
   "metadata": {},
   "outputs": [
    {
     "data": {
      "text/html": [
       "<div>\n",
       "<style scoped>\n",
       "    .dataframe tbody tr th:only-of-type {\n",
       "        vertical-align: middle;\n",
       "    }\n",
       "\n",
       "    .dataframe tbody tr th {\n",
       "        vertical-align: top;\n",
       "    }\n",
       "\n",
       "    .dataframe thead th {\n",
       "        text-align: right;\n",
       "    }\n",
       "</style>\n",
       "<table border=\"1\" class=\"dataframe\">\n",
       "  <thead>\n",
       "    <tr style=\"text-align: right;\">\n",
       "      <th></th>\n",
       "      <th>user_id</th>\n",
       "      <th>article_id</th>\n",
       "    </tr>\n",
       "  </thead>\n",
       "  <tbody>\n",
       "    <tr>\n",
       "      <td>0</td>\n",
       "      <td>0</td>\n",
       "      <td>0</td>\n",
       "    </tr>\n",
       "    <tr>\n",
       "      <td>1</td>\n",
       "      <td>0</td>\n",
       "      <td>1</td>\n",
       "    </tr>\n",
       "    <tr>\n",
       "      <td>2</td>\n",
       "      <td>0</td>\n",
       "      <td>2</td>\n",
       "    </tr>\n",
       "    <tr>\n",
       "      <td>3</td>\n",
       "      <td>0</td>\n",
       "      <td>4</td>\n",
       "    </tr>\n",
       "    <tr>\n",
       "      <td>4</td>\n",
       "      <td>0</td>\n",
       "      <td>13</td>\n",
       "    </tr>\n",
       "  </tbody>\n",
       "</table>\n",
       "</div>"
      ],
      "text/plain": [
       "   user_id  article_id\n",
       "0        0           0\n",
       "1        0           1\n",
       "2        0           2\n",
       "3        0           4\n",
       "4        0          13"
      ]
     },
     "execution_count": 17,
     "metadata": {},
     "output_type": "execute_result"
    }
   ],
   "source": [
    "log.head()"
   ]
  },
  {
   "cell_type": "markdown",
   "metadata": {},
   "source": [
    "> **3.1.1. Compute the top 20 word occurencies from the corpora of all the articles (provide the result sorted)**"
   ]
  },
  {
   "cell_type": "code",
   "execution_count": 18,
   "metadata": {},
   "outputs": [
    {
     "data": {
      "text/html": [
       "<div>\n",
       "<style scoped>\n",
       "    .dataframe tbody tr th:only-of-type {\n",
       "        vertical-align: middle;\n",
       "    }\n",
       "\n",
       "    .dataframe tbody tr th {\n",
       "        vertical-align: top;\n",
       "    }\n",
       "\n",
       "    .dataframe thead th {\n",
       "        text-align: right;\n",
       "    }\n",
       "</style>\n",
       "<table border=\"1\" class=\"dataframe\">\n",
       "  <thead>\n",
       "    <tr style=\"text-align: right;\">\n",
       "      <th></th>\n",
       "      <th>word</th>\n",
       "      <th>counts</th>\n",
       "    </tr>\n",
       "  </thead>\n",
       "  <tbody>\n",
       "    <tr>\n",
       "      <td>0</td>\n",
       "      <td>said</td>\n",
       "      <td>131</td>\n",
       "    </tr>\n",
       "    <tr>\n",
       "      <td>1</td>\n",
       "      <td>health</td>\n",
       "      <td>118</td>\n",
       "    </tr>\n",
       "    <tr>\n",
       "      <td>2</td>\n",
       "      <td>healthcare</td>\n",
       "      <td>105</td>\n",
       "    </tr>\n",
       "    <tr>\n",
       "      <td>3</td>\n",
       "      <td>the</td>\n",
       "      <td>96</td>\n",
       "    </tr>\n",
       "    <tr>\n",
       "      <td>4</td>\n",
       "      <td>patients</td>\n",
       "      <td>59</td>\n",
       "    </tr>\n",
       "    <tr>\n",
       "      <td>5</td>\n",
       "      <td>people</td>\n",
       "      <td>49</td>\n",
       "    </tr>\n",
       "    <tr>\n",
       "      <td>6</td>\n",
       "      <td>new</td>\n",
       "      <td>43</td>\n",
       "    </tr>\n",
       "    <tr>\n",
       "      <td>7</td>\n",
       "      <td>covid</td>\n",
       "      <td>42</td>\n",
       "    </tr>\n",
       "    <tr>\n",
       "      <td>8</td>\n",
       "      <td>data</td>\n",
       "      <td>41</td>\n",
       "    </tr>\n",
       "    <tr>\n",
       "      <td>9</td>\n",
       "      <td>it</td>\n",
       "      <td>41</td>\n",
       "    </tr>\n",
       "    <tr>\n",
       "      <td>10</td>\n",
       "      <td>ibm</td>\n",
       "      <td>40</td>\n",
       "    </tr>\n",
       "    <tr>\n",
       "      <td>11</td>\n",
       "      <td>company</td>\n",
       "      <td>37</td>\n",
       "    </tr>\n",
       "    <tr>\n",
       "      <td>12</td>\n",
       "      <td>we</td>\n",
       "      <td>35</td>\n",
       "    </tr>\n",
       "    <tr>\n",
       "      <td>13</td>\n",
       "      <td>medical</td>\n",
       "      <td>31</td>\n",
       "    </tr>\n",
       "    <tr>\n",
       "      <td>14</td>\n",
       "      <td>hospitals</td>\n",
       "      <td>29</td>\n",
       "    </tr>\n",
       "    <tr>\n",
       "      <td>15</td>\n",
       "      <td>watson</td>\n",
       "      <td>26</td>\n",
       "    </tr>\n",
       "    <tr>\n",
       "      <td>16</td>\n",
       "      <td>in</td>\n",
       "      <td>24</td>\n",
       "    </tr>\n",
       "    <tr>\n",
       "      <td>17</td>\n",
       "      <td>clinical</td>\n",
       "      <td>24</td>\n",
       "    </tr>\n",
       "    <tr>\n",
       "      <td>18</td>\n",
       "      <td>patient</td>\n",
       "      <td>24</td>\n",
       "    </tr>\n",
       "    <tr>\n",
       "      <td>19</td>\n",
       "      <td>need</td>\n",
       "      <td>23</td>\n",
       "    </tr>\n",
       "  </tbody>\n",
       "</table>\n",
       "</div>"
      ],
      "text/plain": [
       "          word  counts\n",
       "0         said     131\n",
       "1       health     118\n",
       "2   healthcare     105\n",
       "3          the      96\n",
       "4     patients      59\n",
       "5       people      49\n",
       "6          new      43\n",
       "7        covid      42\n",
       "8         data      41\n",
       "9           it      41\n",
       "10         ibm      40\n",
       "11     company      37\n",
       "12          we      35\n",
       "13     medical      31\n",
       "14   hospitals      29\n",
       "15      watson      26\n",
       "16          in      24\n",
       "17    clinical      24\n",
       "18     patient      24\n",
       "19        need      23"
      ]
     },
     "execution_count": 18,
     "metadata": {},
     "output_type": "execute_result"
    }
   ],
   "source": [
    "# PLEASE ADD YOUR CODE SOLUTION AND RUN THE CELL HERE\n",
    "articles['corpus'].str.split(expand=True).stack().value_counts().rename_axis('word').reset_index(name='counts')[:20]\n",
    "# ---------------------------------------------------"
   ]
  },
  {
   "cell_type": "markdown",
   "metadata": {},
   "source": [
    "> **3.1.2. Compute the top 3 most published media (provide the result sorted)**"
   ]
  },
  {
   "cell_type": "code",
   "execution_count": 19,
   "metadata": {},
   "outputs": [
    {
     "data": {
      "text/html": [
       "<div>\n",
       "<style scoped>\n",
       "    .dataframe tbody tr th:only-of-type {\n",
       "        vertical-align: middle;\n",
       "    }\n",
       "\n",
       "    .dataframe tbody tr th {\n",
       "        vertical-align: top;\n",
       "    }\n",
       "\n",
       "    .dataframe thead th {\n",
       "        text-align: right;\n",
       "    }\n",
       "</style>\n",
       "<table border=\"1\" class=\"dataframe\">\n",
       "  <thead>\n",
       "    <tr style=\"text-align: right;\">\n",
       "      <th></th>\n",
       "      <th>medium</th>\n",
       "      <th>counts</th>\n",
       "    </tr>\n",
       "  </thead>\n",
       "  <tbody>\n",
       "    <tr>\n",
       "      <td>0</td>\n",
       "      <td>www.bbc.com</td>\n",
       "      <td>13</td>\n",
       "    </tr>\n",
       "    <tr>\n",
       "      <td>1</td>\n",
       "      <td>www.fiercehealthcare.com</td>\n",
       "      <td>8</td>\n",
       "    </tr>\n",
       "    <tr>\n",
       "      <td>2</td>\n",
       "      <td>www.modernhealthcare.com</td>\n",
       "      <td>5</td>\n",
       "    </tr>\n",
       "    <tr>\n",
       "      <td>3</td>\n",
       "      <td>www.healthcareitnews.com</td>\n",
       "      <td>4</td>\n",
       "    </tr>\n",
       "  </tbody>\n",
       "</table>\n",
       "</div>"
      ],
      "text/plain": [
       "                     medium  counts\n",
       "0               www.bbc.com      13\n",
       "1  www.fiercehealthcare.com       8\n",
       "2  www.modernhealthcare.com       5\n",
       "3  www.healthcareitnews.com       4"
      ]
     },
     "execution_count": 19,
     "metadata": {},
     "output_type": "execute_result"
    }
   ],
   "source": [
    "# PLEASE ADD YOUR CODE SOLUTION AND RUN THE CELL HERE\n",
    "articles['medium'].value_counts().rename_axis('medium').reset_index(name='counts')\n",
    "# ---------------------------------------------------"
   ]
  },
  {
   "cell_type": "markdown",
   "metadata": {},
   "source": [
    "> **3.1.3. Compute the percentage of articles that are writen by only one author**"
   ]
  },
  {
   "cell_type": "code",
   "execution_count": 20,
   "metadata": {},
   "outputs": [
    {
     "data": {
      "text/plain": [
       "0.9"
      ]
     },
     "execution_count": 20,
     "metadata": {},
     "output_type": "execute_result"
    }
   ],
   "source": [
    "# PLEASE ADD YOUR CODE SOLUTION AND RUN THE CELL HERE\n",
    "articles['authors'].apply(lambda x: 1 if len(x.split(','))==1 else 0).sum()/ articles['authors'].count()\n",
    "# ---------------------------------------------------"
   ]
  },
  {
   "cell_type": "markdown",
   "metadata": {},
   "source": [
    "> **3.1.4. Compute the top 3 most active users**"
   ]
  },
  {
   "cell_type": "code",
   "execution_count": 21,
   "metadata": {},
   "outputs": [
    {
     "data": {
      "text/html": [
       "<div>\n",
       "<style scoped>\n",
       "    .dataframe tbody tr th:only-of-type {\n",
       "        vertical-align: middle;\n",
       "    }\n",
       "\n",
       "    .dataframe tbody tr th {\n",
       "        vertical-align: top;\n",
       "    }\n",
       "\n",
       "    .dataframe thead th {\n",
       "        text-align: right;\n",
       "    }\n",
       "</style>\n",
       "<table border=\"1\" class=\"dataframe\">\n",
       "  <thead>\n",
       "    <tr style=\"text-align: right;\">\n",
       "      <th></th>\n",
       "      <th>user id</th>\n",
       "      <th>counts</th>\n",
       "    </tr>\n",
       "  </thead>\n",
       "  <tbody>\n",
       "    <tr>\n",
       "      <td>0</td>\n",
       "      <td>2</td>\n",
       "      <td>12</td>\n",
       "    </tr>\n",
       "    <tr>\n",
       "      <td>1</td>\n",
       "      <td>0</td>\n",
       "      <td>12</td>\n",
       "    </tr>\n",
       "    <tr>\n",
       "      <td>2</td>\n",
       "      <td>1</td>\n",
       "      <td>11</td>\n",
       "    </tr>\n",
       "  </tbody>\n",
       "</table>\n",
       "</div>"
      ],
      "text/plain": [
       "   user id  counts\n",
       "0        2      12\n",
       "1        0      12\n",
       "2        1      11"
      ]
     },
     "execution_count": 21,
     "metadata": {},
     "output_type": "execute_result"
    }
   ],
   "source": [
    "# PLEASE ADD YOUR CODE SOLUTION AND RUN THE CELL HERE\n",
    "log['user_id'].value_counts().rename_axis('user id').reset_index(name='counts')[:3]\n",
    "# ---------------------------------------------------"
   ]
  },
  {
   "cell_type": "markdown",
   "metadata": {},
   "source": [
    "> **3.1.5. Compute the top 5 most read news articles**"
   ]
  },
  {
   "cell_type": "code",
   "execution_count": 22,
   "metadata": {},
   "outputs": [
    {
     "data": {
      "text/html": [
       "<div>\n",
       "<style scoped>\n",
       "    .dataframe tbody tr th:only-of-type {\n",
       "        vertical-align: middle;\n",
       "    }\n",
       "\n",
       "    .dataframe tbody tr th {\n",
       "        vertical-align: top;\n",
       "    }\n",
       "\n",
       "    .dataframe thead th {\n",
       "        text-align: right;\n",
       "    }\n",
       "</style>\n",
       "<table border=\"1\" class=\"dataframe\">\n",
       "  <thead>\n",
       "    <tr style=\"text-align: right;\">\n",
       "      <th></th>\n",
       "      <th>article id</th>\n",
       "      <th>counts</th>\n",
       "    </tr>\n",
       "  </thead>\n",
       "  <tbody>\n",
       "    <tr>\n",
       "      <td>0</td>\n",
       "      <td>4</td>\n",
       "      <td>4</td>\n",
       "    </tr>\n",
       "    <tr>\n",
       "      <td>1</td>\n",
       "      <td>6</td>\n",
       "      <td>3</td>\n",
       "    </tr>\n",
       "    <tr>\n",
       "      <td>2</td>\n",
       "      <td>7</td>\n",
       "      <td>3</td>\n",
       "    </tr>\n",
       "    <tr>\n",
       "      <td>3</td>\n",
       "      <td>8</td>\n",
       "      <td>3</td>\n",
       "    </tr>\n",
       "    <tr>\n",
       "      <td>4</td>\n",
       "      <td>9</td>\n",
       "      <td>3</td>\n",
       "    </tr>\n",
       "  </tbody>\n",
       "</table>\n",
       "</div>"
      ],
      "text/plain": [
       "   article id  counts\n",
       "0           4       4\n",
       "1           6       3\n",
       "2           7       3\n",
       "3           8       3\n",
       "4           9       3"
      ]
     },
     "execution_count": 22,
     "metadata": {},
     "output_type": "execute_result"
    }
   ],
   "source": [
    "# PLEASE ADD YOUR CODE SOLUTION AND RUN THE CELL HERE\n",
    "log['article_id'].value_counts().rename_axis('article id').reset_index(name='counts')[:5]\n",
    "# ---------------------------------------------------"
   ]
  },
  {
   "cell_type": "markdown",
   "metadata": {},
   "source": [
    "### 3.2 Item-based collaborative filtering\n",
    "*(3 sub-questions)*\n",
    "\n",
    "Now that we have prepared the data, our next mission is to create a recommender system following the paradigm of Item-based Collaborative Filtering. In this case, this is translated into \"Users who read this news article also read …\".\n",
    "\n",
    "\n",
    "In order to make predictions, we will apply the following formula, where \n",
    "$N_I(a)$ is the set of neighbors of article $a_1$, and $a_2$ is an article viewed by user $x$.\n",
    "\n",
    "\n",
    "\\begin{equation}\n",
    "{r}_{x}(a_1) =  \\frac{\\sum\\limits_{a_2 \\in N_{I}(a_1)} sim(a_1, a_2) r_{x}(a_2)}{\\sum\\limits_{a_2 \\in N_{I}(a_1)}|sim(a_1, a_2)|}\n",
    "\\end{equation}\n"
   ]
  },
  {
   "cell_type": "markdown",
   "metadata": {},
   "source": [
    "> **3.2.1 Compute the user-article matrix which should be a 2D numpy array, with each row corresponding to a user and each column to an article. The value of its cell indicates whether the user has read the corresponding article.**"
   ]
  },
  {
   "cell_type": "code",
   "execution_count": 23,
   "metadata": {},
   "outputs": [
    {
     "data": {
      "text/plain": [
       "array([[1., 1., 1., 0., 1., 0., 0., 0., 0., 0., 0., 0., 0., 1., 0., 1.,\n",
       "        0., 0., 0., 0., 0., 1., 1., 1., 1., 0., 0., 1., 1., 0.],\n",
       "       [1., 1., 1., 1., 0., 1., 0., 0., 0., 0., 0., 1., 1., 1., 0., 0.,\n",
       "        0., 0., 0., 0., 0., 0., 0., 0., 0., 1., 0., 1., 1., 0.],\n",
       "       [0., 0., 0., 0., 1., 0., 1., 1., 1., 1., 1., 0., 0., 0., 1., 0.,\n",
       "        1., 1., 1., 1., 1., 0., 0., 0., 0., 0., 0., 0., 0., 0.],\n",
       "       [0., 0., 0., 0., 1., 0., 1., 1., 1., 1., 1., 0., 0., 0., 1., 0.,\n",
       "        1., 1., 0., 0., 0., 0., 0., 0., 0., 0., 0., 0., 0., 0.],\n",
       "       [0., 0., 0., 0., 1., 0., 1., 1., 1., 1., 1., 0., 0., 0., 0., 0.,\n",
       "        0., 0., 0., 0., 0., 0., 0., 0., 0., 0., 0., 0., 0., 0.]])"
      ]
     },
     "execution_count": 23,
     "metadata": {},
     "output_type": "execute_result"
    }
   ],
   "source": [
    "n_users = len(log['user_id'].unique())\n",
    "n_items= len(articles)\n",
    "\n",
    "user_article = np.zeros((n_users, n_items))\n",
    "\n",
    "# PLEASE ADD YOUR CODE SOLUTION AND RUN THE CELL HERE\n",
    "# add 1 in data_matrix for each article a user has read\n",
    "for ui, user_id in enumerate(user_article):\n",
    "    for ai, article_id in enumerate(user_id):\n",
    "        if len(log[(log['user_id']==ui) & (log['article_id']==ai)]):\n",
    "            user_article[ui][ai] = 1\n",
    "# ---------------------------------------------------\n",
    "\n",
    "user_article"
   ]
  },
  {
   "cell_type": "markdown",
   "metadata": {},
   "source": [
    "> **3.2.2 Compute the similarity matrix using cosine similarity metric**"
   ]
  },
  {
   "cell_type": "code",
   "execution_count": 24,
   "metadata": {},
   "outputs": [
    {
     "data": {
      "text/html": [
       "<div>\n",
       "<style scoped>\n",
       "    .dataframe tbody tr th:only-of-type {\n",
       "        vertical-align: middle;\n",
       "    }\n",
       "\n",
       "    .dataframe tbody tr th {\n",
       "        vertical-align: top;\n",
       "    }\n",
       "\n",
       "    .dataframe thead th {\n",
       "        text-align: right;\n",
       "    }\n",
       "</style>\n",
       "<table border=\"1\" class=\"dataframe\">\n",
       "  <thead>\n",
       "    <tr style=\"text-align: right;\">\n",
       "      <th></th>\n",
       "      <th>0</th>\n",
       "      <th>1</th>\n",
       "      <th>2</th>\n",
       "      <th>3</th>\n",
       "      <th>4</th>\n",
       "      <th>5</th>\n",
       "      <th>6</th>\n",
       "      <th>7</th>\n",
       "      <th>8</th>\n",
       "      <th>9</th>\n",
       "      <th>...</th>\n",
       "      <th>20</th>\n",
       "      <th>21</th>\n",
       "      <th>22</th>\n",
       "      <th>23</th>\n",
       "      <th>24</th>\n",
       "      <th>25</th>\n",
       "      <th>26</th>\n",
       "      <th>27</th>\n",
       "      <th>28</th>\n",
       "      <th>29</th>\n",
       "    </tr>\n",
       "  </thead>\n",
       "  <tbody>\n",
       "    <tr>\n",
       "      <td>0</td>\n",
       "      <td>0.288675</td>\n",
       "      <td>0.288675</td>\n",
       "      <td>0.288675</td>\n",
       "      <td>0.000000</td>\n",
       "      <td>0.288675</td>\n",
       "      <td>0.000000</td>\n",
       "      <td>0.000000</td>\n",
       "      <td>0.000000</td>\n",
       "      <td>0.000000</td>\n",
       "      <td>0.000000</td>\n",
       "      <td>...</td>\n",
       "      <td>0.000000</td>\n",
       "      <td>0.288675</td>\n",
       "      <td>0.288675</td>\n",
       "      <td>0.288675</td>\n",
       "      <td>0.288675</td>\n",
       "      <td>0.000000</td>\n",
       "      <td>0.0</td>\n",
       "      <td>0.288675</td>\n",
       "      <td>0.288675</td>\n",
       "      <td>0.0</td>\n",
       "    </tr>\n",
       "    <tr>\n",
       "      <td>1</td>\n",
       "      <td>0.301511</td>\n",
       "      <td>0.301511</td>\n",
       "      <td>0.301511</td>\n",
       "      <td>0.301511</td>\n",
       "      <td>0.000000</td>\n",
       "      <td>0.301511</td>\n",
       "      <td>0.000000</td>\n",
       "      <td>0.000000</td>\n",
       "      <td>0.000000</td>\n",
       "      <td>0.000000</td>\n",
       "      <td>...</td>\n",
       "      <td>0.000000</td>\n",
       "      <td>0.000000</td>\n",
       "      <td>0.000000</td>\n",
       "      <td>0.000000</td>\n",
       "      <td>0.000000</td>\n",
       "      <td>0.301511</td>\n",
       "      <td>0.0</td>\n",
       "      <td>0.301511</td>\n",
       "      <td>0.301511</td>\n",
       "      <td>0.0</td>\n",
       "    </tr>\n",
       "    <tr>\n",
       "      <td>2</td>\n",
       "      <td>0.000000</td>\n",
       "      <td>0.000000</td>\n",
       "      <td>0.000000</td>\n",
       "      <td>0.000000</td>\n",
       "      <td>0.288675</td>\n",
       "      <td>0.000000</td>\n",
       "      <td>0.288675</td>\n",
       "      <td>0.288675</td>\n",
       "      <td>0.288675</td>\n",
       "      <td>0.288675</td>\n",
       "      <td>...</td>\n",
       "      <td>0.288675</td>\n",
       "      <td>0.000000</td>\n",
       "      <td>0.000000</td>\n",
       "      <td>0.000000</td>\n",
       "      <td>0.000000</td>\n",
       "      <td>0.000000</td>\n",
       "      <td>0.0</td>\n",
       "      <td>0.000000</td>\n",
       "      <td>0.000000</td>\n",
       "      <td>0.0</td>\n",
       "    </tr>\n",
       "    <tr>\n",
       "      <td>3</td>\n",
       "      <td>0.000000</td>\n",
       "      <td>0.000000</td>\n",
       "      <td>0.000000</td>\n",
       "      <td>0.000000</td>\n",
       "      <td>0.333333</td>\n",
       "      <td>0.000000</td>\n",
       "      <td>0.333333</td>\n",
       "      <td>0.333333</td>\n",
       "      <td>0.333333</td>\n",
       "      <td>0.333333</td>\n",
       "      <td>...</td>\n",
       "      <td>0.000000</td>\n",
       "      <td>0.000000</td>\n",
       "      <td>0.000000</td>\n",
       "      <td>0.000000</td>\n",
       "      <td>0.000000</td>\n",
       "      <td>0.000000</td>\n",
       "      <td>0.0</td>\n",
       "      <td>0.000000</td>\n",
       "      <td>0.000000</td>\n",
       "      <td>0.0</td>\n",
       "    </tr>\n",
       "    <tr>\n",
       "      <td>4</td>\n",
       "      <td>0.000000</td>\n",
       "      <td>0.000000</td>\n",
       "      <td>0.000000</td>\n",
       "      <td>0.000000</td>\n",
       "      <td>0.408248</td>\n",
       "      <td>0.000000</td>\n",
       "      <td>0.408248</td>\n",
       "      <td>0.408248</td>\n",
       "      <td>0.408248</td>\n",
       "      <td>0.408248</td>\n",
       "      <td>...</td>\n",
       "      <td>0.000000</td>\n",
       "      <td>0.000000</td>\n",
       "      <td>0.000000</td>\n",
       "      <td>0.000000</td>\n",
       "      <td>0.000000</td>\n",
       "      <td>0.000000</td>\n",
       "      <td>0.0</td>\n",
       "      <td>0.000000</td>\n",
       "      <td>0.000000</td>\n",
       "      <td>0.0</td>\n",
       "    </tr>\n",
       "  </tbody>\n",
       "</table>\n",
       "<p>5 rows × 30 columns</p>\n",
       "</div>"
      ],
      "text/plain": [
       "         0         1         2         3         4         5         6   \\\n",
       "0  0.288675  0.288675  0.288675  0.000000  0.288675  0.000000  0.000000   \n",
       "1  0.301511  0.301511  0.301511  0.301511  0.000000  0.301511  0.000000   \n",
       "2  0.000000  0.000000  0.000000  0.000000  0.288675  0.000000  0.288675   \n",
       "3  0.000000  0.000000  0.000000  0.000000  0.333333  0.000000  0.333333   \n",
       "4  0.000000  0.000000  0.000000  0.000000  0.408248  0.000000  0.408248   \n",
       "\n",
       "         7         8         9   ...        20        21        22        23  \\\n",
       "0  0.000000  0.000000  0.000000  ...  0.000000  0.288675  0.288675  0.288675   \n",
       "1  0.000000  0.000000  0.000000  ...  0.000000  0.000000  0.000000  0.000000   \n",
       "2  0.288675  0.288675  0.288675  ...  0.288675  0.000000  0.000000  0.000000   \n",
       "3  0.333333  0.333333  0.333333  ...  0.000000  0.000000  0.000000  0.000000   \n",
       "4  0.408248  0.408248  0.408248  ...  0.000000  0.000000  0.000000  0.000000   \n",
       "\n",
       "         24        25   26        27        28   29  \n",
       "0  0.288675  0.000000  0.0  0.288675  0.288675  0.0  \n",
       "1  0.000000  0.301511  0.0  0.301511  0.301511  0.0  \n",
       "2  0.000000  0.000000  0.0  0.000000  0.000000  0.0  \n",
       "3  0.000000  0.000000  0.0  0.000000  0.000000  0.0  \n",
       "4  0.000000  0.000000  0.0  0.000000  0.000000  0.0  \n",
       "\n",
       "[5 rows x 30 columns]"
      ]
     },
     "execution_count": 24,
     "metadata": {},
     "output_type": "execute_result"
    }
   ],
   "source": [
    "# magnitude = sqrt(x2 + y2 + z2 + ...)\n",
    "user_article_df = pd.DataFrame(user_article)\n",
    "magnitude = np.sqrt(np.square(user_article_df).sum(axis=1))\n",
    "\n",
    "# unitvector = (x / magnitude, y / magnitude, z / magnitude, ...)\n",
    "user_article_df = user_article_df.divide(magnitude, axis='index')\n",
    "user_article_df"
   ]
  },
  {
   "cell_type": "code",
   "execution_count": 25,
   "metadata": {},
   "outputs": [
    {
     "name": "stdout",
     "output_type": "stream",
     "text": [
      "(5, 30)\n",
      "(5, 30)\n",
      "(30, 30)\n"
     ]
    },
    {
     "data": {
      "text/plain": [
       "4    1.000000\n",
       "6    0.901388\n",
       "7    0.901388\n",
       "8    0.901388\n",
       "9    0.901388\n",
       "Name: 4, dtype: float64"
      ]
     },
     "execution_count": 25,
     "metadata": {},
     "output_type": "execute_result"
    }
   ],
   "source": [
    "from sklearn.metrics.pairwise import cosine_similarity\n",
    "\n",
    "def calculate_similarity(data_items):\n",
    "    \"\"\"\n",
    "    Calculate the column-wise cosine similarity for a sparse\n",
    "    matrix.\n",
    "    Return a new dataframe matrix with similarities.\n",
    "    \"\"\"\n",
    "    # PLEASE ADD YOUR CODE SOLUTION AND RUN THE CELL HERE\n",
    "    from scipy import sparse\n",
    "    \n",
    "    data_sparse = sparse.csr_matrix(data_items)\n",
    "    print(data_items.shape)\n",
    "    print(data_sparse.shape)\n",
    "    similarities = cosine_similarity(data_sparse.transpose())\n",
    "    print(similarities.shape)\n",
    "    sim = pd.DataFrame(data=similarities, index= data_items.columns, columns= data_items.columns)\n",
    "    return sim\n",
    "    # ---------------------------------------------------\n",
    "\n",
    "# Build the similarity matrix\n",
    "similarity_matrix = calculate_similarity(user_article_df)\n",
    "\n",
    "# Lets get the top 5 similar articles for article with id 4\n",
    "similarity_matrix.iloc[4].nlargest(5)"
   ]
  },
  {
   "cell_type": "markdown",
   "metadata": {},
   "source": [
    "> **3.2.3 Predict the top 5 recommendations for the user with id 4 using item-based collaborative filtering**"
   ]
  },
  {
   "cell_type": "code",
   "execution_count": 26,
   "metadata": {},
   "outputs": [
    {
     "data": {
      "text/plain": [
       "[4, 6, 7, 8, 9, 10]"
      ]
     },
     "execution_count": 26,
     "metadata": {},
     "output_type": "execute_result"
    }
   ],
   "source": [
    "user_id = 4 # The id of the user for whom we want to generate recommendations\n",
    "\n",
    "# Get the articles the user has read.\n",
    "user_articles = list(log[log['user_id']==user_id]['article_id'].unique())\n",
    "\n",
    "# User article log\n",
    "user_article_log_vector = user_article_df.iloc[user_id]\n",
    "user_articles"
   ]
  },
  {
   "cell_type": "code",
   "execution_count": 27,
   "metadata": {},
   "outputs": [
    {
     "data": {
      "text/plain": [
       "0     0.009145\n",
       "1     0.009145\n",
       "2     0.009145\n",
       "3     0.000000\n",
       "5     0.000000\n",
       "11    0.000000\n",
       "12    0.000000\n",
       "13    0.009145\n",
       "14    0.190211\n",
       "15    0.018448\n",
       "16    0.190211\n",
       "17    0.190211\n",
       "18    0.148400\n",
       "19    0.148400\n",
       "20    0.148400\n",
       "21    0.018448\n",
       "22    0.018448\n",
       "23    0.018448\n",
       "24    0.018448\n",
       "25    0.000000\n",
       "26         NaN\n",
       "27    0.009145\n",
       "28    0.009145\n",
       "29         NaN\n",
       "dtype: float64"
      ]
     },
     "execution_count": 27,
     "metadata": {},
     "output_type": "execute_result"
    }
   ],
   "source": [
    "# PLEASE ADD YOUR CODE SOLUTION AND RUN THE CELL HERE\n",
    "# Calculate the score.\n",
    "score = similarity_matrix.dot(user_article_log_vector).div(similarity_matrix.sum(axis=1))\n",
    "\n",
    "# Remove the known likes from the recommendation.\n",
    "score = score.drop(user_articles)\n",
    "score\n",
    "# ---------------------------------------------------"
   ]
  },
  {
   "cell_type": "code",
   "execution_count": 28,
   "metadata": {},
   "outputs": [
    {
     "name": "stdout",
     "output_type": "stream",
     "text": [
      "<class 'pandas.core.series.Series'>\n"
     ]
    }
   ],
   "source": [
    "print(type(score))"
   ]
  },
  {
   "cell_type": "code",
   "execution_count": 14,
   "metadata": {},
   "outputs": [
    {
     "data": {
      "text/plain": [
       "14    0.190211\n",
       "16    0.190211\n",
       "17    0.190211\n",
       "18    0.148400\n",
       "19    0.148400\n",
       "20    0.148400\n",
       "15    0.018448\n",
       "21    0.018448\n",
       "22    0.018448\n",
       "23    0.018448\n",
       "dtype: float64"
      ]
     },
     "execution_count": 14,
     "metadata": {},
     "output_type": "execute_result"
    }
   ],
   "source": [
    "# Print the known likes and the top 5 recommendations.\n",
    "score.nlargest(10)"
   ]
  },
  {
   "cell_type": "markdown",
   "metadata": {},
   "source": [
    "# 3.3 Content-based recommendations\n",
    "*(6 sub-questions)*\n",
    "\n",
    "The next mission we have is to create a recommender system following the paradigm of the Content-based recommendation approach. In this case, we will also exploit information related to the content of the articles.\n",
    "\n",
    "As a first step, we will compute the tf-idf weights of the articles.\n",
    "\n",
    "\\begin{equation}\n",
    "w(t, a) = tf(t, a) \\cdot idf(t) = \\frac{freq(t, a)}{\\max_{s\\in T} freq(s, a)} \\cdot log(\\frac{N}{n(t)})\n",
    "\\end{equation}\n",
    "\n",
    "Then in order to do predictions, we need to estimate the probability of article $a$ not yet seen by user $x$. To do so, we find the nearest neighbours of $a$ in the subset of articles that have been already seen by the user $x$.\n",
    "\n",
    "\\begin{equation}\n",
    "r_x(a_1) = \\frac{\\sum_{a_2\\in N_I(a_1)} sim(a_1, a_2) \\cdot r_x(a_2)}{\\sum_{a_2\\in N_I(a_1)} |sim(a_1, a_2)|}\n",
    "\\end{equation}\n",
    "\n",
    "\n",
    "Find the articles with the most Knn's that are present in the history of the user, aka find the articles that are most similar to the articles that the user has already seen.\n",
    "- for articles not read by user\n",
    "- get recommendations\n",
    "- rank the articles based on the amount of articles present in the \"already seen\" list of the user\n"
   ]
  },
  {
   "cell_type": "markdown",
   "metadata": {},
   "source": [
    "> **3.3.1 Compute tf-idf values for the main corpus of the articles and print the shape of the final matrix**"
   ]
  },
  {
   "cell_type": "code",
   "execution_count": 15,
   "metadata": {},
   "outputs": [
    {
     "data": {
      "text/plain": [
       "(30, 945)"
      ]
     },
     "execution_count": 15,
     "metadata": {},
     "output_type": "execute_result"
    }
   ],
   "source": [
    "# PLEASE ADD YOUR CODE SOLUTION AND RUN THE CELL HERE\n",
    "from sklearn.feature_extraction.text import TfidfVectorizer\n",
    "\n",
    "vectorizer = TfidfVectorizer(analyzer='word', ngram_range=(1, 1), min_df=2, stop_words='english')\n",
    "# vectorizer = TfidfVectorizer()\n",
    "tf_idf = vectorizer.fit_transform(articles['corpus'])\n",
    "tf_idf_matrix = tf_idf.toarray()\n",
    "tf_idf_matrix.shape\n",
    "# ---------------------------------------------------"
   ]
  },
  {
   "cell_type": "markdown",
   "metadata": {},
   "source": [
    "> **3.3.2 Create the vocabulary of all the articles (as a list) and print the 5 most common words**"
   ]
  },
  {
   "cell_type": "code",
   "execution_count": 16,
   "metadata": {},
   "outputs": [
    {
     "data": {
      "text/html": [
       "<div>\n",
       "<style scoped>\n",
       "    .dataframe tbody tr th:only-of-type {\n",
       "        vertical-align: middle;\n",
       "    }\n",
       "\n",
       "    .dataframe tbody tr th {\n",
       "        vertical-align: top;\n",
       "    }\n",
       "\n",
       "    .dataframe thead th {\n",
       "        text-align: right;\n",
       "    }\n",
       "</style>\n",
       "<table border=\"1\" class=\"dataframe\">\n",
       "  <thead>\n",
       "    <tr style=\"text-align: right;\">\n",
       "      <th></th>\n",
       "      <th>word</th>\n",
       "      <th>counts</th>\n",
       "    </tr>\n",
       "  </thead>\n",
       "  <tbody>\n",
       "    <tr>\n",
       "      <td>0</td>\n",
       "      <td>said</td>\n",
       "      <td>131</td>\n",
       "    </tr>\n",
       "    <tr>\n",
       "      <td>1</td>\n",
       "      <td>health</td>\n",
       "      <td>118</td>\n",
       "    </tr>\n",
       "    <tr>\n",
       "      <td>2</td>\n",
       "      <td>healthcare</td>\n",
       "      <td>105</td>\n",
       "    </tr>\n",
       "    <tr>\n",
       "      <td>3</td>\n",
       "      <td>the</td>\n",
       "      <td>96</td>\n",
       "    </tr>\n",
       "    <tr>\n",
       "      <td>4</td>\n",
       "      <td>patients</td>\n",
       "      <td>59</td>\n",
       "    </tr>\n",
       "  </tbody>\n",
       "</table>\n",
       "</div>"
      ],
      "text/plain": [
       "         word  counts\n",
       "0        said     131\n",
       "1      health     118\n",
       "2  healthcare     105\n",
       "3         the      96\n",
       "4    patients      59"
      ]
     },
     "execution_count": 16,
     "metadata": {},
     "output_type": "execute_result"
    }
   ],
   "source": [
    "# PLEASE ADD YOUR CODE SOLUTION AND RUN THE CELL HERE\n",
    "vocabulary_df = articles['corpus'].str.split(expand=True).stack().value_counts().rename_axis('word').reset_index(name='counts')\n",
    "vocabulary = vocabulary_df['word'].tolist()\n",
    "vocabulary.sort()\n",
    "vocabulary_df[:5]\n",
    "# ---------------------------------------------------"
   ]
  },
  {
   "cell_type": "markdown",
   "metadata": {},
   "source": [
    "> **3.3.3 Find the term with highest TF-IDF value for the article with id 4.**"
   ]
  },
  {
   "cell_type": "code",
   "execution_count": 17,
   "metadata": {},
   "outputs": [
    {
     "data": {
      "text/plain": [
       "'capacity'"
      ]
     },
     "execution_count": 17,
     "metadata": {},
     "output_type": "execute_result"
    }
   ],
   "source": [
    "# PLEASE ADD YOUR CODE SOLUTION AND RUN THE CELL HERE\n",
    "max_tf = 0\n",
    "max_id = None\n",
    "for i, word_tf in enumerate(tf_idf_matrix[5]):\n",
    "    if word_tf > max_tf:\n",
    "        max_tf = word_tf\n",
    "        max_id = i\n",
    "\n",
    "vocabulary[max_id]\n",
    "# ---------------------------------------------------"
   ]
  },
  {
   "cell_type": "markdown",
   "metadata": {},
   "source": [
    "> **3.3.4 Create a function that finds the best 5 recommendations for any given article and print the best 5 recommendations for article with id 4**"
   ]
  },
  {
   "cell_type": "code",
   "execution_count": 18,
   "metadata": {},
   "outputs": [
    {
     "data": {
      "text/html": [
       "<div>\n",
       "<style scoped>\n",
       "    .dataframe tbody tr th:only-of-type {\n",
       "        vertical-align: middle;\n",
       "    }\n",
       "\n",
       "    .dataframe tbody tr th {\n",
       "        vertical-align: top;\n",
       "    }\n",
       "\n",
       "    .dataframe thead th {\n",
       "        text-align: right;\n",
       "    }\n",
       "</style>\n",
       "<table border=\"1\" class=\"dataframe\">\n",
       "  <thead>\n",
       "    <tr style=\"text-align: right;\">\n",
       "      <th></th>\n",
       "      <th>article_id</th>\n",
       "      <th>title</th>\n",
       "      <th>medium</th>\n",
       "      <th>publish_date</th>\n",
       "      <th>authors</th>\n",
       "      <th>corpus</th>\n",
       "      <th>url</th>\n",
       "    </tr>\n",
       "  </thead>\n",
       "  <tbody>\n",
       "    <tr>\n",
       "      <td>7</td>\n",
       "      <td>7</td>\n",
       "      <td>covid surge undermining health problems</td>\n",
       "      <td>www.modernhealthcare.com</td>\n",
       "      <td>2022-01-21T11:35:21-05:00</td>\n",
       "      <td>Associated Press</td>\n",
       "      <td>he told later i assumed forgot said gleason wo...</td>\n",
       "      <td>https://www.modernhealthcare.com/safety-qualit...</td>\n",
       "    </tr>\n",
       "    <tr>\n",
       "      <td>8</td>\n",
       "      <td>8</td>\n",
       "      <td>patient beware some states still pushing ineff...</td>\n",
       "      <td>www.modernhealthcare.com</td>\n",
       "      <td>2022-01-21T09:18:29-05:00</td>\n",
       "      <td>JoNel Aleccia, Kaiser Health News</td>\n",
       "      <td>as covid variant completes sweep across states...</td>\n",
       "      <td>https://www.modernhealthcare.com/safety-qualit...</td>\n",
       "    </tr>\n",
       "    <tr>\n",
       "      <td>15</td>\n",
       "      <td>15</td>\n",
       "      <td>us supreme court blocks biden workplace vaccin...</td>\n",
       "      <td>www.bbc.com</td>\n",
       "      <td>2022-01-14T03:31:15.000Z</td>\n",
       "      <td>Natalie Sherman</td>\n",
       "      <td>he added i call business leaders immediately j...</td>\n",
       "      <td>https://www.bbc.com/news/world-us-canada-59989476</td>\n",
       "    </tr>\n",
       "    <tr>\n",
       "      <td>20</td>\n",
       "      <td>20</td>\n",
       "      <td>covid austrian parliament approves mandatory v...</td>\n",
       "      <td>www.bbc.com</td>\n",
       "      <td>2022-01-20T22:52:08.000Z</td>\n",
       "      <td></td>\n",
       "      <td>the law due effect february would make austria...</td>\n",
       "      <td>https://www.bbc.com/news/world-europe-60077767</td>\n",
       "    </tr>\n",
       "    <tr>\n",
       "      <td>29</td>\n",
       "      <td>29</td>\n",
       "      <td>fierce jpm week cityblock ajayi build covid sp...</td>\n",
       "      <td>www.fiercehealthcare.com</td>\n",
       "      <td>Jan 20, 2022 4:30pm</td>\n",
       "      <td>Paige Minemyer</td>\n",
       "      <td>one major lessons pandemic we interconnected i...</td>\n",
       "      <td>https://www.fiercehealthcare.com/practices/fie...</td>\n",
       "    </tr>\n",
       "  </tbody>\n",
       "</table>\n",
       "</div>"
      ],
      "text/plain": [
       "    article_id                                              title  \\\n",
       "7            7            covid surge undermining health problems   \n",
       "8            8  patient beware some states still pushing ineff...   \n",
       "15          15  us supreme court blocks biden workplace vaccin...   \n",
       "20          20  covid austrian parliament approves mandatory v...   \n",
       "29          29  fierce jpm week cityblock ajayi build covid sp...   \n",
       "\n",
       "                      medium               publish_date  \\\n",
       "7   www.modernhealthcare.com  2022-01-21T11:35:21-05:00   \n",
       "8   www.modernhealthcare.com  2022-01-21T09:18:29-05:00   \n",
       "15               www.bbc.com   2022-01-14T03:31:15.000Z   \n",
       "20               www.bbc.com   2022-01-20T22:52:08.000Z   \n",
       "29  www.fiercehealthcare.com        Jan 20, 2022 4:30pm   \n",
       "\n",
       "                              authors  \\\n",
       "7                    Associated Press   \n",
       "8   JoNel Aleccia, Kaiser Health News   \n",
       "15                    Natalie Sherman   \n",
       "20                                      \n",
       "29                     Paige Minemyer   \n",
       "\n",
       "                                               corpus  \\\n",
       "7   he told later i assumed forgot said gleason wo...   \n",
       "8   as covid variant completes sweep across states...   \n",
       "15  he added i call business leaders immediately j...   \n",
       "20  the law due effect february would make austria...   \n",
       "29  one major lessons pandemic we interconnected i...   \n",
       "\n",
       "                                                  url  \n",
       "7   https://www.modernhealthcare.com/safety-qualit...  \n",
       "8   https://www.modernhealthcare.com/safety-qualit...  \n",
       "15  https://www.bbc.com/news/world-us-canada-59989476  \n",
       "20     https://www.bbc.com/news/world-europe-60077767  \n",
       "29  https://www.fiercehealthcare.com/practices/fie...  "
      ]
     },
     "execution_count": 18,
     "metadata": {},
     "output_type": "execute_result"
    }
   ],
   "source": [
    "def get_recommendations(i, similarities, k=5):\n",
    "    \"\"\"\n",
    "    Recommends articles based on a similarity dataframe\n",
    "    Parameters\n",
    "    ----------\n",
    "    i : int\n",
    "        Article index of the similarity dataframe\n",
    "    similarities : pd.DataFrame\n",
    "        Similarity dataframe, symmetric, with articles as indices and columns\n",
    "    k : int\n",
    "        Amount of recommendations to return\n",
    "    Returns\n",
    "    -------\n",
    "    pd.DataFrame with the top k recommendations\n",
    "    \"\"\"\n",
    "    # PLEASE ADD YOUR CODE SOLUTION AND RUN THE CELL HERE\n",
    "    ix = similarities.loc[:,i].to_numpy().argpartition(range(-1,-k,-1))\n",
    "    closest = similarities.columns[ix[-1:-(k+2):-1]]\n",
    "    closest = list(closest.drop(i, errors='ignore'))\n",
    "    return articles[articles['article_id'].isin(list(closest))]\n",
    "    # ---------------------------------------------------\n",
    "\n",
    "# create similarity\n",
    "cosine_sim = cosine_similarity(tf_idf_matrix)\n",
    "\n",
    "# get recommendations for article with id 4\n",
    "corpus_id_4 = articles[articles['article_id']==4]['corpus'].values[0]\n",
    "get_recommendations(4, pd.DataFrame(cosine_sim))"
   ]
  },
  {
   "cell_type": "markdown",
   "metadata": {},
   "source": [
    "> **3.3.5 Find the articles that user with id 4 has NOT yet read and print the count of them**"
   ]
  },
  {
   "cell_type": "code",
   "execution_count": 19,
   "metadata": {},
   "outputs": [
    {
     "data": {
      "text/plain": [
       "24"
      ]
     },
     "execution_count": 19,
     "metadata": {},
     "output_type": "execute_result"
    }
   ],
   "source": [
    "# PLEASE ADD YOUR CODE SOLUTION AND RUN THE CELL HERE\n",
    "article_to_recommend = articles[~articles['article_id'].isin(list(log[log['user_id']==4]['article_id'].unique()))]\n",
    "len(article_to_recommend)\n",
    "# ---------------------------------------------------"
   ]
  },
  {
   "cell_type": "markdown",
   "metadata": {},
   "source": [
    "> **3.3.6 Predict top 5 recommendations for user with id 4**"
   ]
  },
  {
   "cell_type": "code",
   "execution_count": 20,
   "metadata": {},
   "outputs": [
    {
     "data": {
      "text/html": [
       "<div>\n",
       "<style scoped>\n",
       "    .dataframe tbody tr th:only-of-type {\n",
       "        vertical-align: middle;\n",
       "    }\n",
       "\n",
       "    .dataframe tbody tr th {\n",
       "        vertical-align: top;\n",
       "    }\n",
       "\n",
       "    .dataframe thead th {\n",
       "        text-align: right;\n",
       "    }\n",
       "</style>\n",
       "<table border=\"1\" class=\"dataframe\">\n",
       "  <thead>\n",
       "    <tr style=\"text-align: right;\">\n",
       "      <th></th>\n",
       "      <th>article_id</th>\n",
       "      <th>score</th>\n",
       "    </tr>\n",
       "  </thead>\n",
       "  <tbody>\n",
       "    <tr>\n",
       "      <td>12</td>\n",
       "      <td>18</td>\n",
       "      <td>4</td>\n",
       "    </tr>\n",
       "    <tr>\n",
       "      <td>7</td>\n",
       "      <td>13</td>\n",
       "      <td>3</td>\n",
       "    </tr>\n",
       "    <tr>\n",
       "      <td>22</td>\n",
       "      <td>28</td>\n",
       "      <td>3</td>\n",
       "    </tr>\n",
       "    <tr>\n",
       "      <td>21</td>\n",
       "      <td>27</td>\n",
       "      <td>3</td>\n",
       "    </tr>\n",
       "    <tr>\n",
       "      <td>14</td>\n",
       "      <td>20</td>\n",
       "      <td>3</td>\n",
       "    </tr>\n",
       "  </tbody>\n",
       "</table>\n",
       "</div>"
      ],
      "text/plain": [
       "    article_id  score\n",
       "12          18      4\n",
       "7           13      3\n",
       "22          28      3\n",
       "21          27      3\n",
       "14          20      3"
      ]
     },
     "execution_count": 20,
     "metadata": {},
     "output_type": "execute_result"
    }
   ],
   "source": [
    "# PLEASE ADD YOUR CODE SOLUTION AND RUN THE CELL HERE\n",
    "user_articles = articles[articles['article_id'].isin(list(log[log['user_id']==4]['article_id'].unique()))]\n",
    "\n",
    "# get recommendations\n",
    "article_ids_to_recommend = article_to_recommend.index.to_list()\n",
    "user_articles_ids = user_articles.index.to_list()\n",
    "\n",
    "scores = list()\n",
    "for i in article_ids_to_recommend:\n",
    "    # get predictions for this article\n",
    "    recommendations = get_recommendations(i, pd.DataFrame(cosine_sim)).index.to_list()\n",
    "    common_elements = len(set(user_articles_ids).intersection(recommendations))\n",
    "    scores.append((i, common_elements))\n",
    "\n",
    "pd.DataFrame(scores, columns=['article_id', 'score']).sort_values(by=['score'], ascending=False).iloc[:5]\n",
    "# ---------------------------------------------------"
   ]
  },
  {
   "cell_type": "markdown",
   "metadata": {},
   "source": [
    "### 3.4 Association rules\n",
    "*(3 sub-questions)*\n",
    "\n",
    "Now we would like to identify frequent rules that govern how words appear together in the news article **titles**.\n",
    "\n",
    "We provide every observed pair of words containing \"covid\" (we only consider rules of size 2).\n",
    "\n",
    "* Compute **support** and **confidence** for the rules X -> covid, where X is a word appearing with covid in the given set of pairs.\n",
    "* From the confidence of the rules you obtained, compute **lift**.\n",
    "* Show the 5 rules with **highest confidence** and the 5 rules with **highest lift** with the provided code. "
   ]
  },
  {
   "cell_type": "code",
   "execution_count": 21,
   "metadata": {},
   "outputs": [],
   "source": [
    "titles = articles['title'].apply(lambda x: x.lower().split(' '))"
   ]
  },
  {
   "cell_type": "markdown",
   "metadata": {},
   "source": [
    "> **3.4.1 Compute support and confidence for the rules X -> covid, where X is a word appearing with covid in an article.**"
   ]
  },
  {
   "cell_type": "code",
   "execution_count": 22,
   "metadata": {},
   "outputs": [],
   "source": [
    "# PLEASE ADD YOUR CODE SOLUTION AND RUN THE CELL HERE\n",
    "# support    = {# your code here}\n",
    "# confidence = {# your code here}\n",
    "from sklearn.feature_extraction.text import CountVectorizer\n",
    "vectorizer = CountVectorizer()\n",
    "count = vectorizer.fit_transform(articles['title'])\n",
    "titles_voc = vectorizer.get_feature_names()\n",
    "titles_voc.remove('covid')\n",
    "\n",
    "support    = dict()\n",
    "confidence = dict()\n",
    "\n",
    "for word in titles_voc:\n",
    "    articles_with_both = 0\n",
    "    articles_with_word = 0\n",
    "    for title in titles:\n",
    "        if word in title:\n",
    "            articles_with_word +=1\n",
    "            if 'covid' in title:\n",
    "                articles_with_both +=1\n",
    "    support[word] = articles_with_both/ len(titles)\n",
    "    confidence[word] = articles_with_both / articles_with_word\n",
    "# ---------------------------------------------------"
   ]
  },
  {
   "cell_type": "markdown",
   "metadata": {},
   "source": [
    "> **3.4.2 From the confidence of the rules you obtained, compute lift.**"
   ]
  },
  {
   "cell_type": "code",
   "execution_count": 23,
   "metadata": {},
   "outputs": [],
   "source": [
    "# PLEASE ADD YOUR CODE SOLUTION AND RUN THE CELL HERE\n",
    "# lift = {# your code here}\n",
    "lift = dict()\n",
    "support_covid = [1 if 'covid' in title else 0 for title in titles].count(1)\n",
    "for word in titles_voc:\n",
    "    support_word = [1 if word in title else 0 for title in titles].count(1)\n",
    "    lift[word] = support[word] / (support_word * support_covid)\n",
    "# ---------------------------------------------------"
   ]
  },
  {
   "cell_type": "markdown",
   "metadata": {},
   "source": [
    "> **3.4.3 Show the 5 rules with highest confidence and the 5 rules with highest lift with the provided code.**"
   ]
  },
  {
   "cell_type": "code",
   "execution_count": 24,
   "metadata": {},
   "outputs": [
    {
     "data": {
      "text/plain": [
       "{'africa': 1.0, 'ajayi': 1.0, 'america': 1.0, 'amid': 1.0, 'antibody': 1.0}"
      ]
     },
     "execution_count": 24,
     "metadata": {},
     "output_type": "execute_result"
    }
   ],
   "source": [
    "# PLEASE ADD YOUR CODE SOLUTION AND RUN THE CELL HERE\n",
    "# Print confidence\n",
    "{k: v for k, v in sorted(confidence.items(), key=lambda item: item[1], reverse=True)[:5]}"
   ]
  },
  {
   "cell_type": "code",
   "execution_count": 25,
   "metadata": {},
   "outputs": [
    {
     "data": {
      "text/plain": [
       "{'africa': 0.002564102564102564,\n",
       " 'ajayi': 0.002564102564102564,\n",
       " 'america': 0.002564102564102564,\n",
       " 'amid': 0.002564102564102564,\n",
       " 'antibody': 0.002564102564102564}"
      ]
     },
     "execution_count": 25,
     "metadata": {},
     "output_type": "execute_result"
    }
   ],
   "source": [
    "# PLEASE ADD YOUR CODE SOLUTION AND RUN THE CELL HERE\n",
    "# Print lift\n",
    "{k: v for k, v in sorted(lift.items(), key=lambda item: item[1], reverse=True)[:5]}"
   ]
  },
  {
   "cell_type": "markdown",
   "metadata": {},
   "source": [
    "## 4 [Submit your notebook]()"
   ]
  },
  {
   "cell_type": "code",
   "execution_count": null,
   "metadata": {},
   "outputs": [],
   "source": []
  },
  {
   "cell_type": "markdown",
   "metadata": {
    "toc": true
   },
   "source": [
    "<h1>Table of Contents<span class=\"tocSkip\"></span></h1>\n",
    "<div class=\"toc\"><ul class=\"toc-item\"><li><span><a href=\"#Distributed-Information-Systems\" data-toc-modified-id=\"Distributed-Information-Systems-0\"><span class=\"toc-item-num\">0&nbsp;&nbsp;</span>Distributed Information Systems</a></span></li><li><span><a href=\"#Rename-your-notebook\" data-toc-modified-id=\"Rename-your-notebook-1\"><span class=\"toc-item-num\">1&nbsp;&nbsp;</span>Rename your notebook</a></span></li><li><span><a href=\"#Word-Representation-for-Concept-Identification\" data-toc-modified-id=\"Word-Representation-for-Concept-Identification-2\"><span class=\"toc-item-num\">2&nbsp;&nbsp;</span>Word Representation for Concept Identification</a></span><ul class=\"toc-item\"><li><span><a href=\"#Build-the-vocabulary-by-selecting-top-k-frequent-words\" data-toc-modified-id=\"Build-the-vocabulary-by-selecting-top-k-frequent-words-2.1\"><span class=\"toc-item-num\">2.1&nbsp;&nbsp;</span>Build the vocabulary by selecting top-k frequent words</a></span></li><li><span><a href=\"#Construct-the-word-cooccurence-matrix\" data-toc-modified-id=\"Construct-the-word-cooccurence-matrix-2.2\"><span class=\"toc-item-num\">2.2&nbsp;&nbsp;</span>Construct the word cooccurence matrix</a></span></li><li><span><a href=\"#Perform-SVD-on-the-matrix-and-select-the-largest-singular-values\" data-toc-modified-id=\"Perform-SVD-on-the-matrix-and-select-the-largest-singular-values-2.3\"><span class=\"toc-item-num\">2.3&nbsp;&nbsp;</span>Perform SVD on the matrix and select the largest singular values</a></span></li></ul></li><li><span><a href=\"#Vector-based-retrieval-using-Word-representations\" data-toc-modified-id=\"Vector-based-retrieval-using-Word-representations-3\"><span class=\"toc-item-num\">3&nbsp;&nbsp;</span>Vector-based retrieval using Word representations</a></span><ul class=\"toc-item\"><li><span><a href=\"#Document-and-query-vectors-from-word-representations\" data-toc-modified-id=\"Document-and-query-vectors-from-word-representations-3.1\"><span class=\"toc-item-num\">3.1&nbsp;&nbsp;</span>Document and query vectors from word representations</a></span></li><li><span><a href=\"#Retrieve-top-10-relevant-documents\" data-toc-modified-id=\"Retrieve-top-10-relevant-documents-3.2\"><span class=\"toc-item-num\">3.2&nbsp;&nbsp;</span>Retrieve top-10 relevant documents</a></span></li></ul></li><li><span><a href=\"#Evaluation\" data-toc-modified-id=\"Evaluation-4\"><span class=\"toc-item-num\">4&nbsp;&nbsp;</span>Evaluation</a></span><ul class=\"toc-item\"><li><span><a href=\"#Evaluate-retrieval-result-using-DCG\" data-toc-modified-id=\"Evaluate-retrieval-result-using-DCG-4.1\"><span class=\"toc-item-num\">4.1&nbsp;&nbsp;</span>Evaluate retrieval result using DCG</a></span></li><li><span><a href=\"#Explain-the-DCG-values-plot\" data-toc-modified-id=\"Explain-the-DCG-values-plot-4.2\"><span class=\"toc-item-num\">4.2&nbsp;&nbsp;</span>Explain the DCG values plot</a></span></li></ul></li><li><span><a href=\"#Submit-your-notebook\" data-toc-modified-id=\"Submit-your-notebook-5\"><span class=\"toc-item-num\">5&nbsp;&nbsp;</span>Submit your notebook</a></span></li></ul></div>"
   ]
  },
  {
   "cell_type": "markdown",
   "metadata": {},
   "source": [
    "# Distributed Information Systems\n",
    "***Midterm Exam, Winter Semester 2021-2022***\n",
    "\n",
    "The following materials are allowed: exercise sheets and solutions, past exams with your own solution, personally written notes and personally collected documentation.\n",
    "\n",
    "The exam will be held on your computer, but digital communication by any means is strictly prohibited. \n",
    "By participating to this exam you agree to these conditions.\n",
    "\n",
    "These are the instructions for the exam:\n",
    "\n",
    "1. You are not allowed to leave the examination room in the first 20 and the last 15 minutes of the exam.\n",
    "* We will publish 15 minutes before the end of the exam a password for uploading your solutions on Moodle.\n",
    "* It is not recommended to leave the exam before the password is published. If you need to leave earlier, contact us."
   ]
  },
  {
   "cell_type": "markdown",
   "metadata": {},
   "source": [
    "# Rename your notebook\n",
    "Replace SciperNo with your **personal SCIPER Number**."
   ]
  },
  {
   "cell_type": "code",
   "execution_count": 2,
   "metadata": {},
   "outputs": [
    {
     "name": "stderr",
     "output_type": "stream",
     "text": [
      "[nltk_data] Downloading package punkt to /usr/local/share/nltk_data...\n",
      "[nltk_data]   Package punkt is already up-to-date!\n",
      "[nltk_data] Downloading package stopwords to\n",
      "[nltk_data]     /usr/local/share/nltk_data...\n",
      "[nltk_data]   Package stopwords is already up-to-date!\n"
     ]
    }
   ],
   "source": [
    "#Required libraries\n",
    "import math\n",
    "import os\n",
    "import string\n",
    "from collections import defaultdict\n",
    "from operator import itemgetter\n",
    "from pprint import pprint\n",
    "\n",
    "import matplotlib.pyplot as plt\n",
    "import nltk\n",
    "import numpy as np\n",
    "from nltk.corpus import stopwords\n",
    "from nltk.stem import PorterStemmer, WordNetLemmatizer\n",
    "from nltk.tokenize import TweetTokenizer, word_tokenize\n",
    "from sklearn.feature_extraction.text import CountVectorizer, TfidfVectorizer\n",
    "from sklearn.metrics.pairwise import linear_kernel\n",
    "\n",
    "nltk.download('punkt')\n",
    "nltk.download('stopwords')\n",
    "stop_words = set(stopwords.words('english')).union(set(stopwords.words('french')))"
   ]
  },
  {
   "cell_type": "code",
   "execution_count": 3,
   "metadata": {},
   "outputs": [],
   "source": [
    "def read_corpus():\n",
    "    '''Reads corpus from files.'''\n",
    "    \n",
    "    documents = []\n",
    "    orig_docs = []\n",
    "    DIR = './'\n",
    "    tknzr = TweetTokenizer()\n",
    "    with open(\"epfldocs.txt\", encoding = \"utf-8\") as f:\n",
    "        content = f.readlines()\n",
    "    for text in content:\n",
    "        orig_docs.append(text)\n",
    "        # split into words\n",
    "        tokens = tknzr.tokenize(text)\n",
    "        # convert to lower case\n",
    "        tokens = [w.lower() for w in tokens]\n",
    "        # remove punctuation from each word\n",
    "        table = str.maketrans('', '', string.punctuation)\n",
    "        stripped = [w.translate(table) for w in tokens]\n",
    "        # remove remaining tokens that are not alphabetic\n",
    "        words = [word for word in stripped if word.isalpha()]\n",
    "        # filter out stop words\n",
    "        words = [w for w in words if not w in stop_words]\n",
    "\n",
    "        documents.append(' '.join(words))\n",
    "    return documents, orig_docs\n",
    "\n",
    "documents, orig_docs = read_corpus()"
   ]
  },
  {
   "cell_type": "code",
   "execution_count": 4,
   "metadata": {},
   "outputs": [],
   "source": [
    "assert(len(documents) == 1075)"
   ]
  },
  {
   "cell_type": "markdown",
   "metadata": {},
   "source": [
    "# Word Representation for Concept Identification"
   ]
  },
  {
   "cell_type": "markdown",
   "metadata": {},
   "source": [
    "We will build word representations in a latent concept space using SVD. Differently to Latent Semantic Indexing (LSI) we will derive the latent concepts space from the **word co-occurrence matrix** (and not from the term-document matrix, as in standard LSI).\n",
    "\n",
    "An entry (i,j) in the word co-occurrence matrix corresponds to the number of times the word i co-occurs with the word j in the context of word i. The context of the words consist of the words preceding or succeeding the word in the text.  \n",
    "\n",
    "By deriving an SVD from the word co-occurrence matrix, and selecting the top dimensions of the latent space, we obtain a word representation as vectors over a concept space. Commonly such word representations are also called word embeddings.\n",
    " "
   ]
  },
  {
   "cell_type": "markdown",
   "metadata": {},
   "source": [
    "## Build the vocabulary by selecting top-k frequent words\n",
    "No code is required for this part."
   ]
  },
  {
   "cell_type": "code",
   "execution_count": 5,
   "metadata": {},
   "outputs": [],
   "source": [
    "# vocabulary is the list of all words\n",
    "# vocabulary_to_index maps words to their index\n",
    "\n",
    "def create_vocabulary_frequency(corpus, vocab_len):\n",
    "    '''Select top-k (k = vocab_len) words in term of frequencies as vocabulary'''\n",
    "    vocabulary_to_index = {}\n",
    "    count = defaultdict(int)\n",
    "    for document in corpus:\n",
    "        for word in document.split():\n",
    "                count[word] += 1\n",
    "    \n",
    "    sorted_count_by_freq = sorted(count.items(), key=lambda kv: kv[1], reverse=True)\n",
    "\n",
    "    vocabulary = []\n",
    "    for i, x in enumerate(sorted_count_by_freq[:vocab_len]):\n",
    "        vocabulary.append(x[0])\n",
    "        vocabulary_to_index[x[0]] = i\n",
    "    return vocabulary, vocabulary_to_index\n",
    "\n",
    "vocab_freq, vocabulary_to_index = create_vocabulary_frequency(documents, 5000)"
   ]
  },
  {
   "cell_type": "markdown",
   "metadata": {},
   "source": [
    "## Construct the word cooccurence matrix\n",
    "\n",
    "In this question, you need to construct the word co-occurence matrix, given the vocabulary and the set of documents.\n",
    "\n",
    "The value of a cell (i,j) is the number of times the word i co-occurs with the word j in the context of word i.\n",
    "\n",
    "For this question, a word $w_i$ cooccurs with a word $w_j$ in the context of word $w_i$ if $w_j$ preceeds or succeeds $w_i$ with a distance **at most 2**.\n",
    "\n",
    "Example: For this document \"*how to bake bread without bake recip*\", the words coocur with the word \"*bread*\" are \"*to, bake, without, bake*\".\n",
    "\n",
    "Make sure that you consider only words that appear in the vocabulary."
   ]
  },
  {
   "cell_type": "code",
   "execution_count": 6,
   "metadata": {},
   "outputs": [],
   "source": [
    "def construct_word_cooccurence_matrix(vocabulary_to_index, documents, k=2):\n",
    "    matrix = np.zeros((len(vocabulary_to_index), len(vocabulary_to_index)))\n",
    "    for document in documents:\n",
    "        terms = document.split()\n",
    "        for ind, term_i in enumerate(terms):\n",
    "            if term_i in vocabulary_to_index:\n",
    "                for context_ind in range(max(0, ind-2), min(len(terms), ind+3)):\n",
    "                    if context_ind != ind and terms[context_ind] in vocabulary_to_index:\n",
    "                        matrix[vocabulary_to_index[term_i], vocabulary_to_index[terms[context_ind]]] += 1\n",
    "    return matrix\n",
    "\n",
    "word_cooccur_matrix = construct_word_cooccurence_matrix(vocabulary_to_index, documents)"
   ]
  },
  {
   "cell_type": "markdown",
   "metadata": {},
   "source": [
    "You can optionally check whether the matrix you constructed is correct using the following code:"
   ]
  },
  {
   "cell_type": "code",
   "execution_count": 7,
   "metadata": {},
   "outputs": [],
   "source": [
    "assert_matrix = False\n",
    "if assert_matrix:\n",
    "    word_coor_mat = np.load(\"word_coocur_matrix.npy\")\n",
    "    assert(word_coor_mat == word_cooccur_matrix[:100,:100]).all()"
   ]
  },
  {
   "cell_type": "markdown",
   "metadata": {},
   "source": [
    "## Perform SVD on the matrix and select the largest singular values \n",
    "\n",
    "We perform SVD on the matrix $\\mathbf{M} = \\mathbf{K}\\mathbf{S}\\mathbf{D}^T$ and select the first 128 largest singular values.\n",
    "\n",
    "Then, we can use the submatrix $\\mathbf{K_s}$, corresponding to the largest singular values, as the word representation matrix. \n",
    "\n",
    "Hint 1 : Are the words represented in $\\mathbf{K_s}$ as rows or columns?\n",
    "\n",
    "Hint 2: np.linalg.svd(M, full_matrices=False) performs SVD on the matrix $\\mathbf{M}$ and returns $\\mathbf{K}, \\mathbf{S}, \\mathbf{D}^T$\n",
    "\n",
    " -  $\\mathbf{K}, \\mathbf{D}^T$ are matrices with orthonormal columns\n",
    " -  $\\mathbf{S}$ is a **vector** of singular values in a **descending** order\n",
    " \n",
    "Hint 3: np.diag(V) converts a vector to a diagonal matrix\n",
    "\n",
    "Hint 4: To select:\n",
    " - the first k rows of a matrix A, use A[0:k, :]\n",
    " - the first k columns of a matrix A, use A[:, 0:k]\n",
    " - the submatrix from first k rows and k columns of a matrix A, use A[0:k, 0:k]"
   ]
  },
  {
   "cell_type": "code",
   "execution_count": 8,
   "metadata": {},
   "outputs": [],
   "source": [
    "# Input: a word coocurrence matrix and the number of singular values that will be selected\n",
    "# Output: K_s, S_s, Dt_s are similar to the defintion in the lecture\n",
    "\n",
    "def truncated_svd(word_cooccur_matrix, num_val):\n",
    "    # The following may take 1-2 minutes since we are decomposing a matrix of size 5000x1075\n",
    "    K, S, Dt = np.linalg.svd(word_cooccur_matrix, full_matrices=False) \n",
    "    \n",
    "    K_sel = K[:, :num_val]\n",
    "    S_sel = np.diag(S)[:num_val, :num_val]\n",
    "    Dt_sel = Dt[:num_val, :]\n",
    "    return K_sel, S_sel, Dt_sel\n",
    "\n",
    "K_s, S_s, Dt_s = truncated_svd(word_cooccur_matrix,128)"
   ]
  },
  {
   "cell_type": "markdown",
   "metadata": {},
   "source": [
    "# Vector-based retrieval using Word representations\n",
    "\n"
   ]
  },
  {
   "cell_type": "markdown",
   "metadata": {},
   "source": [
    "## Document and query vectors from word representations\n",
    "\n",
    "For each document and query, we construct the corresponding vector by **averaging** its word representations.\n",
    "\n",
    "Hint: not all words are in the vocabulary!"
   ]
  },
  {
   "cell_type": "code",
   "execution_count": 9,
   "metadata": {},
   "outputs": [],
   "source": [
    "def get_doc_vecs(documents, word_embedding_matrix, vocabulary_to_index):\n",
    "    doc_vecs = np.zeros((len(documents), word_embedding_matrix.shape[1]))\n",
    "\n",
    "    w_emb = lambda w: word_embedding_matrix[vocabulary_to_index[w]] if w in vocabulary_to_index else np.zeros((word_embedding_matrix.shape[1]))\n",
    "    d_emb = lambda d: np.average(list(map(w_emb, d.split()+[''])), axis=0)\n",
    "\n",
    "    doc_vecs = np.stack(list(map(d_emb, documents)), axis=0)\n",
    "    \n",
    "    return doc_vecs\n",
    "\n",
    "doc_vecs = get_doc_vecs(documents, K_s, vocabulary_to_index)"
   ]
  },
  {
   "cell_type": "markdown",
   "metadata": {},
   "source": [
    "## Retrieve top-10 relevant documents\n",
    "\n",
    "Retrieve top-10 relevant documents for the query \"*computer science*\"\n",
    "\n",
    "Hint: you may use the function get_doc_vecs"
   ]
  },
  {
   "cell_type": "code",
   "execution_count": 10,
   "metadata": {},
   "outputs": [],
   "source": [
    "query = \"computer science\"\n",
    "\n",
    "query_vec = get_doc_vecs([query], K_s, vocabulary_to_index)[0]"
   ]
  },
  {
   "cell_type": "code",
   "execution_count": 11,
   "metadata": {},
   "outputs": [
    {
     "name": "stderr",
     "output_type": "stream",
     "text": [
      "/Users/smeros/.miniconda3/lib/python3.7/site-packages/ipykernel_launcher.py:8: RuntimeWarning: invalid value encountered in double_scalars\n",
      "  \n"
     ]
    }
   ],
   "source": [
    "def cosine_similarity(v1, v2):\n",
    "    sumxx, sumxy, sumyy = 0, 0, 0\n",
    "    for i in range(len(v1)):\n",
    "        x = v1[i]; y = v2[i]\n",
    "        sumxx += x*x\n",
    "        sumyy += y*y\n",
    "        sumxy += x*y\n",
    "    return sumxy*1.0/math.sqrt(sumxx*sumyy)\n",
    "\n",
    "def retrieve_documents(doc_vecs, query_vec, top_k):\n",
    "    scores = [[cosine_similarity(query_vec, doc_vecs[d,:]), d] for d in range(len(documents))]\n",
    "    scores.sort(key=lambda x: -x[0])\n",
    "    doc_ids = []\n",
    "    retrieved = []\n",
    "    for i in range(top_k):\n",
    "        doc_ids.append(scores[i][1])\n",
    "        retrieved.append(orig_docs[scores[i][1]])\n",
    "    return doc_ids, retrieved\n",
    "\n",
    "retrieved_ids, retrieved_docs = retrieve_documents(doc_vecs, query_vec, top_k=10)"
   ]
  },
  {
   "cell_type": "markdown",
   "metadata": {},
   "source": [
    "# Evaluation\n",
    "We consider the scikit reference code as an “oracle” that supposedly gives the correct result. "
   ]
  },
  {
   "cell_type": "code",
   "execution_count": 12,
   "metadata": {},
   "outputs": [],
   "source": [
    "# Retrieval oracle \n",
    "tf = TfidfVectorizer(analyzer='word', ngram_range=(1,1), vocabulary=vocab_freq, min_df = 1, stop_words = 'english')\n",
    "features = tf.fit_transform(documents)\n",
    "npm_tfidf = features.todense()\n",
    "\n",
    "# Return all document ids that that have cosine similarity with the query larger than a threshold\n",
    "def search_vec_sklearn(query, features, threshold=0.1):\n",
    "    new_features = tf.transform([query])\n",
    "    cosine_similarities = linear_kernel(new_features, features).flatten()\n",
    "    related_docs_indices, cos_sim_sorted = zip(*sorted(enumerate(cosine_similarities), key=itemgetter(1), \n",
    "                                                       reverse=True))\n",
    "    doc_ids = []\n",
    "    for i, cos_sim in enumerate(cos_sim_sorted):\n",
    "        if cos_sim < threshold:\n",
    "            break\n",
    "        doc_ids.append(related_docs_indices[i])\n",
    "    return doc_ids\n",
    "\n",
    "# gt_ids are the document ids retrieved by the oracle\n",
    "gt_ids = search_vec_sklearn(query, features)"
   ]
  },
  {
   "cell_type": "markdown",
   "metadata": {},
   "source": [
    "We also assume that there is a user that has done the grading of all the documents according to their relevance. \n",
    "The top-10 results using scikit-learn have grade 3, the next 10 results have grade 2, \n",
    "the rest in the list has grade 1 while non-relevant results have grade 0."
   ]
  },
  {
   "cell_type": "code",
   "execution_count": 13,
   "metadata": {},
   "outputs": [],
   "source": [
    "grade = []\n",
    "for i in range(len(documents)):\n",
    "    if i in gt_ids[:10]:\n",
    "        grade.append(3)\n",
    "    elif i in gt_ids[10:20]:\n",
    "        grade.append(2)\n",
    "    elif i in gt_ids[20:]:\n",
    "        grade.append(1)\n",
    "    else:\n",
    "        grade.append(0)"
   ]
  },
  {
   "cell_type": "markdown",
   "metadata": {},
   "source": [
    "## Evaluate retrieval result using DCG \n",
    "\n",
    "Discounted Cumulative Gain (DCG) is a retrieval metric that also takes into account the ordering of the result. \n",
    "\n",
    "The DCG accumulated at a rank $k$ is defined as:\n",
    "\n",
    "$DCG_k = \\sum_{i=1}^k \\frac{grade[i]}{log_2(i+1)}$\n",
    "\n",
    "where $grade[i]$ is the relevance score given by the user for the result at position $i$.\n",
    "\n",
    "Hint: the logarithm is computed using the function np.log2"
   ]
  },
  {
   "cell_type": "code",
   "execution_count": 14,
   "metadata": {},
   "outputs": [],
   "source": [
    "def dcg(k, retrieved_ids, grade):\n",
    "    dcg_val = 0\n",
    "    for i in range(1, k):\n",
    "        dcg_val += grade[i] / math.log2(i+1)\n",
    "    return dcg_val"
   ]
  },
  {
   "cell_type": "markdown",
   "metadata": {},
   "source": [
    "We compute the DCG for the top-1 to the top-10 retrieval results and we plot the values."
   ]
  },
  {
   "cell_type": "code",
   "execution_count": 15,
   "metadata": {},
   "outputs": [
    {
     "data": {
      "text/plain": [
       "[<matplotlib.lines.Line2D at 0x1a24d003d0>]"
      ]
     },
     "execution_count": 15,
     "metadata": {},
     "output_type": "execute_result"
    },
    {
     "data": {
      "image/png": "[encoded data removed]",
      "text/plain": [
       "<Figure size 432x288 with 1 Axes>"
      ]
     },
     "metadata": {
      "needs_background": "light"
     },
     "output_type": "display_data"
    }
   ],
   "source": [
    "vals = []\n",
    "for i in range(10):\n",
    "    val = dcg(i, retrieved_ids, grade)\n",
    "    vals.append(val)\n",
    "    \n",
    "plt.plot(vals)"
   ]
  },
  {
   "cell_type": "markdown",
   "metadata": {},
   "source": [
    "## Explain the DCG values plot"
   ]
  },
  {
   "cell_type": "markdown",
   "metadata": {},
   "source": []
  },
  {
   "cell_type": "markdown",
   "metadata": {},
   "source": [
    "# Submit your notebook\n",
    "\n",
    "Go to [Moodle](https://moodle.epfl.ch/course/view.php?id=4051) > Exams > Midterm and follow the instructions.\n"
   ]
  },
  {
   "cell_type": "code",
   "execution_count": null,
   "metadata": {},
   "outputs": [],
   "source": []
  },
  {
   "cell_type": "markdown",
   "metadata": {},
   "source": [
    "# 📘 DIS Final Exam - Fall 2022\n",
    "\n",
    "**🎉 Welcome to DIS Final exam that takes place on the 1st of February 2023 from 15:00 to 18:00.**\n",
    "\n",
    "> Please fill the following info:\n",
    "> - Your Name: \n",
    "> - Your SCIPER:"
   ]
  },
  {
   "cell_type": "markdown",
   "metadata": {},
   "source": [
    "## Answer all the parts of the exam:\n",
    "\n",
    "- [PART 0: Rename your notebook with your SciperNo](#part0)\n",
    "\n",
    "- [PART 1: Multiple Choice Questions - Quiz](#part1)\n",
    "\n",
    "- [PART 2: Theory questions](#part2)\n",
    "\n",
    "- [PART 3: Programming exercise](#part3)\n",
    "\n",
    "    - [3.1: Parse and understand the data](#part31)\n",
    "        - 3.1.1 Create the vocabulary of the documents\n",
    "\n",
    "    - [3.2: Encode documents with Vector Space Retrieval](#part32)\n",
    "        - 3.2.1 Build the term-frequency matrix.\n",
    "        - 3.2.2 Build the inverse document-frequency matrix\n",
    "        - 3.2.3 Vectorize input with Vector Space Model\n",
    "\n",
    "    - [3.3: k-Nearest-Neighbors (kNN)](#part33)\n",
    "        - 3.3.1 Implement kNN function\n",
    "        - 3.3.2 Print k=10 closests documents to the given query\n",
    "        - 3.3.3 Implement probabilistic and weigting estimation of kNN\n",
    "        - 3.3.4 Compute weighting and probabilistic estimation of the given query\n",
    "        - 3.3.5 Implement a Rocchio classifier\n",
    "        - 3.3.6 Compute Rocchio estimation of the given query\n",
    "\n",
    "    - [3.4: Naive Bayes Classifier](#part34)\n",
    "        - 3.4.1 Compute the Naive Bayes estimation for the given query\n",
    "        - 3.4.2 Discuss the difference the above classifers\n",
    "\n",
    "    - [3.5: Association rules](#part35)\n",
    "        - 3.5.1 Compute support and confidence\n",
    "        - 3.5.2 Compute lift\n",
    "        - 3.5.3 Explanation of implemented metrics\n",
    "        \n",
    "- [SUBMIT EXAM](#submit)"
   ]
  },
  {
   "cell_type": "markdown",
   "metadata": {},
   "source": [
    "# 🍀 GOOD LUCK 🍀"
   ]
  },
  {
   "cell_type": "markdown",
   "metadata": {},
   "source": [
    "<a id='part0'></a>\n",
    "## PART 0: Rename your notebook with your SciperNo\n",
    "\n",
    "The final sumbitted file should have the following name: `SciperNo.ipynb`"
   ]
  },
  {
   "cell_type": "markdown",
   "metadata": {},
   "source": [
    "<a id='part1'></a>\n",
    "## PART 1: [Multiple Choice Questions - Quiz](https://moodle.epfl.ch/mod/quiz/view.php?id=1235302)"
   ]
  },
  {
   "cell_type": "markdown",
   "metadata": {},
   "source": [
    "<a id='part2'></a>\n",
    "## PART 2: Theory Questions"
   ]
  },
  {
   "cell_type": "markdown",
   "metadata": {},
   "source": [
    "**Given a document collection with a vocabulary consisting of three words, $V = {a,b,c}$, and two documents $d_1$ = aabc and $d_2 = abc$. The query is $q = ab$.**"
   ]
  },
  {
   "cell_type": "markdown",
   "metadata": {},
   "source": [
    "> **2.1. Using standard vector space retrieval, is it possible to enforce both a ranking $d_1 > d_2$ and $d_2 > d_1$ by adding suitable documents to the collection. If yes, give examples of such documents to be added, if no, provide an argument why this cannot be the case.**"
   ]
  },
  {
   "cell_type": "markdown",
   "metadata": {},
   "source": [
    "**➡️ PLEASE WRITE YOUR ANSWER HERE**\n",
    "\n",
    "Yes, it is possible.\n",
    "\n",
    "    d1>d2: adding d3=”b”\n",
    "    d2>d1: adding d3=”c”\n"
   ]
  },
  {
   "cell_type": "markdown",
   "metadata": {},
   "source": [
    "> **2.2. Using smoothed probabilistic retrieval (with $\\lambda=0.5$), is it possible to enforce both a ranking $d_1 > d_2$ and $d_2 > d_1$ by adding suitable documents to the collection. If yes, give examples of such documents to be added, if no, provide an argument why this cannot be the case.**\n"
   ]
  },
  {
   "cell_type": "markdown",
   "metadata": {},
   "source": [
    "**➡️ PLEASE WRITE YOUR ANSWER HERE**\n",
    "\n",
    "Yes, it is possible.\n",
    "\n",
    "    d1>d2: without adding any document, it holds true\n",
    "    d2>d1: adding d3=”aaaa”\n"
   ]
  },
  {
   "cell_type": "markdown",
   "metadata": {},
   "source": [
    "> **2.3. Is it possible to enforce a ranking $d_2 > d_1$ with vector space retrieval and $d_1 > d_2$ with probabilistic retrieval ($\\lambda=0.5$), by adding the same documents to the collection? If yes, give examples of such documents to be added, if no, provide an argument why this cannot be the case.**"
   ]
  },
  {
   "cell_type": "markdown",
   "metadata": {},
   "source": [
    "**➡️ PLEASE WRITE YOUR ANSWER HERE**\n",
    "\n",
    "Yes, it is possible. Adding a document like d3=”c” would make d2>d1 for   VSR and d1>d2 for smoothed probabilistic retrieval."
   ]
  },
  {
   "cell_type": "markdown",
   "metadata": {},
   "source": [
    "<a id='part3'></a>\n",
    "## PART 3: Programming exercise"
   ]
  },
  {
   "cell_type": "markdown",
   "metadata": {},
   "source": [
    "### 💡 THE BACKSTORY\n",
    "\n",
    "You are given a \"news topic classification\" dataset (`data.csv`), and the task is to apply document classification techniques you've learned during the semester. The goal is to classify news articles based on the topic they refer to.\n",
    "\n",
    "### 📰 THE DATA\n",
    "\n",
    "This dataset contains ~7000 samples of news articles which consists of 3 columns:\n",
    "\n",
    "The first column is `label`, the second is `title` and the third is `description`.\n",
    "\n",
    "The topic labels are numbered 1-4 where `1` represents topic **\"World\"**, `2` represents topic **\"Sports\"**, `3` represents **\"Business\"** and `4` represents **\"Sci/Tech\"**.\n",
    "\n",
    "| Column     | Description                   |\n",
    "|------------|-------------------------------|\n",
    "| **label**  | The topic label/topic id of the article|\n",
    "| **title**  | The title of the article |\n",
    "| **description**  | The description of the article |\n",
    "\n",
    "\n",
    "### ✅ THE TASK\n",
    "\n",
    "You need to build a KNN and a Naive Bayes classifer to classify the articles into the 4 different categories."
   ]
  },
  {
   "cell_type": "markdown",
   "metadata": {},
   "source": [
    "<a id='part31'></a>\n",
    "### 3.1: Parse and understand the data\n",
    "\n",
    "*(1 sub-question)*"
   ]
  },
  {
   "cell_type": "code",
   "execution_count": 1,
   "metadata": {},
   "outputs": [
    {
     "name": "stderr",
     "output_type": "stream",
     "text": [
      "[nltk_data] Downloading package stopwords to\n",
      "[nltk_data]     /Users/foroutan/nltk_data...\n",
      "[nltk_data]   Package stopwords is already up-to-date!\n",
      "[nltk_data] Downloading package punkt to /Users/foroutan/nltk_data...\n",
      "[nltk_data]   Package punkt is already up-to-date!\n"
     ]
    }
   ],
   "source": [
    "# Import libraries- you can additionally import any library you want.\n",
    "import pandas as pd\n",
    "import numpy as np\n",
    "from collections import Counter\n",
    "import math\n",
    "import string\n",
    "import nltk\n",
    "from nltk.corpus import stopwords\n",
    "from nltk.stem import PorterStemmer\n",
    "import matplotlib.pyplot as plt\n",
    "\n",
    "nltk.download('stopwords')\n",
    "nltk.download('punkt')\n",
    "\n",
    "%matplotlib inline"
   ]
  },
  {
   "cell_type": "code",
   "execution_count": 4,
   "metadata": {},
   "outputs": [
    {
     "name": "stdout",
     "output_type": "stream",
     "text": [
      "Number of news articles:  6994\n"
     ]
    },
    {
     "data": {
      "image/png": "[encoded data removed]",
      "text/plain": [
       "<Figure size 500x500 with 1 Axes>"
      ]
     },
     "metadata": {},
     "output_type": "display_data"
    }
   ],
   "source": [
    "# Read a list of documents from a file. Each line in a file is a document\n",
    "data_path = \"data.csv\"\n",
    "data = pd.read_csv(data_path)\n",
    "print(\"Number of news articles: \", len(data))\n",
    "\n",
    "# Plot the distribution of topics\n",
    "labels = data.label.unique()\n",
    "sizes = [Counter(data.label)[i] for i in labels]\n",
    "plt.figure( figsize=(5,5) )\n",
    "plt.pie(sizes ,  labels=labels , autopct='%1.1f%%')\n",
    "plt.show()"
   ]
  },
  {
   "cell_type": "code",
   "execution_count": 5,
   "metadata": {},
   "outputs": [],
   "source": [
    "# Utility functions - NOTHING TO CHANGE HERE\n",
    "stemmer = PorterStemmer()\n",
    "\n",
    "# Tokenize, stem a document\n",
    "def tokenize(text):\n",
    "    text = \"\".join([ch for ch in text if ch not in string.punctuation])\n",
    "    tokens = nltk.word_tokenize(text)\n",
    "    return \" \".join([stemmer.stem(word.lower()) for word in tokens if word not in stopwords.words('english')])\n",
    "\n",
    "# Preprocess articles\n",
    "def preprocess_text(documents):\n",
    "    docs = list()\n",
    "    for doc in documents:\n",
    "        docs.append(tokenize(doc).split())  # tokenize\n",
    "    return docs"
   ]
  },
  {
   "cell_type": "code",
   "execution_count": 6,
   "metadata": {},
   "outputs": [],
   "source": [
    "# Tokenize titles of the articles \n",
    "original_documents = [doc[\"title\"].strip() for _, doc in data.iterrows()]\n",
    "tokenized_documents = preprocess_text(original_documents)\n",
    "documents_topics = list(data.label)"
   ]
  },
  {
   "cell_type": "markdown",
   "metadata": {},
   "source": [
    "> #### 3.1.1 Create the vocabulary of the articles."
   ]
  },
  {
   "cell_type": "code",
   "execution_count": 7,
   "metadata": {},
   "outputs": [],
   "source": [
    "def get_vocabulary_frequency(documents):\n",
    "    \"\"\"\n",
    "    It parses the input documents and creates a dictionary with the terms and term frequencies.\n",
    "    \n",
    "    INPUT:\n",
    "    Doc1: hello hello world\n",
    "    Doc2: hello friend\n",
    "    \n",
    "    OUTPUT:\n",
    "    {'hello': 3,\n",
    "    'world': 1,\n",
    "    'friend': 1}\n",
    "\n",
    "    :param documents: list of list of str, with the tokenized documents.\n",
    "    :return: dict, with keys the words and values the frequency of each word.\n",
    "    \"\"\"\n",
    "    vocabulary = dict()\n",
    "    # --------------\n",
    "    # YOUR CODE HERE\n",
    "    \n",
    "    for document in documents:\n",
    "        for word in document:\n",
    "            if word in vocabulary:\n",
    "                vocabulary[word] += 1\n",
    "            else:\n",
    "                vocabulary[word] = 1\n",
    "\n",
    "    # --------------\n",
    "    return vocabulary"
   ]
  },
  {
   "cell_type": "code",
   "execution_count": 8,
   "metadata": {},
   "outputs": [
    {
     "data": {
      "text/plain": [
       "'Vocabulary Size: 8051'"
      ]
     },
     "execution_count": 8,
     "metadata": {},
     "output_type": "execute_result"
    }
   ],
   "source": [
    "# Create the vocabulary\n",
    "vocabulary = get_vocabulary_frequency(tokenized_documents)\n",
    "f\"Vocabulary Size: {len(vocabulary)}\""
   ]
  },
  {
   "cell_type": "code",
   "execution_count": 9,
   "metadata": {},
   "outputs": [
    {
     "name": "stdout",
     "output_type": "stream",
     "text": [
      "us : 308\n"
     ]
    }
   ],
   "source": [
    "# print the most frequent token\n",
    "voc_sorted_keys = sorted(vocabulary, key=vocabulary.get, reverse=True)\n",
    "print(f\"{voc_sorted_keys[0]} : {vocabulary[voc_sorted_keys[0]]}\")"
   ]
  },
  {
   "cell_type": "markdown",
   "metadata": {},
   "source": [
    "<a id='part32'></a>\n",
    "### PART 3.2: Encode documents with Vector Space Retrieval\n",
    "\n",
    "*(3 sub-questions)*\n",
    "\n",
    "In this part, we will encode/vectorize the documents using the **Vector Space Model**. \n",
    "More specifically:\n",
    "- we will compute the term-frequency matrix **(tf)**\n",
    "- we will compute the inverse document frequency **(idf)**\n",
    "- we will vectorize/encode the articles with **tf-idf**"
   ]
  },
  {
   "cell_type": "markdown",
   "metadata": {},
   "source": [
    "> #### 3.2.1 Build the term-frequency matrix"
   ]
  },
  {
   "cell_type": "code",
   "execution_count": 10,
   "metadata": {},
   "outputs": [],
   "source": [
    "def get_tf(documents, vocabulary):\n",
    "    \"\"\"\n",
    "    It creates the term-frequency matrix with rows the terms of the vocabulary and columns the number of documents.\n",
    "    Each value of the matrix represents the frequency (normalized to document max frequecy) of a term (row) \n",
    "    in a document (column).\n",
    "    Example:\n",
    "    \n",
    "    > INPUT:\n",
    "    documents:\n",
    "    Doc1: hello hello world\n",
    "    Doc2: hello friend\n",
    "    \n",
    "    voc: \n",
    "    [hello, world, friend]\n",
    "    \n",
    "    > OUPUT:    \n",
    "    [[1, 1],\n",
    "    [0.5, 0],\n",
    "    [0, 1]]\n",
    "    \n",
    "    :param documents: list of list of str, with the tokenized documents.\n",
    "    :param vocabulary: dict with the vocabulary (computed in 1.1) and each term's frequency.\n",
    "    :return: np.array with the document-term frequencies\n",
    "    \"\"\"\n",
    "    document_term_freq = np.zeros(shape=(len(vocabulary), len(documents)))\n",
    "    # --------------\n",
    "    # YOUR CODE HERE\n",
    "    for j, document in enumerate(documents):\n",
    "        counter = Counter(document)\n",
    "        max_count = counter.most_common(1)[0][1]\n",
    "        for i, word in enumerate(vocabulary):\n",
    "            if word in counter:\n",
    "                document_term_freq[i,j] = counter[word] / max_count\n",
    "    # --------------\n",
    "    \n",
    "    return document_term_freq"
   ]
  },
  {
   "cell_type": "code",
   "execution_count": 11,
   "metadata": {},
   "outputs": [
    {
     "data": {
      "text/plain": [
       "(8051, 6994)"
      ]
     },
     "execution_count": 11,
     "metadata": {},
     "output_type": "execute_result"
    }
   ],
   "source": [
    "tf = get_tf(tokenized_documents, vocabulary)\n",
    "tf.shape"
   ]
  },
  {
   "cell_type": "markdown",
   "metadata": {},
   "source": [
    "> #### 3.2.2 Build the inverse document-frequency matrix (idf)"
   ]
  },
  {
   "cell_type": "code",
   "execution_count": 12,
   "metadata": {},
   "outputs": [],
   "source": [
    "# compute IDF, storing idf values in a dictionary\n",
    "def get_idf(vocabulary, documents):\n",
    "    \"\"\"\n",
    "    It computes IDF scores, storing idf values in a dictionary.\n",
    "    \n",
    "    :param documents: list of list of str, with the tokenized tweets.\n",
    "    :param vocabulary: dict with the vocabulary (computed in 1.1) and each term's frequency.\n",
    "    :return: dict with the terms as keys and values the idf for each term.\n",
    "    \"\"\"\n",
    "    # --------------\n",
    "    # YOUR CODE HERE\n",
    "    idf = dict()\n",
    "    num_documents = len(documents)\n",
    "    for i, term in enumerate(vocabulary):\n",
    "        idf[term] = math.log(num_documents/sum(term in document for document in documents), math.e)\n",
    "    # --------------\n",
    "    return idf\n"
   ]
  },
  {
   "cell_type": "code",
   "execution_count": 13,
   "metadata": {},
   "outputs": [
    {
     "data": {
      "text/plain": [
       "8051"
      ]
     },
     "execution_count": 13,
     "metadata": {},
     "output_type": "execute_result"
    }
   ],
   "source": [
    "idf = get_idf(vocabulary, tokenized_documents)\n",
    "len(idf)"
   ]
  },
  {
   "cell_type": "markdown",
   "metadata": {},
   "source": [
    "> #### 3.2.3 Vectorization of input with the Vector Space Model"
   ]
  },
  {
   "cell_type": "code",
   "execution_count": 14,
   "metadata": {},
   "outputs": [
    {
     "data": {
      "text/plain": [
       "(6994, 8051)"
      ]
     },
     "execution_count": 14,
     "metadata": {},
     "output_type": "execute_result"
    }
   ],
   "source": [
    "# Function to generate the vector for a document (with normalisation)\n",
    "def vectorize_vsr(document, vocabulary, idf):\n",
    "    \"\"\"\n",
    "    It takes the input text and vectorizes it based on the tf-idf formula.\n",
    "    \n",
    "    :param document: list of str, with the tokenized document\n",
    "    :param vocabulary: dict, with the vocabulary (computed in 1.1) and each term's frequency.\n",
    "    :param idf: dict, with the terms as keys and values the idf for each term.\n",
    "    :return: np.array, with the vectorized document\n",
    "    \"\"\"\n",
    "    # --------------\n",
    "    # YOUR CODE HERE\n",
    "    vector = np.zeros(len(vocabulary))\n",
    "    term_freq = Counter(document)\n",
    "    max_freq = term_freq.most_common(1)[0][1]\n",
    "    for i, term in enumerate(vocabulary):\n",
    "        vector[i] = idf[term] * term_freq[term]/max_freq\n",
    "    # --------------\n",
    "    return vector\n",
    "    \n",
    "vectorized_documents = np.array([vectorize_vsr(s, vocabulary, idf)  for i, s in enumerate(tokenized_documents)])\n",
    "vectorized_documents.shape"
   ]
  },
  {
   "cell_type": "markdown",
   "metadata": {},
   "source": [
    "<a id='part33'></a>\n",
    "### PART 3.3: k-Nearest-Neighbors (kNN)\n",
    "\n",
    "*(7 sub-questions)*\n",
    "\n"
   ]
  },
  {
   "cell_type": "markdown",
   "metadata": {},
   "source": [
    "\n",
    "> #### 3.3.1 Implement kNN function (finding k nearest documents for a given document)"
   ]
  },
  {
   "cell_type": "code",
   "execution_count": 15,
   "metadata": {},
   "outputs": [],
   "source": [
    "def cosine_similarity(v1, v2):\n",
    "    \"\"\"\n",
    "    It computes cosine similarity.\n",
    "    \n",
    "    :param v1: list of floats, with the vector of a document.\n",
    "    :param v2: list of floats, with the vector of a document.\n",
    "    :return: float\n",
    "    \"\"\"\n",
    "    sumxx, sumxy, sumyy = 0, 0, 0\n",
    "    for i in range(len(v1)):\n",
    "        x = v1[i]; y = v2[i]\n",
    "        sumxx += x*x\n",
    "        sumyy += y*y\n",
    "        sumxy += x*y\n",
    "    if sumxy == 0:\n",
    "        sim = 0\n",
    "    else:\n",
    "        sim = sumxy/math.sqrt(sumxx*sumyy)\n",
    "    return sim\n",
    "\n",
    "def euclidean_distance(v1, v2):\n",
    "    \"\"\" It computes the euclidean distance between to vectors.\n",
    "    :param v1: First vector (numpy array).\n",
    "    :param v2: Second vector (numpy array).\n",
    "    :return: Euclidean distance (float)\n",
    "    \"\"\"\n",
    "    return np.linalg.norm(v1 - v2)\n",
    "    \n",
    "def knn(doc_vectors, query_vector, k=10):\n",
    "    \"\"\" It finds the `k` nearest documents to the given query (based on euclidean distance).\n",
    "    :param doc_vectors: An array of document vectors (np.array(np.array)).\n",
    "    :param query_vector: Query representation (np.array)\n",
    "    :return: List of document indices (list(int))\n",
    "    \"\"\"\n",
    "    # --------------\n",
    "    # YOUR CODE HERE\n",
    "    dist_scores = [(i, euclidean_distance(np.array(doc), np.array(query_vector))) for i, doc in enumerate(doc_vectors)]\n",
    "    dist_scores = sorted(dist_scores, key=lambda a: a[1])\n",
    "    top_k_docs = [i for i in list(zip(*dist_scores[0:k]))[0]]\n",
    "    # --------------\n",
    "    return top_k_docs\n",
    "\n"
   ]
  },
  {
   "cell_type": "markdown",
   "metadata": {},
   "source": [
    "> #### 3.3.2 Print k=10 closests documents to the given query"
   ]
  },
  {
   "cell_type": "code",
   "execution_count": 16,
   "metadata": {},
   "outputs": [
    {
     "name": "stdout",
     "output_type": "stream",
     "text": [
      "1 : Microsoft Patches the Patch\n",
      "2 : SpaceShipOne: One down, one to go\n",
      "3 : Oracle, PeopleSoft\n",
      "4 : Olympics: Party, Party, Party - Greece's Parting Gift\n",
      "5 : Oil, stocks both rise\n",
      "6 : Names in the Game\n",
      "7 : Missed target\n",
      "8 : To finish first, first be Finnish\n",
      "9 : Three into two\n",
      "10 : How to keep oil flowing? Invest, invest, invest (AFP)\n"
     ]
    }
   ],
   "source": [
    "query_title = \"Tiny telescope's big discovery opens new doors\" # label = 4\n",
    "\n",
    "query = tokenize(query_title).split()\n",
    "query_vectors = vectorize_vsr(query, vocabulary, idf)\n",
    "\n",
    "top_k_docs = knn(vectorized_documents, query_vectors[0])\n",
    "\n",
    "for k, doc_index in enumerate(top_k_docs):\n",
    "    print(f\"{k+1} : {original_documents[doc_index]}\")"
   ]
  },
  {
   "cell_type": "markdown",
   "metadata": {},
   "source": [
    "> #### 3.3.3 Implement probabilistic and weigting estimation of kNN "
   ]
  },
  {
   "cell_type": "code",
   "execution_count": 17,
   "metadata": {},
   "outputs": [],
   "source": [
    "def knn_weighting_estimate(doc_vectors, doc_labels, query_vector, k=10):\n",
    "    \"\"\" Weighting estimation for kNN classification\n",
    "    :param doc_vectors: Document vectors (np.array(np.array))\n",
    "    :param doc_labels: Document labels/topics (list)\n",
    "    :param query_vector: Query vector (np.array)\n",
    "    :param k: Number of nearest neighbors to retrieve\n",
    "    \n",
    "    :return: A dictionary containing the estimation (sorted) score for each label/topic (dict)\n",
    "    \"\"\"\n",
    "    # --------------\n",
    "    # YOUR CODE HERE\n",
    "    top_k_doc_indices = knn(doc_vectors, query_vector, k)\n",
    "    top_k_labels = [doc_labels[i] for i in top_k_doc_indices]\n",
    "\n",
    "    scores = {t:0 for t in list(set(doc_labels))}\n",
    "    for i in top_k_doc_indices:\n",
    "        scores[doc_labels[i]] += cosine_similarity(query_vector, doc_vectors[i])\n",
    "    # --------------\n",
    "    return scores\n",
    "\n",
    "def knn_probabilistic_estimate(doc_vectors, doc_labels, query_vector, k=10):\n",
    "    \"\"\" Probabilistic estimation for kNN classification\n",
    "    :param doc_vectors: Document vectors (np.array(np.array))\n",
    "    :param doc_labels: Document labels/topics (list)\n",
    "    :param query_vector: Query vector (np.array)\n",
    "    :param k: Number of nearest neighbors to retrieve\n",
    "    \n",
    "    :return: A dictionary containing the estimation (sorted) score for each label/topic (dict)\n",
    "    \"\"\"\n",
    "    # --------------\n",
    "    # YOUR CODE HERE\n",
    "    top_k_doc_indices = knn(doc_vectors, query_vector, k)\n",
    "    top_k_labels = [doc_labels[i] for i in top_k_doc_indices]\n",
    "\n",
    "    scores = {t:0 for t in list(set(doc_labels))}\n",
    "    for i in top_k_doc_indices:\n",
    "        scores[doc_labels[i]] += 1\n",
    "\n",
    "    scores = {t:scores[t] / k for t in scores}\n",
    "    # --------------\n",
    "    return scores\n"
   ]
  },
  {
   "cell_type": "markdown",
   "metadata": {},
   "source": [
    "> #### 3.3.4 Compute weighting and probabilistic estimation of the given query"
   ]
  },
  {
   "cell_type": "code",
   "execution_count": 18,
   "metadata": {},
   "outputs": [
    {
     "name": "stdout",
     "output_type": "stream",
     "text": [
      "Query: (\"Airlines Agree to Cut Flights at Chicago O'Hare\", 3)\n",
      "Weighting estimate: [(3, 0.40466850242282926), (1, 0), (2, 0), (4, 0)]\n",
      "Probabilistic estimate: [(2, 0.4), (3, 0.4), (4, 0.2), (1, 0.0)]\n",
      "*************************************************\n",
      "\n",
      "Query: ('Stuttgart Closing on Qualification', 2)\n",
      "Weighting estimate: [(3, 0.2870546649144036), (2, 0.266082291031066), (4, 0.26170928796986676), (1, 0)]\n",
      "Probabilistic estimate: [(2, 0.4), (3, 0.3), (4, 0.3), (1, 0.0)]\n",
      "*************************************************\n",
      "\n"
     ]
    }
   ],
   "source": [
    "# query_titles = [(\"Hundreds laid off at Fleet offices\", 3), (\"Stuttgart Closing on Qualification\", 2), (\"Shoppach doesn't appear ready to hit the next level\", 2)]\n",
    "query_titles = [(\"Airlines Agree to Cut Flights at Chicago O'Hare\", 3), (\"Stuttgart Closing on Qualification\", 2)]\n",
    "# query_titles = [(\"After Wait, Google Set for Market Debut\", 3), (\"Stuttgart Closing on Qualification\", 2)]\n",
    "# query_titles = [(\"Republican Convention Light on Stars\", 1)]\n",
    "queries = [tokenize(q[0]).split() for q in query_titles] \n",
    "query_vectors = [vectorize_vsr(q, vocabulary, idf) for q in queries]\n",
    "k = 10\n",
    "\n",
    "for i, query_v in enumerate(query_vectors):\n",
    "    print(f\"Query: {query_titles[i]}\")\n",
    "    w_estimate = knn_weighting_estimate(vectorized_documents, documents_topics, query_v, k)\n",
    "    w_estimate = sorted(w_estimate.items(), key=lambda x: x[1], reverse=True)\n",
    "    print(f\"Weighting estimate: {w_estimate}\")\n",
    "   \n",
    "    prob_estimate = knn_probabilistic_estimate(vectorized_documents, documents_topics, query_v, k)\n",
    "    prob_estimate = sorted(prob_estimate.items(), key=lambda x: x[1], reverse=True)\n",
    "    print(f\"Probabilistic estimate: {prob_estimate}\")\n",
    "\n",
    "    print(\"*************************************************\\n\")"
   ]
  },
  {
   "cell_type": "markdown",
   "metadata": {},
   "source": [
    "> #### 3.3.5 Compute weighting and probabilistic estimation of the given query for different values of `k`:\n",
    "\n",
    "Discuss the changes in the results by increasing the value of `k`"
   ]
  },
  {
   "cell_type": "code",
   "execution_count": 19,
   "metadata": {},
   "outputs": [
    {
     "name": "stdout",
     "output_type": "stream",
     "text": [
      "k: 1, w_label = 1, p_label: 4\n",
      "k: 5, w_label = 3, p_label: 3\n",
      "k: 10, w_label = 3, p_label: 2\n",
      "k: 15, w_label = 3, p_label: 3\n",
      "k: 20, w_label = 3, p_label: 3\n"
     ]
    }
   ],
   "source": [
    "# KNN estimation for different values of k (first query)\n",
    "for k in [1, 5, 10, 15, 20]:\n",
    "    w_estimate = knn_weighting_estimate(vectorized_documents, documents_topics, query_vectors[0], k)\n",
    "    w_estimate = sorted(w_estimate.items(), key=lambda x: x[1], reverse=True)\n",
    "    w_label = w_estimate[0][0]\n",
    "\n",
    "    prob_estimate = knn_probabilistic_estimate(vectorized_documents, documents_topics, query_vectors[0], k)\n",
    "    prob_estimate = sorted(prob_estimate.items(), key=lambda x: x[1], reverse=True)\n",
    "    p_label = prob_estimate[0][0]\n",
    "\n",
    "    print(f\"k: {k}, w_label = {w_label}, p_label: {p_label}\")"
   ]
  },
  {
   "cell_type": "markdown",
   "metadata": {},
   "source": [
    "**➡️ PLEASE WRITE YOUR ANSWER HERE**\n"
   ]
  },
  {
   "cell_type": "markdown",
   "metadata": {},
   "source": [
    "> #### 3.3.6 Implement a Rocchio classifier"
   ]
  },
  {
   "cell_type": "code",
   "execution_count": 20,
   "metadata": {},
   "outputs": [],
   "source": [
    "def rocchio_estimate(doc_vectors, doc_labels, query_vector):\n",
    "    \"\"\" \n",
    "    Rocchio classification\n",
    "    :param doc_vectors: Document vectors (np.array(np.array))\n",
    "    :param doc_labels: Document labels/topics (list)\n",
    "    :param query_vector: Query vector (np.array)\n",
    "    \n",
    "    :return: A dictionary containing the estimation score for each label/topic (dict)\n",
    "    \"\"\"\n",
    "    # --------------\n",
    "    # YOUR CODE HERE\n",
    "    topic_to_doc = {t:[] for t in list(set(doc_labels))}\n",
    "    for i, doc in enumerate(doc_vectors):\n",
    "        topic_to_doc[doc_labels[i]].append(np.array(doc))\n",
    "\n",
    "    centroids = {t:sum(topic_to_doc[t]) / len(topic_to_doc[t]) for t in topic_to_doc}\n",
    "    scores = {t:euclidean_distance(centroids[t], query_vector) for t in centroids}\n",
    "    # --------------\n",
    "    return scores\n"
   ]
  },
  {
   "cell_type": "markdown",
   "metadata": {},
   "source": [
    "> #### 3.3.7 Compute Rocchio estimation of the given query"
   ]
  },
  {
   "cell_type": "code",
   "execution_count": 21,
   "metadata": {},
   "outputs": [
    {
     "name": "stdout",
     "output_type": "stream",
     "text": [
      "Rocchio estimate: [(3, 13.007451557333788), (4, 13.07197927312842), (2, 13.084889489152548), (1, 13.08623713524477)]\n"
     ]
    }
   ],
   "source": [
    "roc_estimate = rocchio_estimate(vectorized_documents, documents_topics, query_vectors[0])\n",
    "roc_estimate = sorted(roc_estimate.items(), key=lambda x: x[1])\n",
    "print(f\"Rocchio estimate: {roc_estimate}\")"
   ]
  },
  {
   "cell_type": "markdown",
   "metadata": {},
   "source": [
    "<a id='part34'></a>\n",
    "### PART 3.4: Naive Bayes Classifier\n",
    "\n",
    "*(2 sub-questions)*"
   ]
  },
  {
   "cell_type": "code",
   "execution_count": 22,
   "metadata": {},
   "outputs": [],
   "source": [
    "# Naive Bayes Classifier\n",
    "def get_topic_tf(doc_vectors, doc_labels, vocabulary):\n",
    "    \"\"\" It computes term frequency for each topic/label\n",
    "    :param doc_vectors: Document vectors (np.array(np.array))\n",
    "    :param doc_labels: Document labels/topics (list)\n",
    "    :vocabulary: A dictionary, with keys the words and values the frequency of each word.\n",
    "    :return: A dictionary, with keys the topics/labels and values a dictionary of word frequencies  \n",
    "    \"\"\"\n",
    "    topic_term_freq = {t:{w:0 for w in vocabulary} for t in list(set(doc_labels))}\n",
    "    for i, doc in enumerate(doc_vectors):\n",
    "        counter = Counter(doc)\n",
    "        for word in vocabulary:\n",
    "            if word in counter:\n",
    "                topic_term_freq[doc_labels[i]][word] += counter[word]\n",
    "    return topic_term_freq"
   ]
  },
  {
   "cell_type": "markdown",
   "metadata": {},
   "source": [
    "> #### 3.4.1 Compute the Naive Bayes estimation for the given query"
   ]
  },
  {
   "cell_type": "code",
   "execution_count": 23,
   "metadata": {},
   "outputs": [],
   "source": [
    "def navie_bayes_classifier(tf_dict, query, topics_probs):\n",
    "    \"\"\" Naive Bayes classification\n",
    "    :param tf_dict: A dictionary, with keys the topics/labels and values a dictionary of word frequencies  \n",
    "    :param query: Query vector\n",
    "    :param topics_probs: Probaility distribution of each topic/label (dict)\n",
    "    :return: A dictionary containing the log probability estimation for each topic\n",
    "    \"\"\"\n",
    "    # --------------\n",
    "    # YOUR CODE HERE\n",
    "    log_probabilities = {t:0 for t in tf_dict}\n",
    "    for topic in tf_dict:\n",
    "        prob = 0\n",
    "        for word in query:\n",
    "            if word in tf_dict[topic]: \n",
    "                pw = (tf_dict[topic][word] + 1) / (sum([tf_dict[t][word] for t in tf_dict]) + 1)\n",
    "                prob += math.log(pw)\n",
    "\n",
    "        prob += math.log(topics_probs[topic])\n",
    "        log_probabilities[topic] = prob\n",
    "    # --------------\n",
    "    return log_probabilities"
   ]
  },
  {
   "cell_type": "code",
   "execution_count": 24,
   "metadata": {},
   "outputs": [
    {
     "name": "stdout",
     "output_type": "stream",
     "text": [
      "Naive Bayes Estimation: [(3, -4.8294503149491845), (4, -9.900134971426137), (1, -10.153488856666009), (2, -12.556024509020881)]\n"
     ]
    }
   ],
   "source": [
    "# Compute the probability distribution of topics/labels\n",
    "topics_freq = Counter(documents_topics)\n",
    "topics_probs = {t:topics_freq[t]/len(documents_topics) for t in topics_freq}\n",
    "# Compute word frequency per topic\n",
    "tf_dict = get_topic_tf(tokenized_documents, documents_topics, vocabulary)\n",
    "\n",
    "nb_estimation = navie_bayes_classifier(tf_dict, queries[0], topics_probs)\n",
    "nb_estimation = sorted(nb_estimation.items(), key=lambda x: x[1], reverse=True)\n",
    "print(f\"Naive Bayes Estimation: {nb_estimation}\")"
   ]
  },
  {
   "cell_type": "markdown",
   "metadata": {},
   "source": [
    "> #### 3.4.2 Discuss the difference the above classifers:\n",
    "1. Which kNN classifer is more accurate? Weighting or probabilistic estimation? Why?\n",
    "2. What is the difference between Rocchio and kNN classification?\n",
    "3. When Naive Bayes is prefered over kNN? "
   ]
  },
  {
   "cell_type": "markdown",
   "metadata": {},
   "source": [
    "\n",
    "\n",
    "**➡️ PLEASE WRITE YOUR ANSWER HERE**\n",
    "\n"
   ]
  },
  {
   "cell_type": "markdown",
   "metadata": {},
   "source": [
    "<a id='part35'></a>\n",
    "### PART 3.5: Association Rules\n",
    "*(3 sub-questions)*\n",
    "\n",
    "Now we would like to identify frequent rules that govern how words appear together in the news article **titles**.\n",
    "\n",
    "Using the `tokenized_documents` provided before and by considering the pair of words containing _\"microsoft\"_ (we only consider rules of size 2) do the following:\n",
    "\n",
    "* Compute **support** and **confidence** for the rules `microsoft` -> `X`, where X is a word appearing with microsoft in the title of an article.\n",
    "* From the confidence of the rules you obtained, compute **lift**."
   ]
  },
  {
   "cell_type": "markdown",
   "metadata": {},
   "source": [
    "> **3.5.1 Compute support and confidence for the rules `microsoft` -> `X`, where X is a word appearing with microsoft in the title of an article.**"
   ]
  },
  {
   "cell_type": "code",
   "execution_count": 25,
   "metadata": {},
   "outputs": [],
   "source": [
    "# --------------\n",
    "# YOUR CODE HERE\n",
    "\n",
    "# support    = {}\n",
    "# confidence = {}\n",
    "import copy \n",
    "\n",
    "# find documents that 'microsoft' appears\n",
    "docs_with_microsoft = list()\n",
    "for document in tokenized_documents:\n",
    "    if 'microsoft' in document:\n",
    "        docs_with_microsoft.append(document)\n",
    "        \n",
    "# find the frequency of word 'microsoft'\n",
    "frequency_of_microsoft = len(docs_with_microsoft)\n",
    "\n",
    "#copy vocabulary (to leave the original intact) and remove the microsoft frequency\n",
    "vocabulary_c = copy.deepcopy(vocabulary)\n",
    "vocabulary_c.pop('microsoft')\n",
    "\n",
    "# compute support and confidence for each word in vocabulary\n",
    "support = dict()\n",
    "confidence = dict()\n",
    "for word in vocabulary_c:\n",
    "    frequency_of_microsoft_x = 0\n",
    "    for document in docs_with_microsoft:\n",
    "        if word in document:\n",
    "            frequency_of_microsoft_x += 1\n",
    "    \n",
    "    support[word] = frequency_of_microsoft_x / len(tokenized_documents)\n",
    "    confidence[word] = frequency_of_microsoft_x / frequency_of_microsoft\n",
    "# --------------"
   ]
  },
  {
   "cell_type": "markdown",
   "metadata": {},
   "source": [
    "> **3.5.2 From the confidence of the rules you obtained, compute lift.**"
   ]
  },
  {
   "cell_type": "code",
   "execution_count": 26,
   "metadata": {},
   "outputs": [],
   "source": [
    "# --------------\n",
    "# YOUR CODE HERE\n",
    "\n",
    "# Compute the lift\n",
    "lift = dict()\n",
    "for word in vocabulary_c:\n",
    "    lift[word] = confidence[word] / (vocabulary[word] / len(tokenized_documents))\n",
    "# --------------"
   ]
  },
  {
   "cell_type": "code",
   "execution_count": 27,
   "metadata": {},
   "outputs": [
    {
     "data": {
      "text/plain": [
       "{'search': 0.0014297969688304261,\n",
       " 'window': 0.0012868172719473834,\n",
       " 'music': 0.0012868172719473834}"
      ]
     },
     "execution_count": 27,
     "metadata": {},
     "output_type": "execute_result"
    }
   ],
   "source": [
    "# Show the 3 rules with highest support\n",
    "{k: v for k, v in sorted(support.items(), key=lambda item: item[1], reverse=True)[:3]}"
   ]
  },
  {
   "cell_type": "code",
   "execution_count": 28,
   "metadata": {},
   "outputs": [
    {
     "data": {
      "text/plain": [
       "{'search': 0.06493506493506493,\n",
       " 'window': 0.05844155844155844,\n",
       " 'music': 0.05844155844155844}"
      ]
     },
     "execution_count": 28,
     "metadata": {},
     "output_type": "execute_result"
    }
   ],
   "source": [
    "# Show the 3 rules with highest confidence\n",
    "{k: v for k, v in sorted(confidence.items(), key=lambda item: item[1], reverse=True)[:3]}"
   ]
  },
  {
   "cell_type": "code",
   "execution_count": 29,
   "metadata": {},
   "outputs": [
    {
     "data": {
      "text/plain": [
       "{'hotmail': 45.41558441558441,\n",
       " '2003': 45.41558441558441,\n",
       " 'beta': 45.41558441558441}"
      ]
     },
     "execution_count": 29,
     "metadata": {},
     "output_type": "execute_result"
    }
   ],
   "source": [
    "# Show the 3 rules with highest lift\n",
    "{k: v for k, v in sorted(lift.items(), key=lambda item: item[1], reverse=True)[:3]}"
   ]
  },
  {
   "cell_type": "markdown",
   "metadata": {},
   "source": [
    "## 🔚 END OF EXAM\n",
    "> Don't forget to change the submitted file with your SciperNo as the file name before submitting.\n",
    "\n",
    "<a id='submit'></a>\n",
    "#### [SUBMIT HERE](https://moodle.epfl.ch/mod/quiz/view.php?id=1235303)"
   ]
  },
  {
   "cell_type": "code",
   "execution_count": null,
   "metadata": {},
   "outputs": [],
   "source": []
  },
  {
   "cell_type": "code",
   "execution_count": null,
   "metadata": {},
   "outputs": [],
   "source": []
  },
  {
   "cell_type": "markdown",
   "metadata": {},
   "source": [
    "# 📘 DIS Midterm - Fall 2022\n",
    "\n",
    "**🎉 Welcome to DIS Midterm that takes place on the 27th of Octomber 2022 from 12:15 to 13:00.**\n",
    "\n",
    "> Please fill the following info:\n",
    "> - Your Name: \n",
    "> - Your SCIPER:"
   ]
  },
  {
   "cell_type": "markdown",
   "metadata": {},
   "source": [
    "### 💡 THE BACKSTORY\n",
    "\n",
    "You are an engineer working in the sports news articles website: _allaboutsports.ch_ . The editors' team of this news portal wants to create a piece for the upcoming Summer Olympic Games for the swimming Olympic medalist Katie Ledecky. To do so, they want to collect information not only from the news coverage but also from what is being said about her on social media. Therefore, you are using the Twitter data that have have the hashtag of _#allaboutsportsch_ news portal to find relevant to the athlete tweets that will help the editors.\n",
    "\n",
    "\n",
    "### 🐦 THE DATA\n",
    "\n",
    "The collected tweets are stored into the `allaboutsports_tweets.csv` which contains the following columns:\n",
    "\n",
    "| Column     | Description                   |\n",
    "|------------|-------------------------------|\n",
    "| **id**     | The id of the tweet           |\n",
    "| **tweet**  | The text/content of the tweet |\n",
    "| **relevant**  | Gold labels for retrieval model evaluation in Part 5 |\n",
    "\n",
    "\n",
    "### ✅ THE TASK\n",
    "\n",
    "Build a retrieval system that searches the tweets and retrieve the ones that talk about Katie Ledecky.\n",
    "\n",
    "You will test a Vector Space retrieval model and a Probabilistic model, and you will compare their results & performance."
   ]
  },
  {
   "cell_type": "markdown",
   "metadata": {},
   "source": [
    "## Answer all the parts of the midterm:\n",
    "\n",
    "- [PART 0: Rename your notebook with your SciperNo](#part0)\n",
    "\n",
    "- [PART 1: Parse and understand the data](#part1)\n",
    "    - 1.1 Create the vocabulary of the documents/tweets\n",
    "    - 1.2 Print the 5 most frequent words present in the tweets\n",
    "\n",
    "- [PART 2: Encode documents with Vector Space Retrieval](#part2)\n",
    "    - 2.1 Build the document-frequency matrix.\n",
    "    - 2.2 Build the inverse document-frequency matrix\n",
    "    - 2.3 Vectorize input with Vector Space Model\n",
    "    \n",
    "- [PART 3: Encode documents with Probabilistic Retrieval](#part3)\n",
    "    - 3.1 Compute collection probabilities for each document\n",
    "    - 3.2 Implement query-document likelohood\n",
    "\n",
    "- [PART 4: Retrieve documents](#part4)\n",
    "    - 4.1 Retrieve documents with Vector Space Retrieval \n",
    "    - 4.2 Retrieve documents with Probabilistic retrieval\n",
    "\n",
    "- [PART 5: Evaluate your retrieval system](#part5)\n",
    "    - 5.1 Discuss the precision and recall between the Vector Space and Probabilistic Retrieval\n",
    "    - 5.2 Explain the role of k in retrieval performance\n",
    "    - 5.3 Explain the role of lambda in the Probabilistic retrieval performance"
   ]
  },
  {
   "cell_type": "markdown",
   "metadata": {},
   "source": [
    "# 🍀 GOOD LUCK 🍀"
   ]
  },
  {
   "cell_type": "markdown",
   "metadata": {},
   "source": [
    "<a id='part0'></a>\n",
    "## PART 0: Rename your notebook with your SciperNo\n",
    "\n",
    "The final sumbitted file should have the following name: `SciperNo.ipynb`"
   ]
  },
  {
   "cell_type": "markdown",
   "metadata": {},
   "source": [
    "<a id='part1'></a>\n",
    "## PART 1: Parse and understand the data"
   ]
  },
  {
   "cell_type": "code",
   "execution_count": 1,
   "metadata": {},
   "outputs": [
    {
     "name": "stderr",
     "output_type": "stream",
     "text": [
      "[nltk_data] Downloading package stopwords to\n",
      "[nltk_data]     /Users/romanou/nltk_data...\n",
      "[nltk_data]   Package stopwords is already up-to-date!\n",
      "[nltk_data] Downloading package punkt to /Users/romanou/nltk_data...\n",
      "[nltk_data]   Package punkt is already up-to-date!\n"
     ]
    }
   ],
   "source": [
    "# Import libraries- you can additionally import any library you want.\n",
    "import pandas as pd\n",
    "import numpy as np\n",
    "from collections import Counter\n",
    "import math\n",
    "import string\n",
    "import nltk\n",
    "from nltk.corpus import stopwords\n",
    "from nltk.stem import PorterStemmer, WordNetLemmatizer\n",
    "import matplotlib.pyplot as plt\n",
    "import seaborn as sns\n",
    "import operator\n",
    "from functools import reduce\n",
    "nltk.download('stopwords')\n",
    "nltk.download('punkt')\n",
    "\n",
    "%matplotlib inline"
   ]
  },
  {
   "cell_type": "code",
   "execution_count": 2,
   "metadata": {},
   "outputs": [],
   "source": [
    "# Utility functions - Nothing to change here.\n",
    "stemmer = PorterStemmer()\n",
    "def tokenize(text):\n",
    "    text = \"\".join([ch for ch in text if ch not in string.punctuation])\n",
    "    tokens = nltk.word_tokenize(text)\n",
    "    return [word.lower() for word in tokens if word not in stopwords.words('english')]\n",
    "\n",
    "def preprocess_text(documents):\n",
    "    docs = list()\n",
    "    for doc in documents:\n",
    "        docs.append(tokenize(doc))  # tokenize\n",
    "    return docs"
   ]
  },
  {
   "cell_type": "code",
   "execution_count": 3,
   "metadata": {},
   "outputs": [
    {
     "data": {
      "text/plain": [
       "50"
      ]
     },
     "execution_count": 3,
     "metadata": {},
     "output_type": "execute_result"
    }
   ],
   "source": [
    "# Read the data\n",
    "tweets = pd.read_csv('allaboutsports_tweets.csv')\n",
    "\n",
    "# Clean the data\n",
    "tweets['clean_tweet'] = preprocess_text(tweets['tweet'].tolist())\n",
    "len(tweets)"
   ]
  },
  {
   "cell_type": "markdown",
   "metadata": {},
   "source": [
    "> #### 1.1 Create the vocabulary of the documents/tweets."
   ]
  },
  {
   "cell_type": "code",
   "execution_count": 4,
   "metadata": {},
   "outputs": [],
   "source": [
    "def get_vocabulary_frequency(documents):\n",
    "    \"\"\"\n",
    "    It parses the input documents and creates a dictionary with the terms and term frequencies.\n",
    "    \n",
    "    INPUT:\n",
    "    Doc1: hello hello world\n",
    "    Doc2: hello friend\n",
    "    \n",
    "    OUTPUT:\n",
    "    {'hello': 2,\n",
    "    'world': 1,\n",
    "    'friend': 1}\n",
    "\n",
    "    :param documents: list of list of str, with the tokenized tweets.\n",
    "    :return: dict, with keys the words and values the frequency of each word.\n",
    "    \"\"\"\n",
    "    vocabulary = dict()\n",
    "    # --------------\n",
    "    # YOUR CODE HERE\n",
    "    \n",
    "    for document in documents:\n",
    "        for word in document:\n",
    "            if word in vocabulary:\n",
    "                vocabulary[word] += 1\n",
    "            else:\n",
    "                vocabulary[word] = 1\n",
    "\n",
    "    # --------------\n",
    "    return vocabulary"
   ]
  },
  {
   "cell_type": "code",
   "execution_count": 5,
   "metadata": {},
   "outputs": [
    {
     "data": {
      "text/plain": [
       "412"
      ]
     },
     "execution_count": 5,
     "metadata": {},
     "output_type": "execute_result"
    }
   ],
   "source": [
    "voc = get_vocabulary_frequency(tweets['clean_tweet'].tolist())\n",
    "len(voc)"
   ]
  },
  {
   "cell_type": "markdown",
   "metadata": {},
   "source": [
    "> #### 1.2 Print the 5 most frequent words present in the tweets.\n",
    "> Use the vocabulary frequencies you created in the previous question to find the top-5 words/terms."
   ]
  },
  {
   "cell_type": "code",
   "execution_count": 6,
   "metadata": {},
   "outputs": [
    {
     "data": {
      "text/html": [
       "<div>\n",
       "<style scoped>\n",
       "    .dataframe tbody tr th:only-of-type {\n",
       "        vertical-align: middle;\n",
       "    }\n",
       "\n",
       "    .dataframe tbody tr th {\n",
       "        vertical-align: top;\n",
       "    }\n",
       "\n",
       "    .dataframe thead th {\n",
       "        text-align: right;\n",
       "    }\n",
       "</style>\n",
       "<table border=\"1\" class=\"dataframe\">\n",
       "  <thead>\n",
       "    <tr style=\"text-align: right;\">\n",
       "      <th></th>\n",
       "      <th>term</th>\n",
       "      <th>frequency</th>\n",
       "    </tr>\n",
       "  </thead>\n",
       "  <tbody>\n",
       "    <tr>\n",
       "      <td>0</td>\n",
       "      <td>allaboutsportsch</td>\n",
       "      <td>50</td>\n",
       "    </tr>\n",
       "    <tr>\n",
       "      <td>1</td>\n",
       "      <td>federer</td>\n",
       "      <td>18</td>\n",
       "    </tr>\n",
       "    <tr>\n",
       "      <td>2</td>\n",
       "      <td>roger</td>\n",
       "      <td>15</td>\n",
       "    </tr>\n",
       "    <tr>\n",
       "      <td>3</td>\n",
       "      <td>olympic</td>\n",
       "      <td>10</td>\n",
       "    </tr>\n",
       "    <tr>\n",
       "      <td>4</td>\n",
       "      <td>paris</td>\n",
       "      <td>9</td>\n",
       "    </tr>\n",
       "  </tbody>\n",
       "</table>\n",
       "</div>"
      ],
      "text/plain": [
       "               term  frequency\n",
       "0  allaboutsportsch         50\n",
       "1           federer         18\n",
       "2             roger         15\n",
       "3           olympic         10\n",
       "4             paris          9"
      ]
     },
     "execution_count": 6,
     "metadata": {},
     "output_type": "execute_result"
    }
   ],
   "source": [
    "# --------------\n",
    "# YOUR CODE HERE\n",
    "\n",
    "pd.DataFrame(list(reversed(sorted(voc.items(), key=lambda item: item[1]))), columns=['term', 'frequency'])[:5]\n",
    "\n",
    "# --------------"
   ]
  },
  {
   "cell_type": "markdown",
   "metadata": {},
   "source": [
    "<a id='part2'></a>\n",
    "## PART 2: Encode documents with Vector Space Retrieval\n",
    "\n",
    "In this part we will encode/vectorize the documents using the **Vector Space Model**. \n",
    "More specifically:\n",
    "- we will compute the term-frequency matrix **(tf)**\n",
    "- we will compute the inverse document frequency **(idf)**\n",
    "- we will vectorize/encode the tweets with **tf-idf**\n",
    "- we will implement the **cosine similarity**"
   ]
  },
  {
   "cell_type": "markdown",
   "metadata": {},
   "source": [
    "> #### 2.1 Build the term-frequency matrix"
   ]
  },
  {
   "cell_type": "code",
   "execution_count": 7,
   "metadata": {},
   "outputs": [],
   "source": [
    "def get_tf(documents, vocabulary):\n",
    "    \"\"\"\n",
    "    It creates the term-frequency matrix with rows the terms of the vocabulary and columns the number of documents.\n",
    "    Each value of the matrix represents the frequency (normalized to document max frequecy) of a term (row) in a document (column).\n",
    "    Example:\n",
    "    \n",
    "    > INPUT:\n",
    "    documents:\n",
    "    Doc1: hello hello world\n",
    "    Doc2: hello friend\n",
    "    \n",
    "    voc: \n",
    "    [hello, world, friend]\n",
    "    \n",
    "    > OUPUT:    \n",
    "    [[1, 1],\n",
    "    [0.5, 0],\n",
    "    [0, 1]]\n",
    "    \n",
    "    :param documents: list of list of str, with the tokenized tweets.\n",
    "    :param vocabulary: dict with the vocabulary (computed in 1.1) and each term's frequency.\n",
    "    :return: np.array with the document-term frequencies\n",
    "    \"\"\"\n",
    "    document_term_freq = np.zeros(shape=(len(vocabulary), len(documents)))\n",
    "    # --------------\n",
    "    # YOUR CODE HERE\n",
    "    for j, document in enumerate(documents):\n",
    "        counter = Counter(document)\n",
    "        max_count = counter.most_common(1)[0][1]\n",
    "        for i, word in enumerate(vocabulary):\n",
    "            if word in counter:\n",
    "                document_term_freq[i,j] = counter[word] / max_count\n",
    "    # --------------\n",
    "    \n",
    "    return document_term_freq"
   ]
  },
  {
   "cell_type": "code",
   "execution_count": 8,
   "metadata": {},
   "outputs": [
    {
     "data": {
      "text/plain": [
       "(412, 50)"
      ]
     },
     "execution_count": 8,
     "metadata": {},
     "output_type": "execute_result"
    }
   ],
   "source": [
    "tf = get_tf(tweets['clean_tweet'].tolist(), voc)\n",
    "tf.shape"
   ]
  },
  {
   "cell_type": "markdown",
   "metadata": {},
   "source": [
    "> #### 2.2 Build the inverse document-frequency matrix (idf)"
   ]
  },
  {
   "cell_type": "code",
   "execution_count": 9,
   "metadata": {},
   "outputs": [],
   "source": [
    "def get_idf(documents, vocabulary):\n",
    "    \"\"\"\n",
    "    It computes IDF scores, storing idf values in a dictionary.\n",
    "    \n",
    "    :param documents: list of list of str, with the tokenized tweets.\n",
    "    :param vocabulary: dict with the vocabulary (computed in 1.1) and each term's frequency.\n",
    "    :return: dict with the terms as keys and values the idf for each term.\n",
    "    \"\"\"\n",
    "    idf = dict()\n",
    "    # --------------\n",
    "    # YOUR CODE HERE\n",
    "    num_documents = len(documents)\n",
    "    for i, term in enumerate(vocabulary):\n",
    "        idf[term] = math.log(num_documents/sum(term in document for document in documents), math.e)\n",
    "    # --------------\n",
    "    return idf"
   ]
  },
  {
   "cell_type": "code",
   "execution_count": 10,
   "metadata": {},
   "outputs": [
    {
     "data": {
      "text/plain": [
       "412"
      ]
     },
     "execution_count": 10,
     "metadata": {},
     "output_type": "execute_result"
    }
   ],
   "source": [
    "idf = get_idf(tweets['clean_tweet'].tolist(), voc)\n",
    "len(idf)"
   ]
  },
  {
   "cell_type": "code",
   "execution_count": 11,
   "metadata": {},
   "outputs": [
    {
     "data": {
      "text/plain": [
       "2.120263536200091"
      ]
     },
     "execution_count": 11,
     "metadata": {},
     "output_type": "execute_result"
    }
   ],
   "source": [
    "idf['katie']"
   ]
  },
  {
   "cell_type": "markdown",
   "metadata": {},
   "source": [
    "#### Vectorization of input with the Vector Space Model"
   ]
  },
  {
   "cell_type": "code",
   "execution_count": 12,
   "metadata": {},
   "outputs": [],
   "source": [
    "def vectorize_vsr(document, vocabulary, idf):\n",
    "    \"\"\"\n",
    "    It takes the input text and vectorizes it based on the tf-idf formula.\n",
    "    \n",
    "    :param document: list of str, with the tokenized tweet\n",
    "    :param vocabulary: dict, with the vocabulary (computed in 1.1) and each term's frequency.\n",
    "    :param idf: dict, with the terms as keys and values the idf for each term.\n",
    "    :return: np.array, with the vectorized tweet\n",
    "    \"\"\"\n",
    "    vector = np.zeros(len(vocabulary))\n",
    "    term_freq = Counter(document)\n",
    "    max_freq = term_freq.most_common(1)[0][1]\n",
    "    for i, term in enumerate(vocabulary):\n",
    "        vector[i] = idf[term] * term_freq[term]/max_freq\n",
    "    return vector"
   ]
  },
  {
   "cell_type": "code",
   "execution_count": 13,
   "metadata": {},
   "outputs": [
    {
     "data": {
      "text/plain": [
       "(50, 412)"
      ]
     },
     "execution_count": 13,
     "metadata": {},
     "output_type": "execute_result"
    }
   ],
   "source": [
    "vectorized_documents = np.array([vectorize_vsr(doc, voc, idf) for doc in tweets['clean_tweet'].tolist()])\n",
    "vectorized_documents.shape"
   ]
  },
  {
   "cell_type": "markdown",
   "metadata": {},
   "source": [
    "#### Cosine similarity for Vector Space Retrieval "
   ]
  },
  {
   "cell_type": "code",
   "execution_count": 14,
   "metadata": {},
   "outputs": [],
   "source": [
    "def cosine_similarity(v1,v2):\n",
    "    \"\"\"\n",
    "    It computes cosine similarity.\n",
    "    \n",
    "    :param v1: list of floats, with the vector of a document.\n",
    "    :param v2: list of floats, with the vector of a document.\n",
    "    :return: float\n",
    "    \"\"\"\n",
    "    sumxx, sumxy, sumyy = 0, 0, 0\n",
    "    for i in range(len(v1)):\n",
    "        x = v1[i]; y = v2[i]\n",
    "        sumxx += x*x\n",
    "        sumyy += y*y\n",
    "        sumxy += x*y\n",
    "    if sumxy == 0:\n",
    "        sim = 0\n",
    "    else:\n",
    "        sim = sumxy/math.sqrt(sumxx*sumyy)\n",
    "    return sim"
   ]
  },
  {
   "cell_type": "markdown",
   "metadata": {},
   "source": [
    "<a id='part3'></a>\n",
    "## PART 3: Encode documents with Probabilistic Retrieval\n",
    "\n",
    "In this part we will encode/vectorize the documents using the **Probabilistic Model**. \n",
    "More specifically:\n",
    "- we will compute the collection probabilities for each term **($P(t|M_c)$)**\n",
    "- we will copute the query-document likelihood **$P(t_i|document)$** for each query term $t_i$"
   ]
  },
  {
   "cell_type": "markdown",
   "metadata": {},
   "source": [
    "> #### 3.1 Compute collection probabilities $P(t|M_c$) for each document"
   ]
  },
  {
   "cell_type": "code",
   "execution_count": 15,
   "metadata": {},
   "outputs": [],
   "source": [
    "def get_collection_prob(vocabulary):\n",
    "    \"\"\"\n",
    "    Computes the collection probabilities of each term present in the documents/tweets.\n",
    "    \n",
    "    :param vocabulary: dict with the vocabulary (computed in 1.1) and each term's frequency.\n",
    "    :return: dict with the collection probabilities for each term in the vocabulary.\n",
    "    \"\"\"\n",
    "    probs = dict()\n",
    "    # --------------\n",
    "    # YOUR CODE HERE\n",
    "    for term in vocabulary:\n",
    "        probs[term] = vocabulary[term] / sum(vocabulary.values())\n",
    "    # --------------\n",
    "    return probs"
   ]
  },
  {
   "cell_type": "code",
   "execution_count": 16,
   "metadata": {},
   "outputs": [
    {
     "data": {
      "text/plain": [
       "412"
      ]
     },
     "execution_count": 16,
     "metadata": {},
     "output_type": "execute_result"
    }
   ],
   "source": [
    "p_Mc = get_collection_prob(voc)\n",
    "len(p_Mc)"
   ]
  },
  {
   "cell_type": "markdown",
   "metadata": {},
   "source": [
    "> #### 3.2 Implement query-document likelihood $P(q|doc)$"
   ]
  },
  {
   "cell_type": "code",
   "execution_count": 17,
   "metadata": {},
   "outputs": [],
   "source": [
    "def compute_query_likelihood(query, document, p_Mc, l):\n",
    "    \"\"\"\n",
    "    It computes the probability of a query given a document/tweet.\n",
    "    \n",
    "    :param query: np.array with the tokenized query\n",
    "    :param document: np.array with the tokenized document\n",
    "    :param p_Mc: dict with the collection probabilities for each term in the vocabulary.\n",
    "    :param l: float, smoothing variable lambda.    \n",
    "    :return: float with the query-document likelihood\n",
    "    \"\"\"\n",
    "\n",
    "    # --------------\n",
    "    # YOUR CODE HERE\n",
    "    term_probs = list()\n",
    "    counter = Counter(document)\n",
    "    for i, word in enumerate(query):\n",
    "        # term_doc_prob: P(t|Doc) = lambda * p_Md + (1-lambda) * p_Mc\n",
    "        term_probs.append(l * (counter[word] / len(document)) + ((1-l) * p_Mc.get(word,0)))\n",
    "\n",
    "    # prob = 0 if len(term_probs) == 0 else math.prod(term_probs)  # works on python 3.8\n",
    "    prob = 0 if len(term_probs) == 0 else reduce(operator.mul, term_probs, 1)\n",
    "    # --------------\n",
    "    return prob\n"
   ]
  },
  {
   "cell_type": "markdown",
   "metadata": {},
   "source": [
    "<a id='part4'></a>\n",
    "## PART 4: Retrieve documents\n",
    "\n",
    "In this part, we will apply both **Vector Space Retrieval** and **Probabilistic retrieval** in order to get the relevant tweets to Katie Ledecky athlete. \n",
    "\n",
    "There is nothing to implement in this part, however, you should run the following cells and test your implementation in Parts 2&3."
   ]
  },
  {
   "cell_type": "code",
   "execution_count": 18,
   "metadata": {},
   "outputs": [],
   "source": [
    "query = [\"katie\",\"ledecky\",\"athlete\"]\n",
    "doc_ids = tweets['id'].tolist()"
   ]
  },
  {
   "cell_type": "markdown",
   "metadata": {},
   "source": [
    "#### Retrieves with Vector Space Retrieval for `query = \"Katie Ledecky\"` and prints the top 10 relevant documents"
   ]
  },
  {
   "cell_type": "code",
   "execution_count": 19,
   "metadata": {},
   "outputs": [],
   "source": [
    "# vectorize query and tweets\n",
    "vectorized_documents_vsr =  np.array([vectorize_vsr(doc, voc, idf) for doc in tweets['clean_tweet'].tolist()])\n",
    "vectorized_query_vsr = np.array(vectorize_vsr(query, voc, idf))\n",
    "\n",
    "# performs vector space retrieval\n",
    "scores = dict()\n",
    "for idx, doc_vec in zip(doc_ids, vectorized_documents_vsr):\n",
    "    scores[idx] = cosine_similarity(doc_vec, vectorized_query_vsr)"
   ]
  },
  {
   "cell_type": "code",
   "execution_count": 20,
   "metadata": {},
   "outputs": [
    {
     "data": {
      "text/html": [
       "<div>\n",
       "<style scoped>\n",
       "    .dataframe tbody tr th:only-of-type {\n",
       "        vertical-align: middle;\n",
       "    }\n",
       "\n",
       "    .dataframe tbody tr th {\n",
       "        vertical-align: top;\n",
       "    }\n",
       "\n",
       "    .dataframe thead th {\n",
       "        text-align: right;\n",
       "    }\n",
       "</style>\n",
       "<table border=\"1\" class=\"dataframe\">\n",
       "  <thead>\n",
       "    <tr style=\"text-align: right;\">\n",
       "      <th></th>\n",
       "      <th>id</th>\n",
       "      <th>score</th>\n",
       "    </tr>\n",
       "  </thead>\n",
       "  <tbody>\n",
       "    <tr>\n",
       "      <td>0</td>\n",
       "      <td>1</td>\n",
       "      <td>0.578184</td>\n",
       "    </tr>\n",
       "    <tr>\n",
       "      <td>1</td>\n",
       "      <td>4</td>\n",
       "      <td>0.319205</td>\n",
       "    </tr>\n",
       "    <tr>\n",
       "      <td>2</td>\n",
       "      <td>2</td>\n",
       "      <td>0.305536</td>\n",
       "    </tr>\n",
       "    <tr>\n",
       "      <td>3</td>\n",
       "      <td>6</td>\n",
       "      <td>0.295565</td>\n",
       "    </tr>\n",
       "    <tr>\n",
       "      <td>4</td>\n",
       "      <td>5</td>\n",
       "      <td>0.282030</td>\n",
       "    </tr>\n",
       "    <tr>\n",
       "      <td>5</td>\n",
       "      <td>3</td>\n",
       "      <td>0.203919</td>\n",
       "    </tr>\n",
       "    <tr>\n",
       "      <td>6</td>\n",
       "      <td>7</td>\n",
       "      <td>0.186898</td>\n",
       "    </tr>\n",
       "    <tr>\n",
       "      <td>7</td>\n",
       "      <td>45</td>\n",
       "      <td>0.138721</td>\n",
       "    </tr>\n",
       "    <tr>\n",
       "      <td>8</td>\n",
       "      <td>12</td>\n",
       "      <td>0.118039</td>\n",
       "    </tr>\n",
       "    <tr>\n",
       "      <td>9</td>\n",
       "      <td>50</td>\n",
       "      <td>0.000000</td>\n",
       "    </tr>\n",
       "  </tbody>\n",
       "</table>\n",
       "</div>"
      ],
      "text/plain": [
       "   id     score\n",
       "0   1  0.578184\n",
       "1   4  0.319205\n",
       "2   2  0.305536\n",
       "3   6  0.295565\n",
       "4   5  0.282030\n",
       "5   3  0.203919\n",
       "6   7  0.186898\n",
       "7  45  0.138721\n",
       "8  12  0.118039\n",
       "9  50  0.000000"
      ]
     },
     "execution_count": 20,
     "metadata": {},
     "output_type": "execute_result"
    }
   ],
   "source": [
    "# Print top 5 retrieved tweets\n",
    "retrieved_tweets_vsr = pd.DataFrame(list(reversed(sorted(scores.items(), key=lambda item: item[1]))),\n",
    "                                    columns=['id', 'score'])\n",
    "retrieved_tweets_vsr[:10]"
   ]
  },
  {
   "cell_type": "markdown",
   "metadata": {},
   "source": [
    "#### Retrieve with Probabilistic Retrieval for `query = \"Katie Ledecky\"` and prints the top 10 relevant along with their probability (score)."
   ]
  },
  {
   "cell_type": "code",
   "execution_count": 21,
   "metadata": {},
   "outputs": [],
   "source": [
    "# performs probabilistic retrieval\n",
    "probs = dict()\n",
    "for idx, doc in zip(doc_ids, tweets['clean_tweet'].tolist()):\n",
    "    probs[idx] = compute_query_likelihood(query, doc,  p_Mc, 0.25)"
   ]
  },
  {
   "cell_type": "code",
   "execution_count": 22,
   "metadata": {},
   "outputs": [
    {
     "data": {
      "text/html": [
       "<div>\n",
       "<style scoped>\n",
       "    .dataframe tbody tr th:only-of-type {\n",
       "        vertical-align: middle;\n",
       "    }\n",
       "\n",
       "    .dataframe tbody tr th {\n",
       "        vertical-align: top;\n",
       "    }\n",
       "\n",
       "    .dataframe thead th {\n",
       "        text-align: right;\n",
       "    }\n",
       "</style>\n",
       "<table border=\"1\" class=\"dataframe\">\n",
       "  <thead>\n",
       "    <tr style=\"text-align: right;\">\n",
       "      <th></th>\n",
       "      <th>id</th>\n",
       "      <th>score</th>\n",
       "    </tr>\n",
       "  </thead>\n",
       "  <tbody>\n",
       "    <tr>\n",
       "      <td>0</td>\n",
       "      <td>7</td>\n",
       "      <td>0.035059</td>\n",
       "    </tr>\n",
       "    <tr>\n",
       "      <td>1</td>\n",
       "      <td>45</td>\n",
       "      <td>0.028115</td>\n",
       "    </tr>\n",
       "    <tr>\n",
       "      <td>2</td>\n",
       "      <td>12</td>\n",
       "      <td>0.028115</td>\n",
       "    </tr>\n",
       "    <tr>\n",
       "      <td>3</td>\n",
       "      <td>6</td>\n",
       "      <td>0.002260</td>\n",
       "    </tr>\n",
       "    <tr>\n",
       "      <td>4</td>\n",
       "      <td>2</td>\n",
       "      <td>0.002260</td>\n",
       "    </tr>\n",
       "    <tr>\n",
       "      <td>5</td>\n",
       "      <td>4</td>\n",
       "      <td>0.001855</td>\n",
       "    </tr>\n",
       "    <tr>\n",
       "      <td>6</td>\n",
       "      <td>5</td>\n",
       "      <td>0.001544</td>\n",
       "    </tr>\n",
       "    <tr>\n",
       "      <td>7</td>\n",
       "      <td>3</td>\n",
       "      <td>0.001194</td>\n",
       "    </tr>\n",
       "    <tr>\n",
       "      <td>8</td>\n",
       "      <td>1</td>\n",
       "      <td>0.000140</td>\n",
       "    </tr>\n",
       "    <tr>\n",
       "      <td>9</td>\n",
       "      <td>50</td>\n",
       "      <td>0.000000</td>\n",
       "    </tr>\n",
       "  </tbody>\n",
       "</table>\n",
       "</div>"
      ],
      "text/plain": [
       "   id     score\n",
       "0   7  0.035059\n",
       "1  45  0.028115\n",
       "2  12  0.028115\n",
       "3   6  0.002260\n",
       "4   2  0.002260\n",
       "5   4  0.001855\n",
       "6   5  0.001544\n",
       "7   3  0.001194\n",
       "8   1  0.000140\n",
       "9  50  0.000000"
      ]
     },
     "execution_count": 22,
     "metadata": {},
     "output_type": "execute_result"
    }
   ],
   "source": [
    "# Print top 5 retrieved tweets\n",
    "retrieved_tweets_prob = pd.DataFrame(list(reversed(sorted(probs.items(), key=lambda item: item[1]))),\n",
    "                                     columns=['id', 'score'])\n",
    "retrieved_tweets_prob[:10]            "
   ]
  },
  {
   "cell_type": "markdown",
   "metadata": {},
   "source": [
    "<a id='part5'></a>\n",
    "## PART 5: Evaluate retrieval\n",
    "\n",
    "In this part, we will evaluate both retrieval systems and discuss the impact of lambda value as well as the number of retrieved documents.\n",
    "\n",
    "We are now going to use the column `'relevant'` in the dataset. It is referring to whether the tweet is relevant to the query or not. We define this column as the 'oracle' that in an ideal scenario knows which tweets are relevant for Katie Ledecky and which are not.\n",
    "Based on this, we will compute the performance of the retrieval systems we built. 🎉"
   ]
  },
  {
   "cell_type": "markdown",
   "metadata": {},
   "source": [
    "#### Precision@k & Recall@k"
   ]
  },
  {
   "cell_type": "code",
   "execution_count": 23,
   "metadata": {},
   "outputs": [],
   "source": [
    "def compute_precision_at_k(retrieved_tweets, gt, k=5):\n",
    "    \"\"\"\n",
    "    It computes the precision score at a defined set of retrieved documents (k).\n",
    "    \n",
    "    :param predict: list of predictions\n",
    "    :param gt: list of actual relevant data\n",
    "    :param k: int\n",
    "    :return: float, the precision at a given k\n",
    "    \"\"\"\n",
    "    results = retrieved_tweets.merge(gt, how=\"outer\", on=\"id\")\n",
    "    return np.array(results[:k]['relevant'].tolist()).mean()\n",
    "\n",
    "def compute_recall_at_k(retrieved_tweets, gt, k=5):\n",
    "    \"\"\"\n",
    "    It computes the recall score at a defined set of retrieved documents (k).\n",
    "    \n",
    "    :param predict: list of predictions\n",
    "    :param gt: list of actual relevant data\n",
    "    :param k: int\n",
    "    :return: float, the precision at a given k\n",
    "    \"\"\"\n",
    "    relevant = len(tweets[tweets['relevant']==1])\n",
    "    results = retrieved_tweets.merge(gt, how=\"outer\", on=\"id\")[:k]\n",
    "    hits = len(results[results['relevant']==1])\n",
    "    return hits / relevant"
   ]
  },
  {
   "cell_type": "markdown",
   "metadata": {},
   "source": [
    "> #### 5.1 Discuss the difference in performance between the Vector Space and Probabilistic Retrieval based on the Precision and Recall scores in the provided table."
   ]
  },
  {
   "cell_type": "code",
   "execution_count": 24,
   "metadata": {},
   "outputs": [
    {
     "data": {
      "text/html": [
       "<div>\n",
       "<style scoped>\n",
       "    .dataframe tbody tr th:only-of-type {\n",
       "        vertical-align: middle;\n",
       "    }\n",
       "\n",
       "    .dataframe tbody tr th {\n",
       "        vertical-align: top;\n",
       "    }\n",
       "\n",
       "    .dataframe thead th {\n",
       "        text-align: right;\n",
       "    }\n",
       "</style>\n",
       "<table border=\"1\" class=\"dataframe\">\n",
       "  <thead>\n",
       "    <tr style=\"text-align: right;\">\n",
       "      <th></th>\n",
       "      <th>Model</th>\n",
       "      <th>Precision@5</th>\n",
       "      <th>Recall@5</th>\n",
       "    </tr>\n",
       "  </thead>\n",
       "  <tbody>\n",
       "    <tr>\n",
       "      <td>0</td>\n",
       "      <td>Vector Space Retrieval</td>\n",
       "      <td>1.0</td>\n",
       "      <td>0.833</td>\n",
       "    </tr>\n",
       "    <tr>\n",
       "      <td>1</td>\n",
       "      <td>Probabilistic Retrieval</td>\n",
       "      <td>0.4</td>\n",
       "      <td>0.333</td>\n",
       "    </tr>\n",
       "  </tbody>\n",
       "</table>\n",
       "</div>"
      ],
      "text/plain": [
       "                     Model  Precision@5  Recall@5\n",
       "0   Vector Space Retrieval          1.0     0.833\n",
       "1  Probabilistic Retrieval          0.4     0.333"
      ]
     },
     "execution_count": 24,
     "metadata": {},
     "output_type": "execute_result"
    }
   ],
   "source": [
    "vsr_precision = compute_precision_at_k(retrieved_tweets_vsr, tweets[['id', 'relevant']], 5)\n",
    "prob_precision = compute_precision_at_k(retrieved_tweets_prob, tweets[['id', 'relevant']], 5)\n",
    "\n",
    "vsr_recall = compute_recall_at_k(retrieved_tweets_vsr, tweets[['id', 'relevant']], 5)\n",
    "prob_recall = compute_recall_at_k(retrieved_tweets_prob, tweets[['id', 'relevant']], 5)\n",
    "\n",
    "pd.DataFrame([('Vector Space Retrieval', vsr_precision, vsr_recall),\n",
    "              ('Probabilistic Retrieval',prob_precision, prob_recall)], \n",
    "             columns=['Model', 'Precision@5', 'Recall@5']).round(3)"
   ]
  },
  {
   "cell_type": "markdown",
   "metadata": {},
   "source": [
    "**➡️ PLEASE WRITE YOUR ANSWER HERE**\n",
    "\n",
    "|\n",
    "\n",
    "|\n",
    "\n",
    "|"
   ]
  },
  {
   "cell_type": "markdown",
   "metadata": {},
   "source": [
    "> #### 5.2 Discuss the following plot regarding the impact of the $k$ variable in the Precision@k metric."
   ]
  },
  {
   "cell_type": "code",
   "execution_count": 25,
   "metadata": {},
   "outputs": [],
   "source": [
    "ks = [1, 5, 10, 15]"
   ]
  },
  {
   "cell_type": "code",
   "execution_count": 26,
   "metadata": {},
   "outputs": [
    {
     "data": {
      "text/plain": [
       "<seaborn.axisgrid.FacetGrid at 0x1434fb898>"
      ]
     },
     "execution_count": 26,
     "metadata": {},
     "output_type": "execute_result"
    },
    {
     "data": {
      "image/png": "[encoded data removed]",
      "text/plain": [
       "<Figure size 360x360 with 1 Axes>"
      ]
     },
     "metadata": {
      "needs_background": "light"
     },
     "output_type": "display_data"
    }
   ],
   "source": [
    "# run Probabilistic Retrieval and evaluate it on different k\n",
    "res = list()\n",
    "for k in ks:\n",
    "    res.append({'Precision': compute_precision_at_k(retrieved_tweets_prob, tweets[['id', 'relevant']], k),\n",
    "                'k': k})\n",
    "res_df = pd.DataFrame(res)\n",
    "sns.relplot(data=res_df, x=\"k\", y=\"Precision\", kind=\"line\").set(title='Precision@k')"
   ]
  },
  {
   "cell_type": "markdown",
   "metadata": {},
   "source": [
    "**➡️ PLEASE WRITE YOUR ANSWER HERE**\n",
    "\n",
    "|\n",
    "\n",
    "|\n",
    "The more documents we retrieve, the more unrelated/irrelevant ones we will get too, and therefore the precision@k will be decreased at some point.\n",
    "\n",
    "_Extra note: When it comes to the recall@k case which takes into account all the relevant docs, the more documents we retrieve the more relevant to the query documents we will have._\n",
    "\n",
    "|\n"
   ]
  },
  {
   "cell_type": "markdown",
   "metadata": {},
   "source": [
    "> #### 5.3 Discuss the following plot regarding the impact of the $\\lambda$ (lambda) in the query-document likelihood probability $P(q|Doc)$.\n",
    "\n",
    "In this example we estimate the likehood for a given query and a given tweet (see below). The $P(t|M_c)$ values are the same as in the rest of the notebook and are calculated based on the whole document collection. "
   ]
  },
  {
   "cell_type": "code",
   "execution_count": 27,
   "metadata": {},
   "outputs": [
    {
     "name": "stdout",
     "output_type": "stream",
     "text": [
      "The query: \"katie ledecky swimmer\"\"\n",
      "Tweet: \"Is Katie Ledecky competing in the 2024 Paris Olympics? #allaboutsportsch\"\n"
     ]
    }
   ],
   "source": [
    "new_query = [\"katie\",\"ledecky\",\"swimmer\"]\n",
    "a_document= tweets['clean_tweet'].tolist()[3]\n",
    "\n",
    "print('The query: \"{}\"\"'.format(' '.join(new_query)))\n",
    "print('Tweet: \"{}\"'.format(tweets['tweet'].tolist()[3]))"
   ]
  },
  {
   "cell_type": "code",
   "execution_count": 28,
   "metadata": {},
   "outputs": [
    {
     "name": "stdout",
     "output_type": "stream",
     "text": [
      "   Likelihood  lambda\n",
      "0    0.000247    0.00\n",
      "1    0.001855    0.25\n",
      "2    0.004954    0.50\n",
      "3    0.009544    0.75\n",
      "4    0.015625    1.00\n"
     ]
    },
    {
     "data": {
      "text/plain": [
       "<seaborn.axisgrid.FacetGrid at 0x14365d518>"
      ]
     },
     "execution_count": 28,
     "metadata": {},
     "output_type": "execute_result"
    },
    {
     "data": {
      "image/png": "[encoded data removed]",
      "text/plain": [
       "<Figure size 360x360 with 1 Axes>"
      ]
     },
     "metadata": {
      "needs_background": "light"
     },
     "output_type": "display_data"
    }
   ],
   "source": [
    "# for each lambda get the query-document likehood estimation.\n",
    "lambdas = [0, 0.25, 0.5, 0.75, 1]\n",
    "probabilities = list()\n",
    "for l in lambdas:\n",
    "    probabilities.append({'Likelihood': compute_query_likelihood(new_query, a_document,  p_Mc, l),\n",
    "                         'lambda': l})\n",
    "\n",
    "res_df = pd.DataFrame(probabilities)\n",
    "print(res_df)\n",
    "sns.relplot(data=res_df, x=\"lambda\", y=\"Likelihood\", \n",
    "            kind=\"line\").set(title='Likelihood of a document on different Lambda values')"
   ]
  },
  {
   "cell_type": "markdown",
   "metadata": {},
   "source": [
    "**➡️ PLEASE WRITE YOUR ANSWER HERE**\n",
    "\n",
    "|\n",
    "\n",
    "Answer:\n",
    "By increasing the value of lambda, we more focus on the term frequency of the given document, while by decreasing the value we give more weight on the term distribution in the whole corpus.\n",
    "\n",
    "|\n"
   ]
  },
  {
   "cell_type": "markdown",
   "metadata": {},
   "source": [
    "## 🔚 END OF EXAM\n",
    "> Don't forget to change the submitted file with your SciperNo as the file name before submitting."
   ]
  },
  {
   "cell_type": "markdown",
   "metadata": {
    "toc": true
   },
   "source": [
    "<h1>Table of Contents<span class=\"tocSkip\"></span></h1>\n",
    "<div class=\"toc\"><ul class=\"toc-item\"><li><span><a href=\"#Distributed-Information-Systems\" data-toc-modified-id=\"Distributed-Information-Systems-0\"><span class=\"toc-item-num\">1&nbsp;&nbsp;</span>Distributed Information Systems</a></span></li><li><span><a href=\"#Word-Representation-for-Concept-Identification\" data-toc-modified-id=\"Word-Representation-for-Concept-Identification-2\"><span class=\"toc-item-num\">2&nbsp;&nbsp;</span>Word Representation for Concept Identification</a></span><ul class=\"toc-item\"><li><span><a href=\"#Build-the-vocabulary-by-selecting-top-k-frequent-words\" data-toc-modified-id=\"Build-the-vocabulary-by-selecting-top-k-frequent-words-2.1\"><span class=\"toc-item-num\">2.1&nbsp;&nbsp;</span>Build the vocabulary by selecting top-k frequent words</a></span></li><li><span><a href=\"#Construct-the-word-cooccurence-matrix\" data-toc-modified-id=\"Construct-the-word-cooccurence-matrix-2.2\"><span class=\"toc-item-num\">2.2&nbsp;&nbsp;</span>Construct the word cooccurence matrix</a></span></li><li><span><a href=\"#Perform-SVD-on-the-matrix-and-select-the-largest-singular-values\" data-toc-modified-id=\"Perform-SVD-on-the-matrix-and-select-the-largest-singular-values-2.3\"><span class=\"toc-item-num\">2.3&nbsp;&nbsp;</span>Perform SVD on the matrix and select the largest singular values</a></span></li></ul></li><li><span><a href=\"#Vector-based-retrieval-using-Word-representations\" data-toc-modified-id=\"Vector-based-retrieval-using-Word-representations-3\"><span class=\"toc-item-num\">3&nbsp;&nbsp;</span>Vector-based retrieval using Word representations</a></span><ul class=\"toc-item\"><li><span><a href=\"#Document-and-query-vectors-from-word-representations\" data-toc-modified-id=\"Document-and-query-vectors-from-word-representations-3.1\"><span class=\"toc-item-num\">3.1&nbsp;&nbsp;</span>Document and query vectors from word representations</a></span></li><li><span><a href=\"#Retrieve-top-10-relevant-documents\" data-toc-modified-id=\"Retrieve-top-10-relevant-documents-3.2\"><span class=\"toc-item-num\">3.2&nbsp;&nbsp;</span>Retrieve top-10 relevant documents</a></span></li></ul></li><li><span><a href=\"#Evaluation\" data-toc-modified-id=\"Evaluation-4\"><span class=\"toc-item-num\">4&nbsp;&nbsp;</span>Evaluation</a></span><ul class=\"toc-item\"><li><span><a href=\"#Evaluate-retrieval-result-using-DCG\" data-toc-modified-id=\"Evaluate-retrieval-result-using-DCG-4.1\"><span class=\"toc-item-num\">4.1&nbsp;&nbsp;</span>Evaluate retrieval result using DCG</a></span></li><li><span><a href=\"#Explain-the-DCG-values-plot\" data-toc-modified-id=\"Explain-the-DCG-values-plot-4.2\"><span class=\"toc-item-num\">4.2&nbsp;&nbsp;</span>Explain the DCG values plot</a></span></li></ul></li><li><span><a href=\"#Submit-your-notebook\" data-toc-modified-id=\"Submit-your-notebook-5\"><span class=\"toc-item-num\">5&nbsp;&nbsp;</span>Submit your notebook</a></span></li></ul></div>"
   ]
  },
  {
   "cell_type": "markdown",
   "metadata": {},
   "source": [
    "# Distributed Information Systems\n",
    "***Midterm Exam, Fall-Winter Semester 2021-22***\n",
    "\n",
    "The following materials are allowed: exercise sheets and solutions, past exams with your own solution, personally written notes and personally collected documentation.\n",
    "\n",
    "The exam will be held on your computer, but digital communication by any means is strictly prohibited. \n",
    "By participating to this exam you agree to these conditions.\n",
    "\n",
    "These are the instructions for the exam:\n",
    "\n",
    "1. You are not allowed to leave the examination room in the first 20 and the last 15 minutes of the exam.\n",
    "* We will publish 15 minutes before the end of the exam a password for uploading your solutions on Moodle.\n",
    "* It is not recommended to leave the exam before the password is published. If you need to leave earlier, contact us."
   ]
  },
  {
   "cell_type": "code",
   "execution_count": 1,
   "metadata": {},
   "outputs": [
    {
     "name": "stderr",
     "output_type": "stream",
     "text": [
      "[nltk_data] Downloading package punkt to /Users/romanou/nltk_data...\n",
      "[nltk_data]   Package punkt is already up-to-date!\n",
      "[nltk_data] Downloading package stopwords to\n",
      "[nltk_data]     /Users/romanou/nltk_data...\n",
      "[nltk_data]   Unzipping corpora/stopwords.zip.\n"
     ]
    }
   ],
   "source": [
    "#Required libraries\n",
    "import math\n",
    "import os\n",
    "import string\n",
    "from collections import defaultdict\n",
    "from operator import itemgetter\n",
    "from pprint import pprint\n",
    "\n",
    "import matplotlib.pyplot as plt\n",
    "import nltk\n",
    "import numpy as np\n",
    "from nltk.corpus import stopwords\n",
    "from nltk.stem import PorterStemmer, WordNetLemmatizer\n",
    "from nltk.tokenize import TweetTokenizer, word_tokenize\n",
    "from sklearn.feature_extraction.text import CountVectorizer, TfidfVectorizer\n",
    "from sklearn.metrics.pairwise import linear_kernel\n",
    "\n",
    "nltk.download('punkt')\n",
    "nltk.download('stopwords')\n",
    "stop_words = set(stopwords.words('english')).union(set(stopwords.words('french')))"
   ]
  },
  {
   "cell_type": "code",
   "execution_count": 2,
   "metadata": {},
   "outputs": [],
   "source": [
    "def read_corpus():\n",
    "    '''Reads corpus from files.'''\n",
    "    \n",
    "    documents = []\n",
    "    orig_docs = []\n",
    "    DIR = './'\n",
    "    tknzr = TweetTokenizer()\n",
    "    with open(\"epfldocs.txt\", encoding = \"utf-8\") as f:\n",
    "        content = f.readlines()\n",
    "    for text in content:\n",
    "        orig_docs.append(text)\n",
    "        # split into words\n",
    "        tokens = tknzr.tokenize(text)\n",
    "        # convert to lower case\n",
    "        tokens = [w.lower() for w in tokens]\n",
    "        # remove punctuation from each word\n",
    "        table = str.maketrans('', '', string.punctuation)\n",
    "        stripped = [w.translate(table) for w in tokens]\n",
    "        # remove remaining tokens that are not alphabetic\n",
    "        words = [word for word in stripped if word.isalpha()]\n",
    "        # filter out stop words\n",
    "        words = [w for w in words if not w in stop_words]\n",
    "\n",
    "        documents.append(' '.join(words))\n",
    "    return documents, orig_docs\n",
    "\n",
    "documents, orig_docs = read_corpus()"
   ]
  },
  {
   "cell_type": "code",
   "execution_count": 3,
   "metadata": {},
   "outputs": [],
   "source": [
    "assert(len(documents) == 1075)"
   ]
  },
  {
   "cell_type": "markdown",
   "metadata": {},
   "source": [
    "# Word Representation for Concept Identification"
   ]
  },
  {
   "cell_type": "markdown",
   "metadata": {},
   "source": [
    "We will build word representations in a latent concept space using SVD. Differently to Latent Semantic Indexing (LSI) we will derive the latent concepts space from the **word co-occurrence matrix** (and not from the term-document matrix, as in standard LSI).\n",
    "\n",
    "An entry (i,j) in the word co-occurrence matrix corresponds to the number of times the word i co-occurs with the word j in the context of word i. The context of the words consist of the words preceding or succeeding the word in the text.  \n",
    "\n",
    "By deriving an SVD from the word co-occurrence matrix, and selecting the top dimensions of the latent space, we obtain a word representation as vectors over a concept space. Commonly such word representations are also called word embeddings.\n",
    " "
   ]
  },
  {
   "cell_type": "markdown",
   "metadata": {},
   "source": [
    "## Build the vocabulary by selecting top-k frequent words\n",
    "No code is required for this part."
   ]
  },
  {
   "cell_type": "code",
   "execution_count": 4,
   "metadata": {},
   "outputs": [],
   "source": [
    "# vocabulary is the list of all words\n",
    "# vocabulary_to_index maps words to their index\n",
    "\n",
    "def create_vocabulary_frequency(corpus, vocab_len):\n",
    "    '''Select top-k (k = vocab_len) words in term of frequencies as vocabulary'''\n",
    "    vocabulary_to_index = {}\n",
    "    count = defaultdict(int)\n",
    "    for document in corpus:\n",
    "        for word in document.split():\n",
    "                count[word] += 1\n",
    "    \n",
    "    sorted_count_by_freq = sorted(count.items(), key=lambda kv: kv[1], reverse=True)\n",
    "\n",
    "    vocabulary = []\n",
    "    for i, x in enumerate(sorted_count_by_freq[:vocab_len]):\n",
    "        vocabulary.append(x[0])\n",
    "        vocabulary_to_index[x[0]] = i\n",
    "    return vocabulary, vocabulary_to_index\n",
    "\n",
    "vocab_freq, vocabulary_to_index = create_vocabulary_frequency(documents, 5000)"
   ]
  },
  {
   "cell_type": "markdown",
   "metadata": {},
   "source": [
    "## Construct the word cooccurence matrix\n",
    "\n",
    "In this question, you need to construct the word co-occurence matrix, given the vocabulary and the set of documents.\n",
    "\n",
    "The value of a cell (i,j) is the number of times the word i co-occurs with the word j in the context of word i.\n",
    "\n",
    "For this question, a word $w_i$ cooccurs with a word $w_j$ in the context of word $w_i$ if $w_j$ preceeds or succeeds $w_i$ with a distance **at most 2**.\n",
    "\n",
    "Example: For this document \"*how to bake bread without bake recip*\", the words coocur with the word \"*bread*\" are \"*to, bake, without, bake*\".\n",
    "\n",
    "Make sure that you consider only words that appear in the vocabulary."
   ]
  },
  {
   "cell_type": "code",
   "execution_count": 5,
   "metadata": {},
   "outputs": [],
   "source": [
    "def construct_word_cooccurence_matrix(vocabulary_to_index, documents, k=2):\n",
    "    matrix = np.zeros((len(vocabulary_to_index), len(vocabulary_to_index)))\n",
    "    for document in documents:\n",
    "        terms = document.split()\n",
    "        for ind, term_i in enumerate(terms):\n",
    "            if term_i in vocabulary_to_index:\n",
    "                for context_ind in range(max(0, ind-2), min(len(terms), ind+3)):\n",
    "                    if context_ind != ind and terms[context_ind] in vocabulary_to_index:\n",
    "                        matrix[vocabulary_to_index[term_i], vocabulary_to_index[terms[context_ind]]] += 1\n",
    "    return matrix\n",
    "\n",
    "word_cooccur_matrix = construct_word_cooccurence_matrix(vocabulary_to_index, documents)"
   ]
  },
  {
   "cell_type": "markdown",
   "metadata": {},
   "source": [
    "You can optionally check whether the matrix you constructed is correct using the following code:"
   ]
  },
  {
   "cell_type": "code",
   "execution_count": 6,
   "metadata": {},
   "outputs": [],
   "source": [
    "assert_matrix = False\n",
    "if assert_matrix:\n",
    "    word_coor_mat = np.load(\"word_coocur_matrix.npy\")\n",
    "    assert(word_coor_mat == word_cooccur_matrix[:100,:100]).all()"
   ]
  },
  {
   "cell_type": "markdown",
   "metadata": {},
   "source": [
    "## Perform SVD on the matrix and select the largest singular values \n",
    "\n",
    "We perform SVD on the matrix $\\mathbf{M} = \\mathbf{K}\\mathbf{S}\\mathbf{D}^T$ and select the first 128 largest singular values.\n",
    "\n",
    "Then, we can use the submatrix $\\mathbf{K_s}$, corresponding to the largest singular values, as the word representation matrix. \n",
    "\n",
    "Hint 1 : Are the words represented in $\\mathbf{K_s}$ as rows or columns?\n",
    "\n",
    "Hint 2: np.linalg.svd(M, full_matrices=False) performs SVD on the matrix $\\mathbf{M}$ and returns $\\mathbf{K}, \\mathbf{S}, \\mathbf{D}^T$\n",
    "\n",
    " -  $\\mathbf{K}, \\mathbf{D}^T$ are matrices with orthonormal columns\n",
    " -  $\\mathbf{S}$ is a **vector** of singular values in a **descending** order\n",
    " \n",
    "Hint 3: np.diag(V) converts a vector to a diagonal matrix\n",
    "\n",
    "Hint 4: To select:\n",
    " - the first k rows of a matrix A, use A[0:k, :]\n",
    " - the first k columns of a matrix A, use A[:, 0:k]\n",
    " - the submatrix from first k rows and k columns of a matrix A, use A[0:k, 0:k]"
   ]
  },
  {
   "cell_type": "code",
   "execution_count": 7,
   "metadata": {},
   "outputs": [],
   "source": [
    "# Input: a word coocurrence matrix and the number of singular values that will be selected\n",
    "# Output: K_s, S_s, Dt_s are similar to the defintion in the lecture\n",
    "\n",
    "def truncated_svd(word_cooccur_matrix, num_val):\n",
    "    # The following may take 1-2 minutes since we are decomposing a matrix of size 5000x1075\n",
    "    K, S, Dt = np.linalg.svd(word_cooccur_matrix, full_matrices=False) \n",
    "    \n",
    "    K_sel = K[:, :num_val]\n",
    "    S_sel = np.diag(S)[:num_val, :num_val]\n",
    "    Dt_sel = Dt[:num_val, :]\n",
    "    return K_sel, S_sel, Dt_sel\n",
    "\n",
    "K_s, S_s, Dt_s = truncated_svd(word_cooccur_matrix,128)"
   ]
  },
  {
   "cell_type": "markdown",
   "metadata": {},
   "source": [
    "# Vector-based retrieval using Word representations\n",
    "\n"
   ]
  },
  {
   "cell_type": "markdown",
   "metadata": {},
   "source": [
    "## Document and query vectors from word representations\n",
    "\n",
    "For each document and query, we construct the corresponding vector by **averaging** its word representations.\n",
    "\n",
    "Hint: not all words are in the vocabulary!"
   ]
  },
  {
   "cell_type": "code",
   "execution_count": 9,
   "metadata": {},
   "outputs": [],
   "source": [
    "def get_doc_vecs(documents, word_embedding_matrix, vocabulary_to_index):\n",
    "    doc_vecs = np.zeros((len(documents), word_embedding_matrix.shape[1]))\n",
    "\n",
    "    w_emb = lambda w: word_embedding_matrix[vocabulary_to_index[w]] if w in vocabulary_to_index else np.zeros((word_embedding_matrix.shape[1]))\n",
    "    d_emb = lambda d: np.average(list(map(w_emb, d.split()+[''])), axis=0)\n",
    "\n",
    "    doc_vecs = np.stack(list(map(d_emb, documents)), axis=0)\n",
    "    \n",
    "    return doc_vecs\n",
    "\n",
    "doc_vecs = get_doc_vecs(documents, K_s, vocabulary_to_index)"
   ]
  },
  {
   "cell_type": "markdown",
   "metadata": {},
   "source": [
    "## Retrieve top-10 relevant documents\n",
    "\n",
    "Retrieve top-10 relevant documents for the query \"*computer science*\"\n",
    "\n",
    "Hint: you may use the function get_doc_vecs"
   ]
  },
  {
   "cell_type": "code",
   "execution_count": 10,
   "metadata": {},
   "outputs": [],
   "source": [
    "query = \"computer science\"\n",
    "\n",
    "query_vec = get_doc_vecs([query], K_s, vocabulary_to_index)[0]"
   ]
  },
  {
   "cell_type": "code",
   "execution_count": 11,
   "metadata": {},
   "outputs": [
    {
     "name": "stderr",
     "output_type": "stream",
     "text": [
      "/Users/smeros/.miniconda3/lib/python3.7/site-packages/ipykernel_launcher.py:8: RuntimeWarning: invalid value encountered in double_scalars\n",
      "  \n"
     ]
    }
   ],
   "source": [
    "def cosine_similarity(v1, v2):\n",
    "    sumxx, sumxy, sumyy = 0, 0, 0\n",
    "    for i in range(len(v1)):\n",
    "        x = v1[i]; y = v2[i]\n",
    "        sumxx += x*x\n",
    "        sumyy += y*y\n",
    "        sumxy += x*y\n",
    "    return sumxy*1.0/math.sqrt(sumxx*sumyy)\n",
    "\n",
    "def retrieve_documents(doc_vecs, query_vec, top_k):\n",
    "    scores = [[cosine_similarity(query_vec, doc_vecs[d,:]), d] for d in range(len(documents))]\n",
    "    scores.sort(key=lambda x: -x[0])\n",
    "    doc_ids = []\n",
    "    retrieved = []\n",
    "    for i in range(top_k):\n",
    "        doc_ids.append(scores[i][1])\n",
    "        retrieved.append(orig_docs[scores[i][1]])\n",
    "    return doc_ids, retrieved\n",
    "\n",
    "retrieved_ids, retrieved_docs = retrieve_documents(doc_vecs, query_vec, top_k=10)"
   ]
  },
  {
   "cell_type": "markdown",
   "metadata": {},
   "source": [
    "# Evaluation\n",
    "We consider the scikit reference code as an “oracle” that supposedly gives the correct result. "
   ]
  },
  {
   "cell_type": "code",
   "execution_count": 12,
   "metadata": {},
   "outputs": [],
   "source": [
    "# Retrieval oracle \n",
    "tf = TfidfVectorizer(analyzer='word', ngram_range=(1,1), vocabulary=vocab_freq, min_df = 1, stop_words = 'english')\n",
    "features = tf.fit_transform(documents)\n",
    "npm_tfidf = features.todense()\n",
    "\n",
    "# Return all document ids that that have cosine similarity with the query larger than a threshold\n",
    "def search_vec_sklearn(query, features, threshold=0.1):\n",
    "    new_features = tf.transform([query])\n",
    "    cosine_similarities = linear_kernel(new_features, features).flatten()\n",
    "    related_docs_indices, cos_sim_sorted = zip(*sorted(enumerate(cosine_similarities), key=itemgetter(1), \n",
    "                                                       reverse=True))\n",
    "    doc_ids = []\n",
    "    for i, cos_sim in enumerate(cos_sim_sorted):\n",
    "        if cos_sim < threshold:\n",
    "            break\n",
    "        doc_ids.append(related_docs_indices[i])\n",
    "    return doc_ids\n",
    "\n",
    "# gt_ids are the document ids retrieved by the oracle\n",
    "gt_ids = search_vec_sklearn(query, features)"
   ]
  },
  {
   "cell_type": "markdown",
   "metadata": {},
   "source": [
    "We also assume that there is a user that has done the grading of all the documents according to their relevance. \n",
    "The top-10 results using scikit-learn have grade 3, the next 10 results have grade 2, \n",
    "the rest in the list has grade 1 while non-relevant results have grade 0."
   ]
  },
  {
   "cell_type": "code",
   "execution_count": 13,
   "metadata": {},
   "outputs": [],
   "source": [
    "grade = []\n",
    "for i in range(len(documents)):\n",
    "    if i in gt_ids[:10]:\n",
    "        grade.append(3)\n",
    "    elif i in gt_ids[10:20]:\n",
    "        grade.append(2)\n",
    "    elif i in gt_ids[20:]:\n",
    "        grade.append(1)\n",
    "    else:\n",
    "        grade.append(0)"
   ]
  },
  {
   "cell_type": "markdown",
   "metadata": {},
   "source": [
    "## Evaluate retrieval result using DCG \n",
    "\n",
    "Discounted Cumulative Gain (DCG) is a retrieval metric that also takes into account the ordering of the result. \n",
    "\n",
    "The DCG accumulated at a rank $k$ is defined as:\n",
    "\n",
    "$DCG_k = \\sum_{i=1}^k \\frac{grade[i]}{log_2(i+1)}$\n",
    "\n",
    "where $grade[i]$ is the relevance score given by the user for the result at position $i$.\n",
    "\n",
    "Hint: the logarithm is computed using the function np.log2"
   ]
  },
  {
   "cell_type": "code",
   "execution_count": 14,
   "metadata": {},
   "outputs": [],
   "source": [
    "def dcg(k, retrieved_ids, grade):\n",
    "    dcg_val = 0\n",
    "    for i in range(1, k):\n",
    "        dcg_val += grade[i] / math.log2(i+1)\n",
    "    return dcg_val"
   ]
  },
  {
   "cell_type": "markdown",
   "metadata": {},
   "source": [
    "We compute the DCG for the top-1 to the top-10 retrieval results and we plot the values."
   ]
  },
  {
   "cell_type": "code",
   "execution_count": 15,
   "metadata": {},
   "outputs": [
    {
     "data": {
      "text/plain": [
       "[<matplotlib.lines.Line2D at 0x1a24d003d0>]"
      ]
     },
     "execution_count": 15,
     "metadata": {},
     "output_type": "execute_result"
    },
    {
     "data": {
      "image/png": "[encoded data removed]",
      "text/plain": [
       "<Figure size 432x288 with 1 Axes>"
      ]
     },
     "metadata": {
      "needs_background": "light"
     },
     "output_type": "display_data"
    }
   ],
   "source": [
    "vals = []\n",
    "for i in range(10):\n",
    "    val = dcg(i, retrieved_ids, grade)\n",
    "    vals.append(val)\n",
    "    \n",
    "plt.plot(vals)"
   ]
  },
  {
   "cell_type": "markdown",
   "metadata": {},
   "source": [
    "## Explain the DCG values plot"
   ]
  },
  {
   "cell_type": "markdown",
   "metadata": {},
   "source": []
  },
  {
   "cell_type": "markdown",
   "metadata": {},
   "source": [
    "# Submit your notebook\n",
    "\n",
    "Go to [Moodle](https://moodle.epfl.ch/course/view.php?id=4051) > Exams > Midterm and follow the instructions.\n"
   ]
  },
  {
   "cell_type": "code",
   "execution_count": null,
   "metadata": {},
   "outputs": [],
   "source": []
  }
 ],
 "metadata": {
  "kernelspec": {
   "display_name": "Python 3 (ipykernel)",
   "language": "python",
   "name": "python3"
  },
  "language_info": {
   "codemirror_mode": {
    "name": "ipython",
    "version": 3
   },
   "file_extension": ".py",
   "mimetype": "text/x-python",
   "name": "python",
   "nbconvert_exporter": "python",
   "pygments_lexer": "ipython3",
   "version": "3.10.12"
  },
  "name": "_merged",
  "toc": {
   "base_numbering": "0",
   "nav_menu": {},
   "number_sections": false,
   "sideBar": true,
   "skip_h1_title": true,
   "title_cell": "Table of Contents",
   "title_sidebar": "Table of Contents",
   "toc_cell": true,
   "toc_position": {},
   "toc_section_display": false,
   "toc_window_display": false
  },
  "vscode": {
   "interpreter": {
    "hash": "75fd394e35225182f207b93437350142e41aafd8fa2b11cc1a17258e1fa2f196"
   }
  }
 },
 "nbformat": 4,
 "nbformat_minor": 4
}
